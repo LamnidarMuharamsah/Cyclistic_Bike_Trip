{
  "cells": [
    {
      "cell_type": "markdown",
      "metadata": {
        "id": "_dCWcteSp3A-"
      },
      "source": [
        "# TUGAS BISNIS : \n",
        "\n",
        "### Apa masalahnya?\n",
        "\n",
        "\n",
        "\n",
        "1. Bagaimana anggota tahunan dan pengendara biasa menggunakan sepeda Cyclistic secara berbeda?\n",
        "2. Mengapa pengendara biasa membeli keanggotaan tahunan Cyclistic?\n",
        "3. Bagaimana Cyclist menggunakan media digital untuk mempengaruhi pengendara biasa untuk menjadi anggota?\n",
        "4. Bagaimana wawasan Anda dapat mendorong keputusan bisnis?\n",
        "\n",
        "Jika kita tahu bagaimana pengendara biasa berbeda dari anggota tahunan, kita dapat mengembangkan strategi untuk menargetkan pengendara biasa dan mengubahnya menjadi anggota tahunan."
      ]
    },
    {
      "cell_type": "markdown",
      "metadata": {
        "id": "3Cqs2aNFq84U"
      },
      "source": [
        "# DATASET :\n",
        "\n",
        "Data berada di server AWS yang mudah diunduh dan diberi nama dengan benar. Saya mengunduh data 12 bulan sebelumnya dan menyimpannya secara lokal untuk langkah selanjutnya dalam proses analisis. Data ini disusun berdasarkan tahun dan kuartal fiskal. Datanya terkini, dikutip, asli tetapi tidak dapat diandalkan. Ada beberapa nilai nol dan outlier dalam data.\n",
        "\n",
        "File-file disimpan dalam comma-seperated values (CSV).\n",
        "Alat yang digunakan untuk menganalisis data ini adalah Excel dan Python"
      ]
    },
    {
      "cell_type": "markdown",
      "metadata": {
        "id": "z74TCqPTY-C9"
      },
      "source": [
        "IMPORT LIBRARI YANG AKAN DIPAKAI"
      ]
    },
    {
      "cell_type": "code",
      "execution_count": 16,
      "metadata": {
        "id": "6BvkHV8KIeLZ"
      },
      "outputs": [],
      "source": [
        "# import library\n",
        "import pandas as pd\n",
        "import numpy as np\n",
        "import seaborn as sns\n",
        "import datetime \n",
        "import matplotlib.pyplot as plt"
      ]
    },
    {
      "cell_type": "markdown",
      "metadata": {
        "id": "6c3sOlK7Im_V"
      },
      "source": [
        "# PENGUMPULAN DATA\n",
        "\n",
        "Dalam Analisis Data, langkah pertama adalah pengumpulan data di mana Anda mengumpulkan, memperoleh, dan mengukur data yang diperlukan dari sumber data internal atau eksternal yang tersedia, dan kemudian menyusun data ke dalam sistem yang sudah mapan. Saya akan menggunakan dataset Divvy untuk studi kasus. Tujuan dari skrip ini adalah untuk mengkonsolidasikan data Divvy yang diunduh ke dalam satu dataframe dan kemudian melakukan analisis sederhana untuk membantu menjawab pertanyaan kunci: \"Dengan cara apa anggota dan pengendara biasa menggunakan sepeda Divvy secara berbeda?\""
      ]
    },
    {
      "cell_type": "code",
      "execution_count": 17,
      "metadata": {
        "id": "LkLPD8ZWIsV-"
      },
      "outputs": [],
      "source": [
        "# mengimport dataset\n",
        "df1 = pd.read_csv('/content/drive/MyDrive/Dataset_Divvy/202101-divvy-tripdata.csv')\n",
        "df2 = pd.read_csv('/content/drive/MyDrive/Dataset_Divvy/202102-divvy-tripdata.csv')\n",
        "df3 = pd.read_csv('/content/drive/MyDrive/Dataset_Divvy/202103-divvy-tripdata.csv')\n",
        "df4 = pd.read_csv('/content/drive/MyDrive/Dataset_Divvy/202104-divvy-tripdata.csv')\n",
        "df5 = pd.read_csv('/content/drive/MyDrive/Dataset_Divvy/202105-divvy-tripdata.csv')\n",
        "df6 = pd.read_csv('/content/drive/MyDrive/Dataset_Divvy/202106-divvy-tripdata.csv')\n",
        "df7 = pd.read_csv('/content/drive/MyDrive/Dataset_Divvy/202107-divvy-tripdata.csv')\n",
        "df8 = pd.read_csv('/content/drive/MyDrive/Dataset_Divvy/202108-divvy-tripdata.csv')\n",
        "df9 = pd.read_csv('/content/drive/MyDrive/Dataset_Divvy/202109-divvy-tripdata.csv')\n",
        "df10 = pd.read_csv('/content/drive/MyDrive/Dataset_Divvy/202110-divvy-tripdata.csv')\n",
        "df11 = pd.read_csv('/content/drive/MyDrive/Dataset_Divvy/202111-divvy-tripdata.csv')\n",
        "df12 = pd.read_csv('/content/drive/MyDrive/Dataset_Divvy/202112-divvy-tripdata.csv')"
      ]
    },
    {
      "cell_type": "code",
      "execution_count": 18,
      "metadata": {
        "colab": {
          "base_uri": "https://localhost:8080/"
        },
        "id": "wUhQJArl68Yb",
        "outputId": "7398fff5-0436-471f-88a5-e79dcfa6035b"
      },
      "outputs": [
        {
          "output_type": "execute_result",
          "data": {
            "text/plain": [
              "(5595063, 13)"
            ]
          },
          "metadata": {},
          "execution_count": 18
        }
      ],
      "source": [
        "# menggabungkan semua data\n",
        "Cyclistic_data = pd.concat([df1, df2, df3, df4, df5, df6, df7, df8, df9, df10, df11, df12])\n",
        "Cyclistic_data.shape"
      ]
    },
    {
      "cell_type": "markdown",
      "metadata": {
        "id": "shWLhMKOT_KD"
      },
      "source": [
        "Karena saya memiliki beberapa dataset yang harus digunakan untuk analisis, saya harus melakukan integrasi data dengan menggabungkan semua dataset ke dalam satu dataset."
      ]
    },
    {
      "cell_type": "code",
      "execution_count": 19,
      "metadata": {
        "colab": {
          "base_uri": "https://localhost:8080/",
          "height": 444
        },
        "id": "ID9d0gd67FSH",
        "outputId": "4578fa48-8167-481f-edc3-cf0057c6949a"
      },
      "outputs": [
        {
          "output_type": "execute_result",
          "data": {
            "text/plain": [
              "            ride_id  rideable_type           started_at             ended_at  \\\n",
              "0  E19E6F1B8D4C42ED  electric_bike  2021-01-23 16:14:19  2021-01-23 16:24:44   \n",
              "1  DC88F20C2C55F27F  electric_bike  2021-01-27 18:43:08  2021-01-27 18:47:12   \n",
              "2  EC45C94683FE3F27  electric_bike  2021-01-21 22:35:54  2021-01-21 22:37:14   \n",
              "3  4FA453A75AE377DB  electric_bike  2021-01-07 13:31:13  2021-01-07 13:42:55   \n",
              "4  BE5E8EB4E7263A0B  electric_bike  2021-01-23 02:24:02  2021-01-23 02:24:45   \n",
              "\n",
              "           start_station_name start_station_id end_station_name  \\\n",
              "0  California Ave & Cortez St            17660              NaN   \n",
              "1  California Ave & Cortez St            17660              NaN   \n",
              "2  California Ave & Cortez St            17660              NaN   \n",
              "3  California Ave & Cortez St            17660              NaN   \n",
              "4  California Ave & Cortez St            17660              NaN   \n",
              "\n",
              "  end_station_id  start_lat  start_lng  end_lat  end_lng member_casual  \n",
              "0            NaN  41.900341 -87.696743    41.89   -87.72        member  \n",
              "1            NaN  41.900333 -87.696707    41.90   -87.69        member  \n",
              "2            NaN  41.900313 -87.696643    41.90   -87.70        member  \n",
              "3            NaN  41.900399 -87.696662    41.92   -87.69        member  \n",
              "4            NaN  41.900326 -87.696697    41.90   -87.70        casual  "
            ],
            "text/html": [
              "\n",
              "  <div id=\"df-1bedf79f-f895-423a-81bc-bf99dfcd6fb1\">\n",
              "    <div class=\"colab-df-container\">\n",
              "      <div>\n",
              "<style scoped>\n",
              "    .dataframe tbody tr th:only-of-type {\n",
              "        vertical-align: middle;\n",
              "    }\n",
              "\n",
              "    .dataframe tbody tr th {\n",
              "        vertical-align: top;\n",
              "    }\n",
              "\n",
              "    .dataframe thead th {\n",
              "        text-align: right;\n",
              "    }\n",
              "</style>\n",
              "<table border=\"1\" class=\"dataframe\">\n",
              "  <thead>\n",
              "    <tr style=\"text-align: right;\">\n",
              "      <th></th>\n",
              "      <th>ride_id</th>\n",
              "      <th>rideable_type</th>\n",
              "      <th>started_at</th>\n",
              "      <th>ended_at</th>\n",
              "      <th>start_station_name</th>\n",
              "      <th>start_station_id</th>\n",
              "      <th>end_station_name</th>\n",
              "      <th>end_station_id</th>\n",
              "      <th>start_lat</th>\n",
              "      <th>start_lng</th>\n",
              "      <th>end_lat</th>\n",
              "      <th>end_lng</th>\n",
              "      <th>member_casual</th>\n",
              "    </tr>\n",
              "  </thead>\n",
              "  <tbody>\n",
              "    <tr>\n",
              "      <th>0</th>\n",
              "      <td>E19E6F1B8D4C42ED</td>\n",
              "      <td>electric_bike</td>\n",
              "      <td>2021-01-23 16:14:19</td>\n",
              "      <td>2021-01-23 16:24:44</td>\n",
              "      <td>California Ave &amp; Cortez St</td>\n",
              "      <td>17660</td>\n",
              "      <td>NaN</td>\n",
              "      <td>NaN</td>\n",
              "      <td>41.900341</td>\n",
              "      <td>-87.696743</td>\n",
              "      <td>41.89</td>\n",
              "      <td>-87.72</td>\n",
              "      <td>member</td>\n",
              "    </tr>\n",
              "    <tr>\n",
              "      <th>1</th>\n",
              "      <td>DC88F20C2C55F27F</td>\n",
              "      <td>electric_bike</td>\n",
              "      <td>2021-01-27 18:43:08</td>\n",
              "      <td>2021-01-27 18:47:12</td>\n",
              "      <td>California Ave &amp; Cortez St</td>\n",
              "      <td>17660</td>\n",
              "      <td>NaN</td>\n",
              "      <td>NaN</td>\n",
              "      <td>41.900333</td>\n",
              "      <td>-87.696707</td>\n",
              "      <td>41.90</td>\n",
              "      <td>-87.69</td>\n",
              "      <td>member</td>\n",
              "    </tr>\n",
              "    <tr>\n",
              "      <th>2</th>\n",
              "      <td>EC45C94683FE3F27</td>\n",
              "      <td>electric_bike</td>\n",
              "      <td>2021-01-21 22:35:54</td>\n",
              "      <td>2021-01-21 22:37:14</td>\n",
              "      <td>California Ave &amp; Cortez St</td>\n",
              "      <td>17660</td>\n",
              "      <td>NaN</td>\n",
              "      <td>NaN</td>\n",
              "      <td>41.900313</td>\n",
              "      <td>-87.696643</td>\n",
              "      <td>41.90</td>\n",
              "      <td>-87.70</td>\n",
              "      <td>member</td>\n",
              "    </tr>\n",
              "    <tr>\n",
              "      <th>3</th>\n",
              "      <td>4FA453A75AE377DB</td>\n",
              "      <td>electric_bike</td>\n",
              "      <td>2021-01-07 13:31:13</td>\n",
              "      <td>2021-01-07 13:42:55</td>\n",
              "      <td>California Ave &amp; Cortez St</td>\n",
              "      <td>17660</td>\n",
              "      <td>NaN</td>\n",
              "      <td>NaN</td>\n",
              "      <td>41.900399</td>\n",
              "      <td>-87.696662</td>\n",
              "      <td>41.92</td>\n",
              "      <td>-87.69</td>\n",
              "      <td>member</td>\n",
              "    </tr>\n",
              "    <tr>\n",
              "      <th>4</th>\n",
              "      <td>BE5E8EB4E7263A0B</td>\n",
              "      <td>electric_bike</td>\n",
              "      <td>2021-01-23 02:24:02</td>\n",
              "      <td>2021-01-23 02:24:45</td>\n",
              "      <td>California Ave &amp; Cortez St</td>\n",
              "      <td>17660</td>\n",
              "      <td>NaN</td>\n",
              "      <td>NaN</td>\n",
              "      <td>41.900326</td>\n",
              "      <td>-87.696697</td>\n",
              "      <td>41.90</td>\n",
              "      <td>-87.70</td>\n",
              "      <td>casual</td>\n",
              "    </tr>\n",
              "  </tbody>\n",
              "</table>\n",
              "</div>\n",
              "      <button class=\"colab-df-convert\" onclick=\"convertToInteractive('df-1bedf79f-f895-423a-81bc-bf99dfcd6fb1')\"\n",
              "              title=\"Convert this dataframe to an interactive table.\"\n",
              "              style=\"display:none;\">\n",
              "        \n",
              "  <svg xmlns=\"http://www.w3.org/2000/svg\" height=\"24px\"viewBox=\"0 0 24 24\"\n",
              "       width=\"24px\">\n",
              "    <path d=\"M0 0h24v24H0V0z\" fill=\"none\"/>\n",
              "    <path d=\"M18.56 5.44l.94 2.06.94-2.06 2.06-.94-2.06-.94-.94-2.06-.94 2.06-2.06.94zm-11 1L8.5 8.5l.94-2.06 2.06-.94-2.06-.94L8.5 2.5l-.94 2.06-2.06.94zm10 10l.94 2.06.94-2.06 2.06-.94-2.06-.94-.94-2.06-.94 2.06-2.06.94z\"/><path d=\"M17.41 7.96l-1.37-1.37c-.4-.4-.92-.59-1.43-.59-.52 0-1.04.2-1.43.59L10.3 9.45l-7.72 7.72c-.78.78-.78 2.05 0 2.83L4 21.41c.39.39.9.59 1.41.59.51 0 1.02-.2 1.41-.59l7.78-7.78 2.81-2.81c.8-.78.8-2.07 0-2.86zM5.41 20L4 18.59l7.72-7.72 1.47 1.35L5.41 20z\"/>\n",
              "  </svg>\n",
              "      </button>\n",
              "      \n",
              "  <style>\n",
              "    .colab-df-container {\n",
              "      display:flex;\n",
              "      flex-wrap:wrap;\n",
              "      gap: 12px;\n",
              "    }\n",
              "\n",
              "    .colab-df-convert {\n",
              "      background-color: #E8F0FE;\n",
              "      border: none;\n",
              "      border-radius: 50%;\n",
              "      cursor: pointer;\n",
              "      display: none;\n",
              "      fill: #1967D2;\n",
              "      height: 32px;\n",
              "      padding: 0 0 0 0;\n",
              "      width: 32px;\n",
              "    }\n",
              "\n",
              "    .colab-df-convert:hover {\n",
              "      background-color: #E2EBFA;\n",
              "      box-shadow: 0px 1px 2px rgba(60, 64, 67, 0.3), 0px 1px 3px 1px rgba(60, 64, 67, 0.15);\n",
              "      fill: #174EA6;\n",
              "    }\n",
              "\n",
              "    [theme=dark] .colab-df-convert {\n",
              "      background-color: #3B4455;\n",
              "      fill: #D2E3FC;\n",
              "    }\n",
              "\n",
              "    [theme=dark] .colab-df-convert:hover {\n",
              "      background-color: #434B5C;\n",
              "      box-shadow: 0px 1px 3px 1px rgba(0, 0, 0, 0.15);\n",
              "      filter: drop-shadow(0px 1px 2px rgba(0, 0, 0, 0.3));\n",
              "      fill: #FFFFFF;\n",
              "    }\n",
              "  </style>\n",
              "\n",
              "      <script>\n",
              "        const buttonEl =\n",
              "          document.querySelector('#df-1bedf79f-f895-423a-81bc-bf99dfcd6fb1 button.colab-df-convert');\n",
              "        buttonEl.style.display =\n",
              "          google.colab.kernel.accessAllowed ? 'block' : 'none';\n",
              "\n",
              "        async function convertToInteractive(key) {\n",
              "          const element = document.querySelector('#df-1bedf79f-f895-423a-81bc-bf99dfcd6fb1');\n",
              "          const dataTable =\n",
              "            await google.colab.kernel.invokeFunction('convertToInteractive',\n",
              "                                                     [key], {});\n",
              "          if (!dataTable) return;\n",
              "\n",
              "          const docLinkHtml = 'Like what you see? Visit the ' +\n",
              "            '<a target=\"_blank\" href=https://colab.research.google.com/notebooks/data_table.ipynb>data table notebook</a>'\n",
              "            + ' to learn more about interactive tables.';\n",
              "          element.innerHTML = '';\n",
              "          dataTable['output_type'] = 'display_data';\n",
              "          await google.colab.output.renderOutput(dataTable, element);\n",
              "          const docLink = document.createElement('div');\n",
              "          docLink.innerHTML = docLinkHtml;\n",
              "          element.appendChild(docLink);\n",
              "        }\n",
              "      </script>\n",
              "    </div>\n",
              "  </div>\n",
              "  "
            ]
          },
          "metadata": {},
          "execution_count": 19
        }
      ],
      "source": [
        "Cyclistic_data.head()"
      ]
    },
    {
      "cell_type": "code",
      "execution_count": 20,
      "metadata": {
        "colab": {
          "base_uri": "https://localhost:8080/"
        },
        "id": "J4q8MHsATfoH",
        "outputId": "d0aa01f0-8ec6-4406-ff38-deb687b41bf6"
      },
      "outputs": [
        {
          "output_type": "stream",
          "name": "stdout",
          "text": [
            "<class 'pandas.core.frame.DataFrame'>\n",
            "Int64Index: 5595063 entries, 0 to 247539\n",
            "Data columns (total 13 columns):\n",
            " #   Column              Dtype  \n",
            "---  ------              -----  \n",
            " 0   ride_id             object \n",
            " 1   rideable_type       object \n",
            " 2   started_at          object \n",
            " 3   ended_at            object \n",
            " 4   start_station_name  object \n",
            " 5   start_station_id    object \n",
            " 6   end_station_name    object \n",
            " 7   end_station_id      object \n",
            " 8   start_lat           float64\n",
            " 9   start_lng           float64\n",
            " 10  end_lat             float64\n",
            " 11  end_lng             float64\n",
            " 12  member_casual       object \n",
            "dtypes: float64(4), object(9)\n",
            "memory usage: 597.6+ MB\n"
          ]
        }
      ],
      "source": [
        "Cyclistic_data.info()"
      ]
    },
    {
      "cell_type": "markdown",
      "metadata": {
        "id": "GtEVxCDSUiJh"
      },
      "source": [
        "Dataset berisi 4793590 baris record dan 13 kolom atribut. Tipe data atribut terdiri dari 13 tipe data objek, penggunaan ruang memori setidaknya 512,0 megabyte (MB). Langkah selanjutnya adalah pembersihan data untuk menghapus nilai null, reduksi data untuk menghapus atribut yang berlebihan dan nilai duplikat. Ini akan memastikan bahwa data berkualitas tinggi dan akan menghasilkan analisis yang berkualitas."
      ]
    },
    {
      "cell_type": "markdown",
      "metadata": {
        "id": "KJ_6rFIRtBQT"
      },
      "source": [
        "# PEMBERSIHAN DATA\n",
        "\n",
        "Membuat cadangan dataset yang digabungkan, untuk memungkinkan saya kembali ke sana jika saya mengalami masalah apa pun selama analisis saya. Mengubah tipe data kolom 'rideable_type' dan 'member_casual' menjadi tipe data kategorikal dari tipe data objek. Menghilangkan kolom 'start_lat', 'start_lng', 'end_lat', 'end_lng' dari dataset karena mereka berlebihan dan tidak diperlukan untuk analisis saya. Juga tipe data untuk 'start_at', 'ended_at' diubah menjadi tipe data datetime. Saya juga menjalankan pemeriksaan untuk melihat apakah ada nilai Null. Rupanya ada banyak nilai null. Memisahkan dan Mengekstrak tanggal dari kolom start_at, mengubah tipe data start_date menjadi datetime, membuat kolom baru menjadi 'day_name' untuk mengekstrak hari yang tepat dalam seminggu dengan kata-kata bahwa wahana tersebut terjadi, mengubah tipe datanya menjadi tipe data kategorikal dan membuat dua kolom baru untuk bulan dan tahun wahana tersebut terjadi.\n",
        "\n",
        "Selama proses pembersihan data, saya menemukan bahwa 13% dari dataset terdiri dari nilai nol yang berada di bawah maksimum 25%, jadi saya membatalkannya, saya juga mengurutkan data saya dengan urutan menaik, memeriksa data duplikat dan akhirnya menyimpan data yang sudah dibersihkan dalam file CSV baru. Dengan semua tugas ini dilakukan, dataset saya siap untuk dianalisis."
      ]
    },
    {
      "cell_type": "code",
      "execution_count": 21,
      "metadata": {
        "id": "tmFqxYDFt5h8"
      },
      "outputs": [],
      "source": [
        "# membuat dataset backup\n",
        "Cyclistic_data.to_csv('/content/drive/MyDrive/Dataset_Divvy/Cyclistic_data.csv')"
      ]
    },
    {
      "cell_type": "code",
      "execution_count": 22,
      "metadata": {
        "id": "dBhfgFP3Vmum"
      },
      "outputs": [],
      "source": [
        "# mengubah data type rideable_type dari objek menjadi category\n",
        "Cyclistic_data['rideable_type']= Cyclistic_data.rideable_type.astype('category')"
      ]
    },
    {
      "cell_type": "code",
      "execution_count": 23,
      "metadata": {
        "id": "hzvIgBsKXXKo"
      },
      "outputs": [],
      "source": [
        "# hapus colom kolom 'start_lat', 'start_lng', 'end_lat', 'end_lng' dari dataset\n",
        "Cyclistic_data.drop(['start_lat', 'start_lng', 'end_lat', 'end_lng'], axis= 1, inplace=True)"
      ]
    },
    {
      "cell_type": "code",
      "execution_count": 24,
      "metadata": {
        "id": "tkaHLAU2YbYQ"
      },
      "outputs": [],
      "source": [
        "#ubah data type 'started_at' dan 'ended_at' menjadi datetime\n",
        "Cyclistic_data['started_at']= pd.to_datetime(Cyclistic_data['started_at'], errors='coerce')\n",
        "Cyclistic_data['ended_at']= pd.to_datetime(Cyclistic_data['ended_at'], errors='coerce')"
      ]
    },
    {
      "cell_type": "code",
      "execution_count": 25,
      "metadata": {
        "colab": {
          "base_uri": "https://localhost:8080/"
        },
        "id": "zlgkcRdpqJmv",
        "outputId": "6969211c-d0a7-4ebd-ac95-f456dec34892"
      },
      "outputs": [
        {
          "output_type": "execute_result",
          "data": {
            "text/plain": [
              "ride_id                    0\n",
              "rideable_type              0\n",
              "started_at                 0\n",
              "ended_at                   0\n",
              "start_station_name    690809\n",
              "start_station_id      690806\n",
              "end_station_name      739170\n",
              "end_station_id        739170\n",
              "member_casual              0\n",
              "dtype: int64"
            ]
          },
          "metadata": {},
          "execution_count": 25
        }
      ],
      "source": [
        "# menemukan nilai yang hilang\n",
        "Cyclistic_data.isnull().sum()"
      ]
    },
    {
      "cell_type": "code",
      "execution_count": 26,
      "metadata": {
        "colab": {
          "base_uri": "https://localhost:8080/"
        },
        "id": "rrgPJvbxqtct",
        "outputId": "1a454ba5-e8d6-42a7-bd98-90ca02e45426"
      },
      "outputs": [
        {
          "output_type": "stream",
          "name": "stdout",
          "text": [
            "<class 'pandas.core.frame.DataFrame'>\n",
            "Int64Index: 5595063 entries, 0 to 247539\n",
            "Data columns (total 9 columns):\n",
            " #   Column              Dtype         \n",
            "---  ------              -----         \n",
            " 0   ride_id             object        \n",
            " 1   rideable_type       category      \n",
            " 2   started_at          datetime64[ns]\n",
            " 3   ended_at            datetime64[ns]\n",
            " 4   start_station_name  object        \n",
            " 5   start_station_id    object        \n",
            " 6   end_station_name    object        \n",
            " 7   end_station_id      object        \n",
            " 8   member_casual       object        \n",
            "dtypes: category(1), datetime64[ns](2), object(6)\n",
            "memory usage: 389.5+ MB\n"
          ]
        }
      ],
      "source": [
        "Cyclistic_data.info()"
      ]
    },
    {
      "cell_type": "code",
      "execution_count": 27,
      "metadata": {
        "colab": {
          "base_uri": "https://localhost:8080/"
        },
        "id": "3COC4cs3q4V2",
        "outputId": "8bbe04b0-0738-4861-8f89-461fef98e2cd"
      },
      "outputs": [
        {
          "output_type": "execute_result",
          "data": {
            "text/plain": [
              "0        0 days 00:10:25\n",
              "1        0 days 00:04:04\n",
              "2        0 days 00:01:20\n",
              "3        0 days 00:11:42\n",
              "4        0 days 00:00:43\n",
              "               ...      \n",
              "247535   0 days 00:19:13\n",
              "247536   0 days 00:07:01\n",
              "247537   0 days 00:08:17\n",
              "247538   0 days 00:14:13\n",
              "247539   0 days 00:03:37\n",
              "Name: ride_length, Length: 5595063, dtype: timedelta64[ns]"
            ]
          },
          "metadata": {},
          "execution_count": 27
        }
      ],
      "source": [
        "# menambahkan kolom baru ride_length (ended_at - started_at) untuk menghitung waktu tempuh\n",
        "Cyclistic_data['ride_length'] = Cyclistic_data['ended_at'] - Cyclistic_data['started_at']\n",
        "Cyclistic_data['ride_length']"
      ]
    },
    {
      "cell_type": "code",
      "execution_count": 28,
      "metadata": {
        "colab": {
          "base_uri": "https://localhost:8080/"
        },
        "id": "fLoncEPhwKH2",
        "outputId": "1ab17cdd-b267-4997-f505-3e40a13de83a"
      },
      "outputs": [
        {
          "output_type": "stream",
          "name": "stdout",
          "text": [
            "<class 'pandas.core.frame.DataFrame'>\n",
            "Int64Index: 5595063 entries, 0 to 247539\n",
            "Data columns (total 10 columns):\n",
            " #   Column              Dtype          \n",
            "---  ------              -----          \n",
            " 0   ride_id             object         \n",
            " 1   rideable_type       category       \n",
            " 2   started_at          datetime64[ns] \n",
            " 3   ended_at            datetime64[ns] \n",
            " 4   start_station_name  object         \n",
            " 5   start_station_id    object         \n",
            " 6   end_station_name    object         \n",
            " 7   end_station_id      object         \n",
            " 8   member_casual       object         \n",
            " 9   ride_length         timedelta64[ns]\n",
            "dtypes: category(1), datetime64[ns](2), object(6), timedelta64[ns](1)\n",
            "memory usage: 432.2+ MB\n"
          ]
        }
      ],
      "source": [
        "Cyclistic_data.info()"
      ]
    },
    {
      "cell_type": "code",
      "execution_count": 29,
      "metadata": {
        "colab": {
          "base_uri": "https://localhost:8080/"
        },
        "id": "iwN-2L4_wk2P",
        "outputId": "1935e58e-75e8-40ae-82a5-cbb293b323f4"
      },
      "outputs": [
        {
          "output_type": "execute_result",
          "data": {
            "text/plain": [
              "0    2021-01-23\n",
              "1    2021-01-27\n",
              "2    2021-01-21\n",
              "3    2021-01-07\n",
              "4    2021-01-23\n",
              "Name: start_date, dtype: object"
            ]
          },
          "metadata": {},
          "execution_count": 29
        }
      ],
      "source": [
        "# memisahkan dan mengekstrak tanggal dari kolom 'started_at'\n",
        "Cyclistic_data['start_date'] = Cyclistic_data.started_at.dt.date\n",
        "Cyclistic_data['start_date'].head()"
      ]
    },
    {
      "cell_type": "code",
      "execution_count": 30,
      "metadata": {
        "id": "pSzQWhotxIo9"
      },
      "outputs": [],
      "source": [
        "# Ubah tipe data start_date(day_of_week) menjadi type data Datetime\n",
        "Cyclistic_data['start_date']= pd.to_datetime(Cyclistic_data.start_date)"
      ]
    },
    {
      "cell_type": "code",
      "execution_count": 31,
      "metadata": {
        "colab": {
          "base_uri": "https://localhost:8080/"
        },
        "id": "uYe90qNbxfQE",
        "outputId": "b23aa260-5910-494e-fc29-5ab50c7ac4f8"
      },
      "outputs": [
        {
          "output_type": "stream",
          "name": "stdout",
          "text": [
            "<class 'pandas.core.frame.DataFrame'>\n",
            "Int64Index: 5595063 entries, 0 to 247539\n",
            "Data columns (total 11 columns):\n",
            " #   Column              Dtype          \n",
            "---  ------              -----          \n",
            " 0   ride_id             object         \n",
            " 1   rideable_type       category       \n",
            " 2   started_at          datetime64[ns] \n",
            " 3   ended_at            datetime64[ns] \n",
            " 4   start_station_name  object         \n",
            " 5   start_station_id    object         \n",
            " 6   end_station_name    object         \n",
            " 7   end_station_id      object         \n",
            " 8   member_casual       object         \n",
            " 9   ride_length         timedelta64[ns]\n",
            " 10  start_date          datetime64[ns] \n",
            "dtypes: category(1), datetime64[ns](3), object(6), timedelta64[ns](1)\n",
            "memory usage: 474.9+ MB\n"
          ]
        }
      ],
      "source": [
        "Cyclistic_data.info()"
      ]
    },
    {
      "cell_type": "code",
      "execution_count": 32,
      "metadata": {
        "colab": {
          "base_uri": "https://localhost:8080/",
          "height": 835
        },
        "id": "WMqADj5zSJun",
        "outputId": "3103863a-52a6-4340-c69e-c0817cf2d2a1"
      },
      "outputs": [
        {
          "output_type": "execute_result",
          "data": {
            "text/plain": [
              "                 ride_id  rideable_type          started_at  \\\n",
              "0       E19E6F1B8D4C42ED  electric_bike 2021-01-23 16:14:19   \n",
              "1       DC88F20C2C55F27F  electric_bike 2021-01-27 18:43:08   \n",
              "2       EC45C94683FE3F27  electric_bike 2021-01-21 22:35:54   \n",
              "3       4FA453A75AE377DB  electric_bike 2021-01-07 13:31:13   \n",
              "4       BE5E8EB4E7263A0B  electric_bike 2021-01-23 02:24:02   \n",
              "...                  ...            ...                 ...   \n",
              "247535  847431F3D5353AB7  electric_bike 2021-12-12 13:36:55   \n",
              "247536  CF407BBC3B9FAD63  electric_bike 2021-12-06 19:37:50   \n",
              "247537  60BB69EBF5440E92  electric_bike 2021-12-02 08:57:04   \n",
              "247538  C414F654A28635B8  electric_bike 2021-12-13 09:00:26   \n",
              "247539  37AC57E34B2E7E97   classic_bike 2021-12-13 08:45:32   \n",
              "\n",
              "                  ended_at           start_station_name start_station_id  \\\n",
              "0      2021-01-23 16:24:44   California Ave & Cortez St            17660   \n",
              "1      2021-01-27 18:47:12   California Ave & Cortez St            17660   \n",
              "2      2021-01-21 22:37:14   California Ave & Cortez St            17660   \n",
              "3      2021-01-07 13:42:55   California Ave & Cortez St            17660   \n",
              "4      2021-01-23 02:24:45   California Ave & Cortez St            17660   \n",
              "...                    ...                          ...              ...   \n",
              "247535 2021-12-12 13:56:08        Canal St & Madison St            13341   \n",
              "247536 2021-12-06 19:44:51        Canal St & Madison St            13341   \n",
              "247537 2021-12-02 09:05:21        Canal St & Madison St            13341   \n",
              "247538 2021-12-13 09:14:39       Lawndale Ave & 16th St            362.0   \n",
              "247539 2021-12-13 08:49:09  Michigan Ave & Jackson Blvd     TA1309000002   \n",
              "\n",
              "                end_station_name end_station_id member_casual     ride_length  \\\n",
              "0                            NaN            NaN        member 0 days 00:10:25   \n",
              "1                            NaN            NaN        member 0 days 00:04:04   \n",
              "2                            NaN            NaN        member 0 days 00:01:20   \n",
              "3                            NaN            NaN        member 0 days 00:11:42   \n",
              "4                            NaN            NaN        casual 0 days 00:00:43   \n",
              "...                          ...            ...           ...             ...   \n",
              "247535                       NaN            NaN        casual 0 days 00:19:13   \n",
              "247536  Kingsbury St & Kinzie St   KA1503000043        member 0 days 00:07:01   \n",
              "247537   Dearborn St & Monroe St   TA1305000006        member 0 days 00:08:17   \n",
              "247538                       NaN            NaN        member 0 days 00:14:13   \n",
              "247539   Dearborn St & Monroe St   TA1305000006        member 0 days 00:03:37   \n",
              "\n",
              "       start_date  \n",
              "0      2021-01-23  \n",
              "1      2021-01-27  \n",
              "2      2021-01-21  \n",
              "3      2021-01-07  \n",
              "4      2021-01-23  \n",
              "...           ...  \n",
              "247535 2021-12-12  \n",
              "247536 2021-12-06  \n",
              "247537 2021-12-02  \n",
              "247538 2021-12-13  \n",
              "247539 2021-12-13  \n",
              "\n",
              "[5595063 rows x 11 columns]"
            ],
            "text/html": [
              "\n",
              "  <div id=\"df-a933f54b-5e1a-4267-bfc7-61501acd1bf8\">\n",
              "    <div class=\"colab-df-container\">\n",
              "      <div>\n",
              "<style scoped>\n",
              "    .dataframe tbody tr th:only-of-type {\n",
              "        vertical-align: middle;\n",
              "    }\n",
              "\n",
              "    .dataframe tbody tr th {\n",
              "        vertical-align: top;\n",
              "    }\n",
              "\n",
              "    .dataframe thead th {\n",
              "        text-align: right;\n",
              "    }\n",
              "</style>\n",
              "<table border=\"1\" class=\"dataframe\">\n",
              "  <thead>\n",
              "    <tr style=\"text-align: right;\">\n",
              "      <th></th>\n",
              "      <th>ride_id</th>\n",
              "      <th>rideable_type</th>\n",
              "      <th>started_at</th>\n",
              "      <th>ended_at</th>\n",
              "      <th>start_station_name</th>\n",
              "      <th>start_station_id</th>\n",
              "      <th>end_station_name</th>\n",
              "      <th>end_station_id</th>\n",
              "      <th>member_casual</th>\n",
              "      <th>ride_length</th>\n",
              "      <th>start_date</th>\n",
              "    </tr>\n",
              "  </thead>\n",
              "  <tbody>\n",
              "    <tr>\n",
              "      <th>0</th>\n",
              "      <td>E19E6F1B8D4C42ED</td>\n",
              "      <td>electric_bike</td>\n",
              "      <td>2021-01-23 16:14:19</td>\n",
              "      <td>2021-01-23 16:24:44</td>\n",
              "      <td>California Ave &amp; Cortez St</td>\n",
              "      <td>17660</td>\n",
              "      <td>NaN</td>\n",
              "      <td>NaN</td>\n",
              "      <td>member</td>\n",
              "      <td>0 days 00:10:25</td>\n",
              "      <td>2021-01-23</td>\n",
              "    </tr>\n",
              "    <tr>\n",
              "      <th>1</th>\n",
              "      <td>DC88F20C2C55F27F</td>\n",
              "      <td>electric_bike</td>\n",
              "      <td>2021-01-27 18:43:08</td>\n",
              "      <td>2021-01-27 18:47:12</td>\n",
              "      <td>California Ave &amp; Cortez St</td>\n",
              "      <td>17660</td>\n",
              "      <td>NaN</td>\n",
              "      <td>NaN</td>\n",
              "      <td>member</td>\n",
              "      <td>0 days 00:04:04</td>\n",
              "      <td>2021-01-27</td>\n",
              "    </tr>\n",
              "    <tr>\n",
              "      <th>2</th>\n",
              "      <td>EC45C94683FE3F27</td>\n",
              "      <td>electric_bike</td>\n",
              "      <td>2021-01-21 22:35:54</td>\n",
              "      <td>2021-01-21 22:37:14</td>\n",
              "      <td>California Ave &amp; Cortez St</td>\n",
              "      <td>17660</td>\n",
              "      <td>NaN</td>\n",
              "      <td>NaN</td>\n",
              "      <td>member</td>\n",
              "      <td>0 days 00:01:20</td>\n",
              "      <td>2021-01-21</td>\n",
              "    </tr>\n",
              "    <tr>\n",
              "      <th>3</th>\n",
              "      <td>4FA453A75AE377DB</td>\n",
              "      <td>electric_bike</td>\n",
              "      <td>2021-01-07 13:31:13</td>\n",
              "      <td>2021-01-07 13:42:55</td>\n",
              "      <td>California Ave &amp; Cortez St</td>\n",
              "      <td>17660</td>\n",
              "      <td>NaN</td>\n",
              "      <td>NaN</td>\n",
              "      <td>member</td>\n",
              "      <td>0 days 00:11:42</td>\n",
              "      <td>2021-01-07</td>\n",
              "    </tr>\n",
              "    <tr>\n",
              "      <th>4</th>\n",
              "      <td>BE5E8EB4E7263A0B</td>\n",
              "      <td>electric_bike</td>\n",
              "      <td>2021-01-23 02:24:02</td>\n",
              "      <td>2021-01-23 02:24:45</td>\n",
              "      <td>California Ave &amp; Cortez St</td>\n",
              "      <td>17660</td>\n",
              "      <td>NaN</td>\n",
              "      <td>NaN</td>\n",
              "      <td>casual</td>\n",
              "      <td>0 days 00:00:43</td>\n",
              "      <td>2021-01-23</td>\n",
              "    </tr>\n",
              "    <tr>\n",
              "      <th>...</th>\n",
              "      <td>...</td>\n",
              "      <td>...</td>\n",
              "      <td>...</td>\n",
              "      <td>...</td>\n",
              "      <td>...</td>\n",
              "      <td>...</td>\n",
              "      <td>...</td>\n",
              "      <td>...</td>\n",
              "      <td>...</td>\n",
              "      <td>...</td>\n",
              "      <td>...</td>\n",
              "    </tr>\n",
              "    <tr>\n",
              "      <th>247535</th>\n",
              "      <td>847431F3D5353AB7</td>\n",
              "      <td>electric_bike</td>\n",
              "      <td>2021-12-12 13:36:55</td>\n",
              "      <td>2021-12-12 13:56:08</td>\n",
              "      <td>Canal St &amp; Madison St</td>\n",
              "      <td>13341</td>\n",
              "      <td>NaN</td>\n",
              "      <td>NaN</td>\n",
              "      <td>casual</td>\n",
              "      <td>0 days 00:19:13</td>\n",
              "      <td>2021-12-12</td>\n",
              "    </tr>\n",
              "    <tr>\n",
              "      <th>247536</th>\n",
              "      <td>CF407BBC3B9FAD63</td>\n",
              "      <td>electric_bike</td>\n",
              "      <td>2021-12-06 19:37:50</td>\n",
              "      <td>2021-12-06 19:44:51</td>\n",
              "      <td>Canal St &amp; Madison St</td>\n",
              "      <td>13341</td>\n",
              "      <td>Kingsbury St &amp; Kinzie St</td>\n",
              "      <td>KA1503000043</td>\n",
              "      <td>member</td>\n",
              "      <td>0 days 00:07:01</td>\n",
              "      <td>2021-12-06</td>\n",
              "    </tr>\n",
              "    <tr>\n",
              "      <th>247537</th>\n",
              "      <td>60BB69EBF5440E92</td>\n",
              "      <td>electric_bike</td>\n",
              "      <td>2021-12-02 08:57:04</td>\n",
              "      <td>2021-12-02 09:05:21</td>\n",
              "      <td>Canal St &amp; Madison St</td>\n",
              "      <td>13341</td>\n",
              "      <td>Dearborn St &amp; Monroe St</td>\n",
              "      <td>TA1305000006</td>\n",
              "      <td>member</td>\n",
              "      <td>0 days 00:08:17</td>\n",
              "      <td>2021-12-02</td>\n",
              "    </tr>\n",
              "    <tr>\n",
              "      <th>247538</th>\n",
              "      <td>C414F654A28635B8</td>\n",
              "      <td>electric_bike</td>\n",
              "      <td>2021-12-13 09:00:26</td>\n",
              "      <td>2021-12-13 09:14:39</td>\n",
              "      <td>Lawndale Ave &amp; 16th St</td>\n",
              "      <td>362.0</td>\n",
              "      <td>NaN</td>\n",
              "      <td>NaN</td>\n",
              "      <td>member</td>\n",
              "      <td>0 days 00:14:13</td>\n",
              "      <td>2021-12-13</td>\n",
              "    </tr>\n",
              "    <tr>\n",
              "      <th>247539</th>\n",
              "      <td>37AC57E34B2E7E97</td>\n",
              "      <td>classic_bike</td>\n",
              "      <td>2021-12-13 08:45:32</td>\n",
              "      <td>2021-12-13 08:49:09</td>\n",
              "      <td>Michigan Ave &amp; Jackson Blvd</td>\n",
              "      <td>TA1309000002</td>\n",
              "      <td>Dearborn St &amp; Monroe St</td>\n",
              "      <td>TA1305000006</td>\n",
              "      <td>member</td>\n",
              "      <td>0 days 00:03:37</td>\n",
              "      <td>2021-12-13</td>\n",
              "    </tr>\n",
              "  </tbody>\n",
              "</table>\n",
              "<p>5595063 rows × 11 columns</p>\n",
              "</div>\n",
              "      <button class=\"colab-df-convert\" onclick=\"convertToInteractive('df-a933f54b-5e1a-4267-bfc7-61501acd1bf8')\"\n",
              "              title=\"Convert this dataframe to an interactive table.\"\n",
              "              style=\"display:none;\">\n",
              "        \n",
              "  <svg xmlns=\"http://www.w3.org/2000/svg\" height=\"24px\"viewBox=\"0 0 24 24\"\n",
              "       width=\"24px\">\n",
              "    <path d=\"M0 0h24v24H0V0z\" fill=\"none\"/>\n",
              "    <path d=\"M18.56 5.44l.94 2.06.94-2.06 2.06-.94-2.06-.94-.94-2.06-.94 2.06-2.06.94zm-11 1L8.5 8.5l.94-2.06 2.06-.94-2.06-.94L8.5 2.5l-.94 2.06-2.06.94zm10 10l.94 2.06.94-2.06 2.06-.94-2.06-.94-.94-2.06-.94 2.06-2.06.94z\"/><path d=\"M17.41 7.96l-1.37-1.37c-.4-.4-.92-.59-1.43-.59-.52 0-1.04.2-1.43.59L10.3 9.45l-7.72 7.72c-.78.78-.78 2.05 0 2.83L4 21.41c.39.39.9.59 1.41.59.51 0 1.02-.2 1.41-.59l7.78-7.78 2.81-2.81c.8-.78.8-2.07 0-2.86zM5.41 20L4 18.59l7.72-7.72 1.47 1.35L5.41 20z\"/>\n",
              "  </svg>\n",
              "      </button>\n",
              "      \n",
              "  <style>\n",
              "    .colab-df-container {\n",
              "      display:flex;\n",
              "      flex-wrap:wrap;\n",
              "      gap: 12px;\n",
              "    }\n",
              "\n",
              "    .colab-df-convert {\n",
              "      background-color: #E8F0FE;\n",
              "      border: none;\n",
              "      border-radius: 50%;\n",
              "      cursor: pointer;\n",
              "      display: none;\n",
              "      fill: #1967D2;\n",
              "      height: 32px;\n",
              "      padding: 0 0 0 0;\n",
              "      width: 32px;\n",
              "    }\n",
              "\n",
              "    .colab-df-convert:hover {\n",
              "      background-color: #E2EBFA;\n",
              "      box-shadow: 0px 1px 2px rgba(60, 64, 67, 0.3), 0px 1px 3px 1px rgba(60, 64, 67, 0.15);\n",
              "      fill: #174EA6;\n",
              "    }\n",
              "\n",
              "    [theme=dark] .colab-df-convert {\n",
              "      background-color: #3B4455;\n",
              "      fill: #D2E3FC;\n",
              "    }\n",
              "\n",
              "    [theme=dark] .colab-df-convert:hover {\n",
              "      background-color: #434B5C;\n",
              "      box-shadow: 0px 1px 3px 1px rgba(0, 0, 0, 0.15);\n",
              "      filter: drop-shadow(0px 1px 2px rgba(0, 0, 0, 0.3));\n",
              "      fill: #FFFFFF;\n",
              "    }\n",
              "  </style>\n",
              "\n",
              "      <script>\n",
              "        const buttonEl =\n",
              "          document.querySelector('#df-a933f54b-5e1a-4267-bfc7-61501acd1bf8 button.colab-df-convert');\n",
              "        buttonEl.style.display =\n",
              "          google.colab.kernel.accessAllowed ? 'block' : 'none';\n",
              "\n",
              "        async function convertToInteractive(key) {\n",
              "          const element = document.querySelector('#df-a933f54b-5e1a-4267-bfc7-61501acd1bf8');\n",
              "          const dataTable =\n",
              "            await google.colab.kernel.invokeFunction('convertToInteractive',\n",
              "                                                     [key], {});\n",
              "          if (!dataTable) return;\n",
              "\n",
              "          const docLinkHtml = 'Like what you see? Visit the ' +\n",
              "            '<a target=\"_blank\" href=https://colab.research.google.com/notebooks/data_table.ipynb>data table notebook</a>'\n",
              "            + ' to learn more about interactive tables.';\n",
              "          element.innerHTML = '';\n",
              "          dataTable['output_type'] = 'display_data';\n",
              "          await google.colab.output.renderOutput(dataTable, element);\n",
              "          const docLink = document.createElement('div');\n",
              "          docLink.innerHTML = docLinkHtml;\n",
              "          element.appendChild(docLink);\n",
              "        }\n",
              "      </script>\n",
              "    </div>\n",
              "  </div>\n",
              "  "
            ]
          },
          "metadata": {},
          "execution_count": 32
        }
      ],
      "source": [
        "Cyclistic_data"
      ]
    },
    {
      "cell_type": "code",
      "execution_count": 33,
      "metadata": {
        "colab": {
          "base_uri": "https://localhost:8080/"
        },
        "id": "D51k_lwgyalF",
        "outputId": "ceb483c0-b36d-4b16-ccd6-40fc11b73b5b"
      },
      "outputs": [
        {
          "output_type": "execute_result",
          "data": {
            "text/plain": [
              "array(['Saturday', 'Wednesday', 'Thursday', 'Monday', 'Sunday', 'Friday',\n",
              "       'Tuesday'], dtype=object)"
            ]
          },
          "metadata": {},
          "execution_count": 33
        }
      ],
      "source": [
        "# menemukan weekday dari tanggal \n",
        "Cyclistic_data['day_name'] = Cyclistic_data['start_date'].dt.day_name()\n",
        "Cyclistic_data['day_name'].unique()"
      ]
    },
    {
      "cell_type": "code",
      "execution_count": 34,
      "metadata": {
        "colab": {
          "base_uri": "https://localhost:8080/"
        },
        "id": "XiYT-r1l0Ec6",
        "outputId": "09475727-0b33-4dd2-aeaa-9bce89428a7d"
      },
      "outputs": [
        {
          "output_type": "stream",
          "name": "stdout",
          "text": [
            "<class 'pandas.core.frame.DataFrame'>\n",
            "Int64Index: 5595063 entries, 0 to 247539\n",
            "Data columns (total 12 columns):\n",
            " #   Column              Dtype          \n",
            "---  ------              -----          \n",
            " 0   ride_id             object         \n",
            " 1   rideable_type       category       \n",
            " 2   started_at          datetime64[ns] \n",
            " 3   ended_at            datetime64[ns] \n",
            " 4   start_station_name  object         \n",
            " 5   start_station_id    object         \n",
            " 6   end_station_name    object         \n",
            " 7   end_station_id      object         \n",
            " 8   member_casual       object         \n",
            " 9   ride_length         timedelta64[ns]\n",
            " 10  start_date          datetime64[ns] \n",
            " 11  day_name            category       \n",
            "dtypes: category(2), datetime64[ns](3), object(6), timedelta64[ns](1)\n",
            "memory usage: 480.2+ MB\n"
          ]
        }
      ],
      "source": [
        "# Merubah type data day_name menjadi data type category\n",
        "Cyclistic_data['day_name'] = Cyclistic_data.day_name.astype('category')\n",
        "Cyclistic_data.info()"
      ]
    },
    {
      "cell_type": "code",
      "execution_count": 35,
      "metadata": {
        "id": "RG-AZDTz0-Ct"
      },
      "outputs": [],
      "source": [
        "# membuat colom baru tahun(year) dan bulan(month)\n",
        "Cyclistic_data['year'] = pd.DatetimeIndex(Cyclistic_data['start_date']).year\n",
        "Cyclistic_data['month'] = pd.DatetimeIndex(Cyclistic_data['start_date']).month                                "
      ]
    },
    {
      "cell_type": "code",
      "execution_count": 36,
      "metadata": {
        "colab": {
          "base_uri": "https://localhost:8080/"
        },
        "id": "NlHBYQ2n2wki",
        "outputId": "0d558f91-43cd-4f83-e6db-91fcc580c872"
      },
      "outputs": [
        {
          "output_type": "stream",
          "name": "stdout",
          "text": [
            "<class 'pandas.core.frame.DataFrame'>\n",
            "Int64Index: 5595063 entries, 0 to 247539\n",
            "Data columns (total 14 columns):\n",
            " #   Column              Dtype          \n",
            "---  ------              -----          \n",
            " 0   ride_id             object         \n",
            " 1   rideable_type       category       \n",
            " 2   started_at          datetime64[ns] \n",
            " 3   ended_at            datetime64[ns] \n",
            " 4   start_station_name  object         \n",
            " 5   start_station_id    object         \n",
            " 6   end_station_name    object         \n",
            " 7   end_station_id      object         \n",
            " 8   member_casual       object         \n",
            " 9   ride_length         timedelta64[ns]\n",
            " 10  start_date          datetime64[ns] \n",
            " 11  day_name            category       \n",
            " 12  year                int64          \n",
            " 13  month               int64          \n",
            "dtypes: category(2), datetime64[ns](3), int64(2), object(6), timedelta64[ns](1)\n",
            "memory usage: 565.6+ MB\n"
          ]
        }
      ],
      "source": [
        "Cyclistic_data.info()"
      ]
    },
    {
      "cell_type": "code",
      "execution_count": 37,
      "metadata": {
        "colab": {
          "base_uri": "https://localhost:8080/",
          "height": 444
        },
        "id": "AJk3Wuqg3A3X",
        "outputId": "bca9b2b2-0b4e-41c9-cb19-90b1fa84796f"
      },
      "outputs": [
        {
          "output_type": "execute_result",
          "data": {
            "text/plain": [
              "            ride_id  rideable_type          started_at            ended_at  \\\n",
              "0  E19E6F1B8D4C42ED  electric_bike 2021-01-23 16:14:19 2021-01-23 16:24:44   \n",
              "1  DC88F20C2C55F27F  electric_bike 2021-01-27 18:43:08 2021-01-27 18:47:12   \n",
              "2  EC45C94683FE3F27  electric_bike 2021-01-21 22:35:54 2021-01-21 22:37:14   \n",
              "3  4FA453A75AE377DB  electric_bike 2021-01-07 13:31:13 2021-01-07 13:42:55   \n",
              "4  BE5E8EB4E7263A0B  electric_bike 2021-01-23 02:24:02 2021-01-23 02:24:45   \n",
              "\n",
              "           start_station_name start_station_id end_station_name  \\\n",
              "0  California Ave & Cortez St            17660              NaN   \n",
              "1  California Ave & Cortez St            17660              NaN   \n",
              "2  California Ave & Cortez St            17660              NaN   \n",
              "3  California Ave & Cortez St            17660              NaN   \n",
              "4  California Ave & Cortez St            17660              NaN   \n",
              "\n",
              "  end_station_id member_casual     ride_length start_date   day_name  year  \\\n",
              "0            NaN        member 0 days 00:10:25 2021-01-23   Saturday  2021   \n",
              "1            NaN        member 0 days 00:04:04 2021-01-27  Wednesday  2021   \n",
              "2            NaN        member 0 days 00:01:20 2021-01-21   Thursday  2021   \n",
              "3            NaN        member 0 days 00:11:42 2021-01-07   Thursday  2021   \n",
              "4            NaN        casual 0 days 00:00:43 2021-01-23   Saturday  2021   \n",
              "\n",
              "   month  \n",
              "0      1  \n",
              "1      1  \n",
              "2      1  \n",
              "3      1  \n",
              "4      1  "
            ],
            "text/html": [
              "\n",
              "  <div id=\"df-220c3e49-2c48-46e4-a4e3-5a03f088f86c\">\n",
              "    <div class=\"colab-df-container\">\n",
              "      <div>\n",
              "<style scoped>\n",
              "    .dataframe tbody tr th:only-of-type {\n",
              "        vertical-align: middle;\n",
              "    }\n",
              "\n",
              "    .dataframe tbody tr th {\n",
              "        vertical-align: top;\n",
              "    }\n",
              "\n",
              "    .dataframe thead th {\n",
              "        text-align: right;\n",
              "    }\n",
              "</style>\n",
              "<table border=\"1\" class=\"dataframe\">\n",
              "  <thead>\n",
              "    <tr style=\"text-align: right;\">\n",
              "      <th></th>\n",
              "      <th>ride_id</th>\n",
              "      <th>rideable_type</th>\n",
              "      <th>started_at</th>\n",
              "      <th>ended_at</th>\n",
              "      <th>start_station_name</th>\n",
              "      <th>start_station_id</th>\n",
              "      <th>end_station_name</th>\n",
              "      <th>end_station_id</th>\n",
              "      <th>member_casual</th>\n",
              "      <th>ride_length</th>\n",
              "      <th>start_date</th>\n",
              "      <th>day_name</th>\n",
              "      <th>year</th>\n",
              "      <th>month</th>\n",
              "    </tr>\n",
              "  </thead>\n",
              "  <tbody>\n",
              "    <tr>\n",
              "      <th>0</th>\n",
              "      <td>E19E6F1B8D4C42ED</td>\n",
              "      <td>electric_bike</td>\n",
              "      <td>2021-01-23 16:14:19</td>\n",
              "      <td>2021-01-23 16:24:44</td>\n",
              "      <td>California Ave &amp; Cortez St</td>\n",
              "      <td>17660</td>\n",
              "      <td>NaN</td>\n",
              "      <td>NaN</td>\n",
              "      <td>member</td>\n",
              "      <td>0 days 00:10:25</td>\n",
              "      <td>2021-01-23</td>\n",
              "      <td>Saturday</td>\n",
              "      <td>2021</td>\n",
              "      <td>1</td>\n",
              "    </tr>\n",
              "    <tr>\n",
              "      <th>1</th>\n",
              "      <td>DC88F20C2C55F27F</td>\n",
              "      <td>electric_bike</td>\n",
              "      <td>2021-01-27 18:43:08</td>\n",
              "      <td>2021-01-27 18:47:12</td>\n",
              "      <td>California Ave &amp; Cortez St</td>\n",
              "      <td>17660</td>\n",
              "      <td>NaN</td>\n",
              "      <td>NaN</td>\n",
              "      <td>member</td>\n",
              "      <td>0 days 00:04:04</td>\n",
              "      <td>2021-01-27</td>\n",
              "      <td>Wednesday</td>\n",
              "      <td>2021</td>\n",
              "      <td>1</td>\n",
              "    </tr>\n",
              "    <tr>\n",
              "      <th>2</th>\n",
              "      <td>EC45C94683FE3F27</td>\n",
              "      <td>electric_bike</td>\n",
              "      <td>2021-01-21 22:35:54</td>\n",
              "      <td>2021-01-21 22:37:14</td>\n",
              "      <td>California Ave &amp; Cortez St</td>\n",
              "      <td>17660</td>\n",
              "      <td>NaN</td>\n",
              "      <td>NaN</td>\n",
              "      <td>member</td>\n",
              "      <td>0 days 00:01:20</td>\n",
              "      <td>2021-01-21</td>\n",
              "      <td>Thursday</td>\n",
              "      <td>2021</td>\n",
              "      <td>1</td>\n",
              "    </tr>\n",
              "    <tr>\n",
              "      <th>3</th>\n",
              "      <td>4FA453A75AE377DB</td>\n",
              "      <td>electric_bike</td>\n",
              "      <td>2021-01-07 13:31:13</td>\n",
              "      <td>2021-01-07 13:42:55</td>\n",
              "      <td>California Ave &amp; Cortez St</td>\n",
              "      <td>17660</td>\n",
              "      <td>NaN</td>\n",
              "      <td>NaN</td>\n",
              "      <td>member</td>\n",
              "      <td>0 days 00:11:42</td>\n",
              "      <td>2021-01-07</td>\n",
              "      <td>Thursday</td>\n",
              "      <td>2021</td>\n",
              "      <td>1</td>\n",
              "    </tr>\n",
              "    <tr>\n",
              "      <th>4</th>\n",
              "      <td>BE5E8EB4E7263A0B</td>\n",
              "      <td>electric_bike</td>\n",
              "      <td>2021-01-23 02:24:02</td>\n",
              "      <td>2021-01-23 02:24:45</td>\n",
              "      <td>California Ave &amp; Cortez St</td>\n",
              "      <td>17660</td>\n",
              "      <td>NaN</td>\n",
              "      <td>NaN</td>\n",
              "      <td>casual</td>\n",
              "      <td>0 days 00:00:43</td>\n",
              "      <td>2021-01-23</td>\n",
              "      <td>Saturday</td>\n",
              "      <td>2021</td>\n",
              "      <td>1</td>\n",
              "    </tr>\n",
              "  </tbody>\n",
              "</table>\n",
              "</div>\n",
              "      <button class=\"colab-df-convert\" onclick=\"convertToInteractive('df-220c3e49-2c48-46e4-a4e3-5a03f088f86c')\"\n",
              "              title=\"Convert this dataframe to an interactive table.\"\n",
              "              style=\"display:none;\">\n",
              "        \n",
              "  <svg xmlns=\"http://www.w3.org/2000/svg\" height=\"24px\"viewBox=\"0 0 24 24\"\n",
              "       width=\"24px\">\n",
              "    <path d=\"M0 0h24v24H0V0z\" fill=\"none\"/>\n",
              "    <path d=\"M18.56 5.44l.94 2.06.94-2.06 2.06-.94-2.06-.94-.94-2.06-.94 2.06-2.06.94zm-11 1L8.5 8.5l.94-2.06 2.06-.94-2.06-.94L8.5 2.5l-.94 2.06-2.06.94zm10 10l.94 2.06.94-2.06 2.06-.94-2.06-.94-.94-2.06-.94 2.06-2.06.94z\"/><path d=\"M17.41 7.96l-1.37-1.37c-.4-.4-.92-.59-1.43-.59-.52 0-1.04.2-1.43.59L10.3 9.45l-7.72 7.72c-.78.78-.78 2.05 0 2.83L4 21.41c.39.39.9.59 1.41.59.51 0 1.02-.2 1.41-.59l7.78-7.78 2.81-2.81c.8-.78.8-2.07 0-2.86zM5.41 20L4 18.59l7.72-7.72 1.47 1.35L5.41 20z\"/>\n",
              "  </svg>\n",
              "      </button>\n",
              "      \n",
              "  <style>\n",
              "    .colab-df-container {\n",
              "      display:flex;\n",
              "      flex-wrap:wrap;\n",
              "      gap: 12px;\n",
              "    }\n",
              "\n",
              "    .colab-df-convert {\n",
              "      background-color: #E8F0FE;\n",
              "      border: none;\n",
              "      border-radius: 50%;\n",
              "      cursor: pointer;\n",
              "      display: none;\n",
              "      fill: #1967D2;\n",
              "      height: 32px;\n",
              "      padding: 0 0 0 0;\n",
              "      width: 32px;\n",
              "    }\n",
              "\n",
              "    .colab-df-convert:hover {\n",
              "      background-color: #E2EBFA;\n",
              "      box-shadow: 0px 1px 2px rgba(60, 64, 67, 0.3), 0px 1px 3px 1px rgba(60, 64, 67, 0.15);\n",
              "      fill: #174EA6;\n",
              "    }\n",
              "\n",
              "    [theme=dark] .colab-df-convert {\n",
              "      background-color: #3B4455;\n",
              "      fill: #D2E3FC;\n",
              "    }\n",
              "\n",
              "    [theme=dark] .colab-df-convert:hover {\n",
              "      background-color: #434B5C;\n",
              "      box-shadow: 0px 1px 3px 1px rgba(0, 0, 0, 0.15);\n",
              "      filter: drop-shadow(0px 1px 2px rgba(0, 0, 0, 0.3));\n",
              "      fill: #FFFFFF;\n",
              "    }\n",
              "  </style>\n",
              "\n",
              "      <script>\n",
              "        const buttonEl =\n",
              "          document.querySelector('#df-220c3e49-2c48-46e4-a4e3-5a03f088f86c button.colab-df-convert');\n",
              "        buttonEl.style.display =\n",
              "          google.colab.kernel.accessAllowed ? 'block' : 'none';\n",
              "\n",
              "        async function convertToInteractive(key) {\n",
              "          const element = document.querySelector('#df-220c3e49-2c48-46e4-a4e3-5a03f088f86c');\n",
              "          const dataTable =\n",
              "            await google.colab.kernel.invokeFunction('convertToInteractive',\n",
              "                                                     [key], {});\n",
              "          if (!dataTable) return;\n",
              "\n",
              "          const docLinkHtml = 'Like what you see? Visit the ' +\n",
              "            '<a target=\"_blank\" href=https://colab.research.google.com/notebooks/data_table.ipynb>data table notebook</a>'\n",
              "            + ' to learn more about interactive tables.';\n",
              "          element.innerHTML = '';\n",
              "          dataTable['output_type'] = 'display_data';\n",
              "          await google.colab.output.renderOutput(dataTable, element);\n",
              "          const docLink = document.createElement('div');\n",
              "          docLink.innerHTML = docLinkHtml;\n",
              "          element.appendChild(docLink);\n",
              "        }\n",
              "      </script>\n",
              "    </div>\n",
              "  </div>\n",
              "  "
            ]
          },
          "metadata": {},
          "execution_count": 37
        }
      ],
      "source": [
        "Cyclistic_data.head()"
      ]
    },
    {
      "cell_type": "code",
      "execution_count": null,
      "metadata": {
        "id": "kKPkMnyT36BM"
      },
      "outputs": [],
      "source": [
        "# ternyata disini colom year data typenya float maka harus ubah menjadi int\n",
        "# Cyclistic_data['year'] = Cyclistic_data['year'].astype('int').fillna(0)"
      ]
    },
    {
      "cell_type": "code",
      "execution_count": null,
      "metadata": {
        "id": "jiiLWHuo8-KX"
      },
      "outputs": [],
      "source": [
        "# ternyata disini colom month data typenya float maka harus ubah menjadi int\n",
        "# Cyclistic_data['month'] = Cyclistic_data['month'].astype('int').fillna(0)"
      ]
    },
    {
      "cell_type": "code",
      "execution_count": 38,
      "metadata": {
        "colab": {
          "base_uri": "https://localhost:8080/"
        },
        "id": "rESODjBk9Ngc",
        "outputId": "6e310323-39f8-41aa-f18a-0a74b14ef141"
      },
      "outputs": [
        {
          "output_type": "stream",
          "name": "stdout",
          "text": [
            "<class 'pandas.core.frame.DataFrame'>\n",
            "Int64Index: 5595063 entries, 0 to 247539\n",
            "Data columns (total 14 columns):\n",
            " #   Column              Dtype          \n",
            "---  ------              -----          \n",
            " 0   ride_id             object         \n",
            " 1   rideable_type       category       \n",
            " 2   started_at          datetime64[ns] \n",
            " 3   ended_at            datetime64[ns] \n",
            " 4   start_station_name  object         \n",
            " 5   start_station_id    object         \n",
            " 6   end_station_name    object         \n",
            " 7   end_station_id      object         \n",
            " 8   member_casual       object         \n",
            " 9   ride_length         timedelta64[ns]\n",
            " 10  start_date          datetime64[ns] \n",
            " 11  day_name            category       \n",
            " 12  year                int64          \n",
            " 13  month               int64          \n",
            "dtypes: category(2), datetime64[ns](3), int64(2), object(6), timedelta64[ns](1)\n",
            "memory usage: 565.6+ MB\n"
          ]
        }
      ],
      "source": [
        "Cyclistic_data.info()"
      ]
    },
    {
      "cell_type": "code",
      "execution_count": 39,
      "metadata": {
        "id": "L-ftHDVT-PEu"
      },
      "outputs": [],
      "source": [
        "# mengurutkan dataframe by ascending menggunakan start_date\n",
        "\n",
        "Cyclistic_data.sort_values(by=['start_date'], inplace = True, ascending = True)"
      ]
    },
    {
      "cell_type": "code",
      "execution_count": 40,
      "metadata": {
        "colab": {
          "base_uri": "https://localhost:8080/"
        },
        "id": "262pQmxa_F68",
        "outputId": "91607cde-a44d-4f0a-d94d-7386255c1010"
      },
      "outputs": [
        {
          "output_type": "execute_result",
          "data": {
            "text/plain": [
              "ride_id                    0\n",
              "rideable_type              0\n",
              "started_at                 0\n",
              "ended_at                   0\n",
              "start_station_name    690809\n",
              "start_station_id      690806\n",
              "end_station_name      739170\n",
              "end_station_id        739170\n",
              "member_casual              0\n",
              "ride_length                0\n",
              "start_date                 0\n",
              "day_name                   0\n",
              "year                       0\n",
              "month                      0\n",
              "dtype: int64"
            ]
          },
          "metadata": {},
          "execution_count": 40
        }
      ],
      "source": [
        "Cyclistic_data.isnull().sum()"
      ]
    },
    {
      "cell_type": "code",
      "execution_count": 41,
      "metadata": {
        "colab": {
          "base_uri": "https://localhost:8080/"
        },
        "id": "JPtst56y_YPF",
        "outputId": "375ab84a-77ce-415c-f425-beb1ac875701"
      },
      "outputs": [
        {
          "output_type": "execute_result",
          "data": {
            "text/plain": [
              "(5595063, 14)"
            ]
          },
          "metadata": {},
          "execution_count": 41
        }
      ],
      "source": [
        "Cyclistic_data.shape"
      ]
    },
    {
      "cell_type": "code",
      "execution_count": 42,
      "metadata": {
        "colab": {
          "base_uri": "https://localhost:8080/"
        },
        "id": "H2MQ-pio_vbv",
        "outputId": "13dfa8d0-5a59-473e-8003-5726bcd378c3"
      },
      "outputs": [
        {
          "output_type": "execute_result",
          "data": {
            "text/plain": [
              "1.0"
            ]
          },
          "metadata": {},
          "execution_count": 42
        }
      ],
      "source": [
        "# menemukan persentase total nilai nol dalam dataset\n",
        "5595063/5595063"
      ]
    },
    {
      "cell_type": "code",
      "execution_count": 43,
      "metadata": {
        "id": "-HDhwL-RAOEN"
      },
      "outputs": [],
      "source": [
        "# hapus semua row yang nilainya kosong\n",
        "Cyclistic_data.dropna(inplace= True)"
      ]
    },
    {
      "cell_type": "code",
      "execution_count": 44,
      "metadata": {
        "colab": {
          "base_uri": "https://localhost:8080/",
          "height": 444
        },
        "id": "ACIrTVJyA-ak",
        "outputId": "76718031-5cfd-4210-bf62-57543ede01cd"
      },
      "outputs": [
        {
          "output_type": "execute_result",
          "data": {
            "text/plain": [
              "                ride_id  rideable_type          started_at  \\\n",
              "65943  BC3CB970F08D36B6  electric_bike 2021-01-01 15:35:15   \n",
              "14763  5E125D8F1F7B1813   classic_bike 2021-01-01 14:26:46   \n",
              "58467  15ACCC355D076101   classic_bike 2021-01-01 20:02:09   \n",
              "12687  90EBA06FDFD44CFE   classic_bike 2021-01-01 13:12:14   \n",
              "22135  CBF551444E1D77B8   classic_bike 2021-01-01 16:47:56   \n",
              "\n",
              "                 ended_at         start_station_name start_station_id  \\\n",
              "65943 2021-01-01 15:44:46   Kingsbury St & Kinzie St     KA1503000043   \n",
              "14763 2021-01-01 14:32:16  Columbus Dr & Randolph St            13263   \n",
              "58467 2021-01-01 20:39:53   Fairbanks Ct & Grand Ave     TA1305000003   \n",
              "12687 2021-01-01 13:17:09       Federal St & Polk St           SL-008   \n",
              "22135 2021-01-01 16:52:02     Paulina St & Howard St              515   \n",
              "\n",
              "                  end_station_name end_station_id member_casual  \\\n",
              "65943            Clark St & Elm St   TA1307000039        member   \n",
              "14763         New St & Illinois St   TA1306000013        member   \n",
              "58467  Field Blvd & South Water St          15534        member   \n",
              "12687   Franklin St & Jackson Blvd   TA1305000025        member   \n",
              "22135   Greenview Ave & Jarvis Ave            520        member   \n",
              "\n",
              "          ride_length start_date day_name  year  month  \n",
              "65943 0 days 00:09:31 2021-01-01   Friday  2021      1  \n",
              "14763 0 days 00:05:30 2021-01-01   Friday  2021      1  \n",
              "58467 0 days 00:37:44 2021-01-01   Friday  2021      1  \n",
              "12687 0 days 00:04:55 2021-01-01   Friday  2021      1  \n",
              "22135 0 days 00:04:06 2021-01-01   Friday  2021      1  "
            ],
            "text/html": [
              "\n",
              "  <div id=\"df-dda987da-fb2c-4f7d-a4b5-c925f52750a0\">\n",
              "    <div class=\"colab-df-container\">\n",
              "      <div>\n",
              "<style scoped>\n",
              "    .dataframe tbody tr th:only-of-type {\n",
              "        vertical-align: middle;\n",
              "    }\n",
              "\n",
              "    .dataframe tbody tr th {\n",
              "        vertical-align: top;\n",
              "    }\n",
              "\n",
              "    .dataframe thead th {\n",
              "        text-align: right;\n",
              "    }\n",
              "</style>\n",
              "<table border=\"1\" class=\"dataframe\">\n",
              "  <thead>\n",
              "    <tr style=\"text-align: right;\">\n",
              "      <th></th>\n",
              "      <th>ride_id</th>\n",
              "      <th>rideable_type</th>\n",
              "      <th>started_at</th>\n",
              "      <th>ended_at</th>\n",
              "      <th>start_station_name</th>\n",
              "      <th>start_station_id</th>\n",
              "      <th>end_station_name</th>\n",
              "      <th>end_station_id</th>\n",
              "      <th>member_casual</th>\n",
              "      <th>ride_length</th>\n",
              "      <th>start_date</th>\n",
              "      <th>day_name</th>\n",
              "      <th>year</th>\n",
              "      <th>month</th>\n",
              "    </tr>\n",
              "  </thead>\n",
              "  <tbody>\n",
              "    <tr>\n",
              "      <th>65943</th>\n",
              "      <td>BC3CB970F08D36B6</td>\n",
              "      <td>electric_bike</td>\n",
              "      <td>2021-01-01 15:35:15</td>\n",
              "      <td>2021-01-01 15:44:46</td>\n",
              "      <td>Kingsbury St &amp; Kinzie St</td>\n",
              "      <td>KA1503000043</td>\n",
              "      <td>Clark St &amp; Elm St</td>\n",
              "      <td>TA1307000039</td>\n",
              "      <td>member</td>\n",
              "      <td>0 days 00:09:31</td>\n",
              "      <td>2021-01-01</td>\n",
              "      <td>Friday</td>\n",
              "      <td>2021</td>\n",
              "      <td>1</td>\n",
              "    </tr>\n",
              "    <tr>\n",
              "      <th>14763</th>\n",
              "      <td>5E125D8F1F7B1813</td>\n",
              "      <td>classic_bike</td>\n",
              "      <td>2021-01-01 14:26:46</td>\n",
              "      <td>2021-01-01 14:32:16</td>\n",
              "      <td>Columbus Dr &amp; Randolph St</td>\n",
              "      <td>13263</td>\n",
              "      <td>New St &amp; Illinois St</td>\n",
              "      <td>TA1306000013</td>\n",
              "      <td>member</td>\n",
              "      <td>0 days 00:05:30</td>\n",
              "      <td>2021-01-01</td>\n",
              "      <td>Friday</td>\n",
              "      <td>2021</td>\n",
              "      <td>1</td>\n",
              "    </tr>\n",
              "    <tr>\n",
              "      <th>58467</th>\n",
              "      <td>15ACCC355D076101</td>\n",
              "      <td>classic_bike</td>\n",
              "      <td>2021-01-01 20:02:09</td>\n",
              "      <td>2021-01-01 20:39:53</td>\n",
              "      <td>Fairbanks Ct &amp; Grand Ave</td>\n",
              "      <td>TA1305000003</td>\n",
              "      <td>Field Blvd &amp; South Water St</td>\n",
              "      <td>15534</td>\n",
              "      <td>member</td>\n",
              "      <td>0 days 00:37:44</td>\n",
              "      <td>2021-01-01</td>\n",
              "      <td>Friday</td>\n",
              "      <td>2021</td>\n",
              "      <td>1</td>\n",
              "    </tr>\n",
              "    <tr>\n",
              "      <th>12687</th>\n",
              "      <td>90EBA06FDFD44CFE</td>\n",
              "      <td>classic_bike</td>\n",
              "      <td>2021-01-01 13:12:14</td>\n",
              "      <td>2021-01-01 13:17:09</td>\n",
              "      <td>Federal St &amp; Polk St</td>\n",
              "      <td>SL-008</td>\n",
              "      <td>Franklin St &amp; Jackson Blvd</td>\n",
              "      <td>TA1305000025</td>\n",
              "      <td>member</td>\n",
              "      <td>0 days 00:04:55</td>\n",
              "      <td>2021-01-01</td>\n",
              "      <td>Friday</td>\n",
              "      <td>2021</td>\n",
              "      <td>1</td>\n",
              "    </tr>\n",
              "    <tr>\n",
              "      <th>22135</th>\n",
              "      <td>CBF551444E1D77B8</td>\n",
              "      <td>classic_bike</td>\n",
              "      <td>2021-01-01 16:47:56</td>\n",
              "      <td>2021-01-01 16:52:02</td>\n",
              "      <td>Paulina St &amp; Howard St</td>\n",
              "      <td>515</td>\n",
              "      <td>Greenview Ave &amp; Jarvis Ave</td>\n",
              "      <td>520</td>\n",
              "      <td>member</td>\n",
              "      <td>0 days 00:04:06</td>\n",
              "      <td>2021-01-01</td>\n",
              "      <td>Friday</td>\n",
              "      <td>2021</td>\n",
              "      <td>1</td>\n",
              "    </tr>\n",
              "  </tbody>\n",
              "</table>\n",
              "</div>\n",
              "      <button class=\"colab-df-convert\" onclick=\"convertToInteractive('df-dda987da-fb2c-4f7d-a4b5-c925f52750a0')\"\n",
              "              title=\"Convert this dataframe to an interactive table.\"\n",
              "              style=\"display:none;\">\n",
              "        \n",
              "  <svg xmlns=\"http://www.w3.org/2000/svg\" height=\"24px\"viewBox=\"0 0 24 24\"\n",
              "       width=\"24px\">\n",
              "    <path d=\"M0 0h24v24H0V0z\" fill=\"none\"/>\n",
              "    <path d=\"M18.56 5.44l.94 2.06.94-2.06 2.06-.94-2.06-.94-.94-2.06-.94 2.06-2.06.94zm-11 1L8.5 8.5l.94-2.06 2.06-.94-2.06-.94L8.5 2.5l-.94 2.06-2.06.94zm10 10l.94 2.06.94-2.06 2.06-.94-2.06-.94-.94-2.06-.94 2.06-2.06.94z\"/><path d=\"M17.41 7.96l-1.37-1.37c-.4-.4-.92-.59-1.43-.59-.52 0-1.04.2-1.43.59L10.3 9.45l-7.72 7.72c-.78.78-.78 2.05 0 2.83L4 21.41c.39.39.9.59 1.41.59.51 0 1.02-.2 1.41-.59l7.78-7.78 2.81-2.81c.8-.78.8-2.07 0-2.86zM5.41 20L4 18.59l7.72-7.72 1.47 1.35L5.41 20z\"/>\n",
              "  </svg>\n",
              "      </button>\n",
              "      \n",
              "  <style>\n",
              "    .colab-df-container {\n",
              "      display:flex;\n",
              "      flex-wrap:wrap;\n",
              "      gap: 12px;\n",
              "    }\n",
              "\n",
              "    .colab-df-convert {\n",
              "      background-color: #E8F0FE;\n",
              "      border: none;\n",
              "      border-radius: 50%;\n",
              "      cursor: pointer;\n",
              "      display: none;\n",
              "      fill: #1967D2;\n",
              "      height: 32px;\n",
              "      padding: 0 0 0 0;\n",
              "      width: 32px;\n",
              "    }\n",
              "\n",
              "    .colab-df-convert:hover {\n",
              "      background-color: #E2EBFA;\n",
              "      box-shadow: 0px 1px 2px rgba(60, 64, 67, 0.3), 0px 1px 3px 1px rgba(60, 64, 67, 0.15);\n",
              "      fill: #174EA6;\n",
              "    }\n",
              "\n",
              "    [theme=dark] .colab-df-convert {\n",
              "      background-color: #3B4455;\n",
              "      fill: #D2E3FC;\n",
              "    }\n",
              "\n",
              "    [theme=dark] .colab-df-convert:hover {\n",
              "      background-color: #434B5C;\n",
              "      box-shadow: 0px 1px 3px 1px rgba(0, 0, 0, 0.15);\n",
              "      filter: drop-shadow(0px 1px 2px rgba(0, 0, 0, 0.3));\n",
              "      fill: #FFFFFF;\n",
              "    }\n",
              "  </style>\n",
              "\n",
              "      <script>\n",
              "        const buttonEl =\n",
              "          document.querySelector('#df-dda987da-fb2c-4f7d-a4b5-c925f52750a0 button.colab-df-convert');\n",
              "        buttonEl.style.display =\n",
              "          google.colab.kernel.accessAllowed ? 'block' : 'none';\n",
              "\n",
              "        async function convertToInteractive(key) {\n",
              "          const element = document.querySelector('#df-dda987da-fb2c-4f7d-a4b5-c925f52750a0');\n",
              "          const dataTable =\n",
              "            await google.colab.kernel.invokeFunction('convertToInteractive',\n",
              "                                                     [key], {});\n",
              "          if (!dataTable) return;\n",
              "\n",
              "          const docLinkHtml = 'Like what you see? Visit the ' +\n",
              "            '<a target=\"_blank\" href=https://colab.research.google.com/notebooks/data_table.ipynb>data table notebook</a>'\n",
              "            + ' to learn more about interactive tables.';\n",
              "          element.innerHTML = '';\n",
              "          dataTable['output_type'] = 'display_data';\n",
              "          await google.colab.output.renderOutput(dataTable, element);\n",
              "          const docLink = document.createElement('div');\n",
              "          docLink.innerHTML = docLinkHtml;\n",
              "          element.appendChild(docLink);\n",
              "        }\n",
              "      </script>\n",
              "    </div>\n",
              "  </div>\n",
              "  "
            ]
          },
          "metadata": {},
          "execution_count": 44
        }
      ],
      "source": [
        "Cyclistic_data.head()"
      ]
    },
    {
      "cell_type": "code",
      "execution_count": 45,
      "metadata": {
        "colab": {
          "base_uri": "https://localhost:8080/"
        },
        "id": "s2m_UH3oB4gg",
        "outputId": "6dce0681-0400-4a2d-c436-48bd3a0ed999"
      },
      "outputs": [
        {
          "output_type": "execute_result",
          "data": {
            "text/plain": [
              "ride_id               0\n",
              "rideable_type         0\n",
              "started_at            0\n",
              "ended_at              0\n",
              "start_station_name    0\n",
              "start_station_id      0\n",
              "end_station_name      0\n",
              "end_station_id        0\n",
              "member_casual         0\n",
              "ride_length           0\n",
              "start_date            0\n",
              "day_name              0\n",
              "year                  0\n",
              "month                 0\n",
              "dtype: int64"
            ]
          },
          "metadata": {},
          "execution_count": 45
        }
      ],
      "source": [
        "Cyclistic_data.isnull().sum()"
      ]
    },
    {
      "cell_type": "code",
      "execution_count": 47,
      "metadata": {
        "id": "1PgU22e-Aixy"
      },
      "outputs": [],
      "source": [
        "# simpan dataset yang sudah bersih\n",
        "Cyclistic_data.to_csv('/content/drive/MyDrive/Dataset_Divvy/Cyclistic_data_cleaned.csv')"
      ]
    },
    {
      "cell_type": "markdown",
      "metadata": {
        "id": "p_PtQY0Gt5_t"
      },
      "source": [
        "# ANALISIS DATA EKSPLORASI (EDA)\n",
        "\n",
        "Analisis Data Eksplorasi, adalah langkah penting dalam setiap Analisis Data atau proyek Ilmu Data. EDA adalah proses menyelidiki dataset untuk menemukan pola, dan anomali (outlier), dan membentuk hipotesis berdasarkan pemahaman kita tentang dataset. \n",
        "\n",
        "Ini melibatkan pembuatan statistik ringkasan untuk data numerik dalam dataset dan membuat berbagai representasi grafis untuk memahami data dengan lebih baik. Saya menghitung mean, jumlah total, min, max, dan standar deviasi dari panjang perjalanan semua jenis pengguna, kemudian saya menghapus nilai negatif dalam dataset yang memiringkan hasil saya, kemudian saya memfilter panjang perjalanan untuk anggota dan pengendara biasa, langkah selanjutnya adalah menghitung modus hari kerja untuk semua pengguna yaitu hari dimana pengguna menggunakan sepeda motor. \n",
        "\n",
        "Langkah selanjutnya adalah menghitung moda hari kerja untuk semua pengguna, yaitu hari dimana pengguna paling banyak menggunakan sepeda yaitu pada hari Sabtu, melakukan hal yang sama hanya untuk anggota menunjukkan bahwa anggota lebih banyak menggunakan sepeda pada hari Rabu dan mengulangi proses yang sama untuk pengendara biasa menunjukkan bahwa mereka lebih aktif pada hari Sabtu. Kemudian saya menghitung jumlah perjalanan pengguna dalam seminggu, yang kemudian saya ulangi untuk anggota dan pengendara biasa, ini menunjukkan bahwa anggota menggunakan sepeda lebih banyak dalam seminggu dibandingkan dengan pengendara biasa. \n",
        "\n",
        "Analisis ini menunjukkan bahwa anggota Cyclistic lebih banyak menggunakan sepeda terutama selama pertengahan minggu, tetapi selalu ada lonjakan pengguna biasa pada hari Sabtu. Hal ini menunjukkan bahwa anggota Cyclistic menggunakan sepeda mereka untuk pergi ke tempat kerja dan kembali sementara pengguna biasa kebanyakan menggunakan sepeda pada akhir pekan untuk tugas-tugas kecil."
      ]
    },
    {
      "cell_type": "code",
      "execution_count": 48,
      "metadata": {
        "colab": {
          "base_uri": "https://localhost:8080/"
        },
        "id": "3AJTPF-KCGO9",
        "outputId": "09f2161a-4884-4e5d-f569-58fbf14428bf"
      },
      "outputs": [
        {
          "output_type": "execute_result",
          "data": {
            "text/plain": [
              "False"
            ]
          },
          "metadata": {},
          "execution_count": 48
        }
      ],
      "source": [
        "# cek apakah ada data duplikat\n",
        "Cyclistic_data.duplicated().any()"
      ]
    },
    {
      "cell_type": "code",
      "execution_count": 49,
      "metadata": {
        "colab": {
          "base_uri": "https://localhost:8080/"
        },
        "id": "7h3wC9GbvDQa",
        "outputId": "3b36b2f6-12d2-4d1d-f79e-fee1b9c5e49c"
      },
      "outputs": [
        {
          "output_type": "execute_result",
          "data": {
            "text/plain": [
              "count                      4588302\n",
              "mean     0 days 00:21:48.637676421\n",
              "std      0 days 03:04:25.503842186\n",
              "min              -1 days +23:04:06\n",
              "25%                0 days 00:06:57\n",
              "50%                0 days 00:12:12\n",
              "75%                0 days 00:22:07\n",
              "max               38 days 20:24:09\n",
              "Name: ride_length, dtype: object"
            ]
          },
          "metadata": {},
          "execution_count": 49
        }
      ],
      "source": [
        "# menghitung rata-rata panjang perjalanan dari semua jenis pengguna\n",
        "\n",
        "Cyclistic_data.ride_length.describe(datetime_is_numeric= True)"
      ]
    },
    {
      "cell_type": "code",
      "execution_count": 50,
      "metadata": {
        "colab": {
          "base_uri": "https://localhost:8080/"
        },
        "id": "K_GkrnFDGk0-",
        "outputId": "03a84333-e7d6-4019-bf61-bfdbd874ec1e"
      },
      "outputs": [
        {
          "output_type": "execute_result",
          "data": {
            "text/plain": [
              "ride_id               116\n",
              "rideable_type         116\n",
              "started_at            116\n",
              "ended_at              116\n",
              "start_station_name    116\n",
              "start_station_id      116\n",
              "end_station_name      116\n",
              "end_station_id        116\n",
              "member_casual         116\n",
              "ride_length           116\n",
              "start_date            116\n",
              "day_name              116\n",
              "year                  116\n",
              "month                 116\n",
              "dtype: int64"
            ]
          },
          "metadata": {},
          "execution_count": 50
        }
      ],
      "source": [
        "# Filter Nilai negatif\n",
        "negative_duration = Cyclistic_data['ride_length'] < '00:00:00'\n",
        "# tunjukkan jumlah durasi waktu negatif\n",
        "Cyclistic_data[negative_duration].count()"
      ]
    },
    {
      "cell_type": "code",
      "execution_count": 51,
      "metadata": {
        "id": "Ubhcf8BZHj3d"
      },
      "outputs": [],
      "source": [
        "Cyclistic_data.drop(Cyclistic_data[negative_duration].index, inplace= True)"
      ]
    },
    {
      "cell_type": "code",
      "execution_count": 52,
      "metadata": {
        "colab": {
          "base_uri": "https://localhost:8080/"
        },
        "id": "ebreNLiaHj-L",
        "outputId": "ceb9e026-20de-460e-e439-392565496a47"
      },
      "outputs": [
        {
          "output_type": "execute_result",
          "data": {
            "text/plain": [
              "count                      2539431\n",
              "mean     0 days 00:13:11.022482989\n",
              "std      0 days 00:17:32.901085710\n",
              "min                0 days 00:00:00\n",
              "25%                0 days 00:05:43\n",
              "50%                0 days 00:09:43\n",
              "75%                0 days 00:16:31\n",
              "max                1 days 00:55:38\n",
              "Name: ride_length, dtype: object"
            ]
          },
          "metadata": {},
          "execution_count": 52
        }
      ],
      "source": [
        "member_filter = Cyclistic_data['member_casual'] == 'member'\n",
        "Cyclistic_data[member_filter].ride_length.describe()"
      ]
    },
    {
      "cell_type": "code",
      "execution_count": 53,
      "metadata": {
        "colab": {
          "base_uri": "https://localhost:8080/"
        },
        "id": "YPx4sXTyL7EF",
        "outputId": "5cbe2f19-e3f0-428c-f9b1-b2af61339ebc"
      },
      "outputs": [
        {
          "output_type": "execute_result",
          "data": {
            "text/plain": [
              "count                      2048013\n",
              "mean     0 days 00:32:30.635092648\n",
              "std      0 days 04:34:58.555432792\n",
              "min                0 days 00:00:00\n",
              "25%                0 days 00:09:30\n",
              "50%                0 days 00:16:39\n",
              "75%                0 days 00:30:39\n",
              "max               38 days 20:24:09\n",
              "Name: ride_length, dtype: object"
            ]
          },
          "metadata": {},
          "execution_count": 53
        }
      ],
      "source": [
        "Cyclistic_data[~member_filter].ride_length.describe()"
      ]
    },
    {
      "cell_type": "code",
      "execution_count": 54,
      "metadata": {
        "colab": {
          "base_uri": "https://localhost:8080/"
        },
        "id": "TkszQhMDMLi0",
        "outputId": "10d4b2e0-fe8d-485c-caa2-9c1d343e70cb"
      },
      "outputs": [
        {
          "output_type": "execute_result",
          "data": {
            "text/plain": [
              "0    Saturday\n",
              "Name: day_name, dtype: category\n",
              "Categories (7, object): ['Friday', 'Monday', 'Saturday', 'Sunday', 'Thursday', 'Tuesday',\n",
              "                         'Wednesday']"
            ]
          },
          "metadata": {},
          "execution_count": 54
        }
      ],
      "source": [
        "# menghitung modus hari kerja dari semua pengguna\n",
        "mode_week_day = Cyclistic_data['day_name'].mode()\n",
        "mode_week_day"
      ]
    },
    {
      "cell_type": "code",
      "execution_count": 55,
      "metadata": {
        "colab": {
          "base_uri": "https://localhost:8080/"
        },
        "id": "PagxpsxfMRTk",
        "outputId": "60fb416e-ca33-4218-fee4-db6a583ef962"
      },
      "outputs": [
        {
          "output_type": "execute_result",
          "data": {
            "text/plain": [
              "0    Wednesday\n",
              "Name: day_name, dtype: category\n",
              "Categories (7, object): ['Friday', 'Monday', 'Saturday', 'Sunday', 'Thursday', 'Tuesday',\n",
              "                         'Wednesday']"
            ]
          },
          "metadata": {},
          "execution_count": 55
        }
      ],
      "source": [
        "# menghitung modus hari kerja Member\n",
        "mode_week_day_member = Cyclistic_data[Cyclistic_data['member_casual'] == 'member']\n",
        "mode_week_day_member = mode_week_day_member['day_name'].mode()\n",
        "mode_week_day_member"
      ]
    },
    {
      "cell_type": "code",
      "execution_count": 56,
      "metadata": {
        "colab": {
          "base_uri": "https://localhost:8080/"
        },
        "id": "DjDv2M3bMe2V",
        "outputId": "aead439a-d107-402f-f630-22d2e53be11a"
      },
      "outputs": [
        {
          "output_type": "execute_result",
          "data": {
            "text/plain": [
              "0    Saturday\n",
              "Name: day_name, dtype: category\n",
              "Categories (7, object): ['Friday', 'Monday', 'Saturday', 'Sunday', 'Thursday', 'Tuesday',\n",
              "                         'Wednesday']"
            ]
          },
          "metadata": {},
          "execution_count": 56
        }
      ],
      "source": [
        "# menghitung modus hari kerja Pengguna Biasa\n",
        "mode_week_day_casual = Cyclistic_data[Cyclistic_data['member_casual'] == 'casual']\n",
        "mode_week_day_casual = mode_week_day_casual['day_name'].mode()\n",
        "mode_week_day_casual"
      ]
    },
    {
      "cell_type": "code",
      "execution_count": 58,
      "metadata": {
        "colab": {
          "base_uri": "https://localhost:8080/"
        },
        "id": "QNj8PXSyM_V9",
        "outputId": "94c80ed6-189d-481e-a268-374242f892bc"
      },
      "outputs": [
        {
          "output_type": "execute_result",
          "data": {
            "text/plain": [
              "day_name\n",
              "Friday       655709\n",
              "Monday       575326\n",
              "Saturday     825264\n",
              "Sunday       714852\n",
              "Thursday     597585\n",
              "Tuesday      602976\n",
              "Wednesday    615732\n",
              "Name: ride_id, dtype: int64"
            ]
          },
          "metadata": {},
          "execution_count": 58
        }
      ],
      "source": [
        "# menghitung jumlah perjalanan oleh pengguna dalam seminggu dengan menambahkan jumlah ride_id ke nilai\n",
        "count_users = Cyclistic_data.groupby('day_name')['ride_id'].count()\n",
        "count_users = count_users.sort_index()\n",
        "count_users"
      ]
    },
    {
      "cell_type": "code",
      "execution_count": 59,
      "metadata": {
        "colab": {
          "base_uri": "https://localhost:8080/"
        },
        "id": "ejald6Q-NHDX",
        "outputId": "3db7b3d7-19cd-44bf-a328-7986da62bf89"
      },
      "outputs": [
        {
          "output_type": "execute_result",
          "data": {
            "text/plain": [
              "day_name\n",
              "Friday       365711\n",
              "Monday       346428\n",
              "Saturday     357020\n",
              "Sunday       311167\n",
              "Thursday     373416\n",
              "Tuesday      388071\n",
              "Wednesday    397618\n",
              "Name: ride_id, dtype: int64"
            ]
          },
          "metadata": {},
          "execution_count": 59
        }
      ],
      "source": [
        "# menghitung jumlah perjalanan anggota dalam seminggu\n",
        "count_members = Cyclistic_data[Cyclistic_data['member_casual'] == 'member'].groupby('day_name')['ride_id'].count()\n",
        "count_members"
      ]
    },
    {
      "cell_type": "code",
      "execution_count": 60,
      "metadata": {
        "colab": {
          "base_uri": "https://localhost:8080/"
        },
        "id": "npAb-c4aNSP8",
        "outputId": "47bae1f7-4e26-41f8-9ff2-f79856468326"
      },
      "outputs": [
        {
          "output_type": "execute_result",
          "data": {
            "text/plain": [
              "day_name\n",
              "Friday       289998\n",
              "Monday       228898\n",
              "Saturday     468244\n",
              "Sunday       403685\n",
              "Thursday     224169\n",
              "Tuesday      214905\n",
              "Wednesday    218114\n",
              "Name: ride_id, dtype: int64"
            ]
          },
          "metadata": {},
          "execution_count": 60
        }
      ],
      "source": [
        "# menghitung jumlah perjalanan yang dilakukan oleh pengendara biasa dalam seminggu\n",
        "count_casual = Cyclistic_data[Cyclistic_data['member_casual'] == 'casual'].groupby('day_name')['ride_id'].count()\n",
        "count_casual"
      ]
    },
    {
      "cell_type": "markdown",
      "metadata": {
        "id": "M9HsgMlQvKMb"
      },
      "source": [
        "# VISUALISASI"
      ]
    },
    {
      "cell_type": "code",
      "execution_count": 61,
      "metadata": {
        "id": "sh3t3xwMvT_r",
        "colab": {
          "base_uri": "https://localhost:8080/",
          "height": 499
        },
        "outputId": "b5c6f8c5-92ec-450a-8bc0-4894aaa05255"
      },
      "outputs": [
        {
          "output_type": "display_data",
          "data": {
            "text/plain": [
              "<Figure size 720x576 with 1 Axes>"
            ],
            "image/png": "[encoded data removed]"
          },
          "metadata": {
            "needs_background": "light"
          }
        }
      ],
      "source": [
        "# plot grafik untuk jumlah perjalanan oleh pengendara biasa dan anggota tahunan \n",
        "plt.figure(figsize = (10,8))\n",
        "plt.plot(count_members.index, count_members.values)\n",
        "plt.plot(count_casual.index, count_casual.values)\n",
        "plt.title('Calculate the number of rides by Annual Members and Casual Riders')\n",
        "plt.legend(['members', 'casual'])\n",
        "labels = ['Sunday', 'Monday', 'Tuesday', 'Wednesday', 'Thursday', 'Friday', 'Saturday']\n",
        "plt.xticks(count_casual.index, labels)\n",
        "plt.show()"
      ]
    },
    {
      "cell_type": "markdown",
      "source": [
        "Visualisasi jumlah perjalanan oleh Anggota Tahunan dan Pengendara Biasa. Dari visualisasi ini, kita dapat melihat bahwa ada lonjakan jumlah wahana oleh pengendara biasa dan penurunan tajam jumlah wahana oleh anggota selama pertengahan minggu, juga jumlah wahana oleh anggota meningkat secara stabil untuk anggota selama akhir pekan dan juga penurunan besar dalam jumlah wahana oleh pengendara biasa selama periode yang sama."
      ],
      "metadata": {
        "id": "YtLqnPOHYBsU"
      }
    },
    {
      "cell_type": "code",
      "source": [
        "# menghitung rata-rata lama perjalanan untuk semua pengguna dalam seminggu\n",
        "user_avg_rides = Cyclistic_data.groupby('day_name')['ride_length'].mean(numeric_only=False)\n",
        "user_avg_rides"
      ],
      "metadata": {
        "colab": {
          "base_uri": "https://localhost:8080/"
        },
        "id": "M9Tx-W-FX_e5",
        "outputId": "b5168e97-6228-4974-aeab-590323b8ae84"
      },
      "execution_count": 62,
      "outputs": [
        {
          "output_type": "execute_result",
          "data": {
            "text/plain": [
              "day_name\n",
              "Friday      0 days 00:20:48.576697894\n",
              "Monday      0 days 00:20:38.878588834\n",
              "Saturday    0 days 00:26:11.803202369\n",
              "Sunday      0 days 00:27:50.981617173\n",
              "Thursday    0 days 00:18:13.650349322\n",
              "Tuesday     0 days 00:18:14.297945523\n",
              "Wednesday   0 days 00:18:03.538635315\n",
              "Name: ride_length, dtype: timedelta64[ns]"
            ]
          },
          "metadata": {},
          "execution_count": 62
        }
      ]
    },
    {
      "cell_type": "code",
      "source": [
        "# menghitung rata-rata lama perjalanan untuk Member dalam seminggu\n",
        "user_avg_members = Cyclistic_data[Cyclistic_data['member_casual'] == 'member'].groupby('day_name')['ride_length'].mean(numeric_only=False)\n",
        "user_avg_members"
      ],
      "metadata": {
        "colab": {
          "base_uri": "https://localhost:8080/"
        },
        "id": "PVbqrsbeYYMr",
        "outputId": "d83b80c8-d4bf-4215-f733-2560b7c8024a"
      },
      "execution_count": 63,
      "outputs": [
        {
          "output_type": "execute_result",
          "data": {
            "text/plain": [
              "day_name\n",
              "Friday      0 days 00:12:47.563775768\n",
              "Monday      0 days 00:12:43.518309720\n",
              "Saturday    0 days 00:14:49.105277015\n",
              "Sunday      0 days 00:15:11.692814469\n",
              "Thursday    0 days 00:12:21.218391820\n",
              "Tuesday     0 days 00:12:23.223956440\n",
              "Wednesday   0 days 00:12:27.483320674\n",
              "Name: ride_length, dtype: timedelta64[ns]"
            ]
          },
          "metadata": {},
          "execution_count": 63
        }
      ]
    },
    {
      "cell_type": "code",
      "source": [
        "# menghitung rata-rata lama perjalanan untuk casual_riders dalam seminggu\n",
        "user_avg_casual = Cyclistic_data[Cyclistic_data['member_casual'] == 'casual'].groupby('day_name')['ride_length'].mean(numeric_only=False)\n",
        "user_avg_casual "
      ],
      "metadata": {
        "colab": {
          "base_uri": "https://localhost:8080/"
        },
        "id": "BtET8GvhYhxY",
        "outputId": "9f661aa6-17a6-492b-9728-25bfa0a4dfbe"
      },
      "execution_count": 64,
      "outputs": [
        {
          "output_type": "execute_result",
          "data": {
            "text/plain": [
              "day_name\n",
              "Friday      0 days 00:30:55.173008089\n",
              "Monday      0 days 00:32:38.317425228\n",
              "Saturday    0 days 00:34:52.336969614\n",
              "Sunday      0 days 00:37:36.253843962\n",
              "Thursday    0 days 00:28:00.724083169\n",
              "Tuesday     0 days 00:28:48.260087015\n",
              "Wednesday   0 days 00:28:16.161585226\n",
              "Name: ride_length, dtype: timedelta64[ns]"
            ]
          },
          "metadata": {},
          "execution_count": 64
        }
      ]
    },
    {
      "cell_type": "code",
      "source": [
        "# plot rata-rata panjang perjalanan untuk pengguna yang berbeda selama seminggu\n",
        "plt.figure(figsize = (10,6))\n",
        "plt.plot(user_avg_members/pd.Timedelta(minutes=1))\n",
        "plt.plot(user_avg_casual/pd.Timedelta(minutes=1))\n",
        "plt.title('Durasi perjalanan rata-rata untuk kedua jenis pengguna selama seminggu')\n",
        "plt.legend(['members', 'casual'])\n",
        "labels = ['Sunday', 'Monday', 'Tuesday', 'Wednesday', 'Thursday', 'Friday', 'Saturday']\n",
        "plt.xticks(user_avg_members.index, labels)\n",
        "plt.show"
      ],
      "metadata": {
        "colab": {
          "base_uri": "https://localhost:8080/",
          "height": 462
        },
        "id": "D3Vc7at0YkW4",
        "outputId": "b18bd3ed-df44-4a6c-d257-3b17f6fae587"
      },
      "execution_count": 77,
      "outputs": [
        {
          "output_type": "stream",
          "name": "stderr",
          "text": [
            "/usr/local/lib/python3.7/dist-packages/matplotlib/axes/_base.py:348: FutureWarning: Support for multi-dimensional indexing (e.g. `obj[:, None]`) is deprecated and will be removed in a future version.  Convert to a numpy array before indexing instead.\n",
            "  x = x[:, np.newaxis]\n"
          ]
        },
        {
          "output_type": "execute_result",
          "data": {
            "text/plain": [
              "<function matplotlib.pyplot.show(*args, **kw)>"
            ]
          },
          "metadata": {},
          "execution_count": 77
        },
        {
          "output_type": "display_data",
          "data": {
            "text/plain": [
              "<Figure size 720x432 with 1 Axes>"
            ],
            "image/png": "[encoded data removed]"
          },
          "metadata": {
            "needs_background": "light"
          }
        }
      ]
    },
    {
      "cell_type": "code",
      "source": [
        "# memeriksa jumlah pengguna di setiap jenis selama 12 bulan terakhir\n",
        "user_types = Cyclistic_data['member_casual'].value_counts()\n",
        "user_types"
      ],
      "metadata": {
        "colab": {
          "base_uri": "https://localhost:8080/"
        },
        "id": "vJRxMsIWYrbx",
        "outputId": "92d68e88-61d2-445e-f00b-b907f25435c7"
      },
      "execution_count": 66,
      "outputs": [
        {
          "output_type": "execute_result",
          "data": {
            "text/plain": [
              "member    2539431\n",
              "casual    2048013\n",
              "Name: member_casual, dtype: int64"
            ]
          },
          "metadata": {},
          "execution_count": 66
        }
      ]
    },
    {
      "cell_type": "code",
      "source": [
        "plt.title('jumlah pengguna di setiap jenis')\n",
        "plt.bar(user_types.index, user_types.values)\n",
        "plt.show()"
      ],
      "metadata": {
        "colab": {
          "base_uri": "https://localhost:8080/",
          "height": 281
        },
        "id": "kTq9tmWNYv1r",
        "outputId": "d808c6ba-67ad-4f29-e23d-945501751791"
      },
      "execution_count": 78,
      "outputs": [
        {
          "output_type": "display_data",
          "data": {
            "text/plain": [
              "<Figure size 432x288 with 1 Axes>"
            ],
            "image/png": "[encoded data removed]"
          },
          "metadata": {
            "needs_background": "light"
          }
        }
      ]
    },
    {
      "cell_type": "code",
      "source": [
        "# untuk memplot diagram lingkaran pengguna di setiap tipe \n",
        "plt.figure(figsize = (9,6))\n",
        "plt.pie(user_types.values, labels= user_types.index, autopct= '%1.1f%%')\n",
        "plt.legend(user_types.index)\n",
        "plt.show\n",
        "plt.title('Diagram Pie pengguna di setiap jenis')"
      ],
      "metadata": {
        "colab": {
          "base_uri": "https://localhost:8080/",
          "height": 390
        },
        "id": "4AynRZQyY0Vw",
        "outputId": "55069e15-88fd-4879-cfde-cf52497c739c"
      },
      "execution_count": 79,
      "outputs": [
        {
          "output_type": "execute_result",
          "data": {
            "text/plain": [
              "Text(0.5, 1.0, 'Diagram Pie pengguna di setiap jenis')"
            ]
          },
          "metadata": {},
          "execution_count": 79
        },
        {
          "output_type": "display_data",
          "data": {
            "text/plain": [
              "<Figure size 648x432 with 1 Axes>"
            ],
            "image/png": "[encoded data removed]"
          },
          "metadata": {}
        }
      ]
    },
    {
      "cell_type": "markdown",
      "source": [
        "Pada grafik batang dan diagram lingkaran, menunjukkan bahwa cyclisic sebagai perusahaan memiliki lebih banyak anggota tahunan(Member) daripada pengendara biasa."
      ],
      "metadata": {
        "id": "xz7-H7CHY9Q6"
      }
    },
    {
      "cell_type": "code",
      "source": [
        "# Untuk memeriksa jumlah pengguna untuk ride_type tertentu\n",
        "ride_type = Cyclistic_data.groupby('member_casual')['rideable_type'].value_counts()\n",
        "ride_type"
      ],
      "metadata": {
        "colab": {
          "base_uri": "https://localhost:8080/"
        },
        "id": "5iMQtN68ZA2x",
        "outputId": "d97a8ffd-54c6-4fb4-fb98-84bb718bb8b8"
      },
      "execution_count": 69,
      "outputs": [
        {
          "output_type": "execute_result",
          "data": {
            "text/plain": [
              "member_casual               \n",
              "casual         classic_bike     1261331\n",
              "               electric_bike     474679\n",
              "               docked_bike       312003\n",
              "member         classic_bike     1980041\n",
              "               electric_bike     559389\n",
              "               docked_bike            1\n",
              "Name: rideable_type, dtype: int64"
            ]
          },
          "metadata": {},
          "execution_count": 69
        }
      ]
    },
    {
      "cell_type": "code",
      "source": [
        "# untuk memisahkan jumlah pengguna menjadi anggota dan pengendara biasa berdasarkan jenis perjalanan\n",
        "list_member = []\n",
        "list_x = []\n",
        "list_y = list(ride_type.values)\n",
        "for i, j in ride_type.index:\n",
        "    list_x.append(j)\n",
        "    list_member.append(str(i))"
      ],
      "metadata": {
        "id": "G8zZXAksZIVZ"
      },
      "execution_count": 83,
      "outputs": []
    },
    {
      "cell_type": "code",
      "source": [
        "# untuk memplot jumlah pengguna menjadi anggota dan pengendara biasa berdasarkan jenis pengendara\n",
        "plt.figure(figsize=(12,8))\n",
        "sns.barplot(list_x, list_y, hue=list_member)\n",
        "plt.title('Pengendara Member dan Casual selama berbulan-bulan berdasarkan ride_type')"
      ],
      "metadata": {
        "colab": {
          "base_uri": "https://localhost:8080/",
          "height": 572
        },
        "id": "9SNEaJ8BZKXs",
        "outputId": "00f506c0-ae67-4e88-98b2-a27e6faa0084"
      },
      "execution_count": 84,
      "outputs": [
        {
          "output_type": "stream",
          "name": "stderr",
          "text": [
            "/usr/local/lib/python3.7/dist-packages/seaborn/_decorators.py:43: FutureWarning: Pass the following variables as keyword args: x, y. From version 0.12, the only valid positional argument will be `data`, and passing other arguments without an explicit keyword will result in an error or misinterpretation.\n",
            "  FutureWarning\n"
          ]
        },
        {
          "output_type": "execute_result",
          "data": {
            "text/plain": [
              "Text(0.5, 1.0, 'Pengendara Member dan Casual selama berbulan-bulan berdasarkan ride_type')"
            ]
          },
          "metadata": {},
          "execution_count": 84
        },
        {
          "output_type": "display_data",
          "data": {
            "text/plain": [
              "<Figure size 864x576 with 1 Axes>"
            ],
            "image/png": "[encoded data removed]"
          },
          "metadata": {
            "needs_background": "light"
          }
        }
      ]
    },
    {
      "cell_type": "markdown",
      "source": [
        "Grafik batang menunjukkan bahwa anggota lebih banyak menggunakan sepeda dan juga pada jenis Docked_bike hanya pengendara biasa yang menggunakan sepeda docked_bikes."
      ],
      "metadata": {
        "id": "NnE6WjZ5ZWQj"
      }
    },
    {
      "cell_type": "code",
      "source": [
        "#untuk memilah jumlah pengguna menjadi anggota(member) dan kasual dari tahun ke tahun\n",
        "users_over_year = Cyclistic_data.groupby('year')['member_casual'].value_counts()\n",
        "users_over_year "
      ],
      "metadata": {
        "colab": {
          "base_uri": "https://localhost:8080/"
        },
        "id": "1Hj9_NnaZYCX",
        "outputId": "8b9424a0-ea36-4177-9ef8-649a8d42a771"
      },
      "execution_count": 81,
      "outputs": [
        {
          "output_type": "execute_result",
          "data": {
            "text/plain": [
              "year  member_casual\n",
              "2021  member           2539431\n",
              "      casual           2048013\n",
              "Name: member_casual, dtype: int64"
            ]
          },
          "metadata": {},
          "execution_count": 81
        }
      ]
    },
    {
      "cell_type": "code",
      "source": [
        "# untuk mendapatkan jumlah total pengguna di setiap kategori per bulan\n",
        "users_over_month = Cyclistic_data.groupby('month')['member_casual'].value_counts()\n",
        "users_over_month"
      ],
      "metadata": {
        "colab": {
          "base_uri": "https://localhost:8080/"
        },
        "id": "BrFUNFdiZeCh",
        "outputId": "b746de62-c23f-48ad-85da-9c9e1fbd125e"
      },
      "execution_count": 73,
      "outputs": [
        {
          "output_type": "execute_result",
          "data": {
            "text/plain": [
              "month  member_casual\n",
              "1      member            68801\n",
              "       casual            14688\n",
              "2      member            34370\n",
              "       casual             8612\n",
              "3      member           130016\n",
              "       casual            75624\n",
              "4      member           177752\n",
              "       casual           120393\n",
              "5      member           234112\n",
              "       casual           216785\n",
              "6      member           304537\n",
              "       casual           304144\n",
              "7      casual           369356\n",
              "       member           322856\n",
              "8      casual           341427\n",
              "       member           332880\n",
              "9      member           328152\n",
              "       casual           292893\n",
              "10     member           288797\n",
              "       casual           189080\n",
              "11     member           185890\n",
              "       casual            69950\n",
              "12     member           131268\n",
              "       casual            45061\n",
              "Name: member_casual, dtype: int64"
            ]
          },
          "metadata": {},
          "execution_count": 73
        }
      ]
    },
    {
      "cell_type": "markdown",
      "source": [
        "Ini menghitung jumlah pengguna per bulan di setiap kategori, dan hasilnya menunjukkan bahwa anggota tahunan yang berlangganan lebih banyak menggunakan sepeda sepeda daripada pengendara biasa kecuali selama bulan Juli dan Agustus ketika ada lonjakan pengendara biasa."
      ],
      "metadata": {
        "id": "FwsMJUHcZnCY"
      }
    },
    {
      "cell_type": "code",
      "source": [
        "#untuk memilah jumlah pengguna menjadi anggota dan kasual selama berbulan-bulan\n",
        "list_month = []\n",
        "list_x = []\n",
        "list_y = (users_over_month.values)\n",
        "for i, j in users_over_month.index:\n",
        "    list_x.append(j)\n",
        "    list_month.append(str(i))"
      ],
      "metadata": {
        "id": "twaKR8bhZp4B"
      },
      "execution_count": 86,
      "outputs": []
    },
    {
      "cell_type": "code",
      "source": [
        "# plot jumlah anggota(member) dan pengendara biasa(casual)\n",
        "plt.figure(figsize= (15,7))\n",
        "sns.barplot(list_x, list_y, hue =list_month)\n",
        "plt.title('Jumlah Member dan casual selama berbulan-bulan')"
      ],
      "metadata": {
        "colab": {
          "base_uri": "https://localhost:8080/",
          "height": 497
        },
        "id": "Kw4xPXuCZuT6",
        "outputId": "3db6e98e-bdfb-4bdf-b0fa-e00b1b9a747d"
      },
      "execution_count": 87,
      "outputs": [
        {
          "output_type": "stream",
          "name": "stderr",
          "text": [
            "/usr/local/lib/python3.7/dist-packages/seaborn/_decorators.py:43: FutureWarning: Pass the following variables as keyword args: x, y. From version 0.12, the only valid positional argument will be `data`, and passing other arguments without an explicit keyword will result in an error or misinterpretation.\n",
            "  FutureWarning\n"
          ]
        },
        {
          "output_type": "execute_result",
          "data": {
            "text/plain": [
              "Text(0.5, 1.0, 'Jumlah Member dan casual selama berbulan-bulan')"
            ]
          },
          "metadata": {},
          "execution_count": 87
        },
        {
          "output_type": "display_data",
          "data": {
            "text/plain": [
              "<Figure size 1080x504 with 1 Axes>"
            ],
            "image/png": "[encoded data removed]"
          },
          "metadata": {
            "needs_background": "light"
          }
        }
      ]
    },
    {
      "cell_type": "markdown",
      "source": [
        "Grafik ini memplot jumlah anggota dan pengendara biasa per bulan, dan ini berkorelasi dengan perhitungan saya di atas"
      ],
      "metadata": {
        "id": "lj-ASph8Zy0J"
      }
    },
    {
      "cell_type": "markdown",
      "metadata": {
        "id": "MYQL95pOvUjj"
      },
      "source": [
        "# KESIMPULAN\n",
        "\n",
        "### MASUKAN\n",
        "\n",
        "\n",
        "\n",
        "*   Cyclistic memiliki lebih banyak anggota tahunan yang berlangganan daripada pengendara biasa\n",
        "*   Pengendara biasa menggunakan sepeda untuk jangka waktu yang lebih lama dibandingkan dengan anggota tahunan\n",
        "*   Pengendara kasual banyak menggunakan sepeda selama pertengahan minggu (Selasa, Rabu) sementara Anggota Tahunan lebih banyak menggunakan sepeda dari hari Kamis hingga akhir pekan.\n",
        "*   Ada juga lonjakan pengendara Casual selama bulan Juli dan Agustus.\n",
        "*   Jenis sepeda Docked Bike memiliki lebih sedikit pengendara tahunan yang menggunakannya dibandingkan dengan pengendara kasual yang lebih banyak menggunakannya."
      ]
    },
    {
      "cell_type": "markdown",
      "metadata": {
        "id": "f4755NkDwaCz"
      },
      "source": [
        "# REKOMENDASI\n",
        "\n",
        "\n",
        "\n",
        "1.   Karena sebagian besar pengendara biasa menggunakan sepeda selama seminggu, strategi pemasaran kami harus menargetkan pengendara biasa yang menggunakan sepeda untuk perjalanan ke tempat kerja.\n",
        "2.   Dengan lonjakan pengendara biasa selama bulan Juli dan Agustus, kami harus menempatkan lebih banyak sumber daya pemasaran kami pada periode musim panas untuk mendatangkan lebih banyak pelanggan tetapi dari pengendara biasa kami dan orang-orang yang belum menggunakan sepeda kami.\n",
        "3.   Diskon harus diberikan pada jenis Docked Bike untuk menarik lebih banyak pengendara untuk menggunakannya dan menarik pengendara biasa untuk berlangganan paket tahunan kami.\n",
        "\n",
        "\n",
        "\n",
        "\n",
        "\n",
        "\n",
        "\n"
      ]
    },
    {
      "cell_type": "markdown",
      "source": [
        "# Nama : Lamnidar Muharamsah"
      ],
      "metadata": {
        "id": "vHi4GvmAsz0n"
      }
    }
  ],
  "metadata": {
    "colab": {
      "provenance": [],
      "collapsed_sections": [
        "MYQL95pOvUjj"
      ]
    },
    "kernelspec": {
      "display_name": "Python 3",
      "name": "python3"
    },
    "language_info": {
      "name": "python"
    }
  },
  "nbformat": 4,
  "nbformat_minor": 0
}