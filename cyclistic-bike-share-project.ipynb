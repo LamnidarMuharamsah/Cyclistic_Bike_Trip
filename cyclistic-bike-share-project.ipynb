{
  "cells": [
    {
      "cell_type": "markdown",
      "metadata": {
        "id": "31a375a4"
      },
      "source": [
        "# Cyclistic Bike-Sharing Analysis\n",
        "\n"
      ],
      "id": "31a375a4"
    },
    {
      "cell_type": "markdown",
      "metadata": {
        "id": "e4a72767"
      },
      "source": [
        "## Pendahuluan\n",
        "***\n",
        "\n",
        "### The Cyclistic Company\n",
        "\n",
        "Cyclistic adalah perusahaan bike-sharing di Chicago, Amerika Serikat yang memiliki lebih dari 5.800 sepeda dan 600 stasiun dok. Cyclistic membedakan dirinya dengan menawarkan sepeda yang dapat direbahkan, sepeda roda tiga, dan sepeda kargo, sehingga membuat bike-sharing lebih inklusif bagi penyandang disabilitas dan pengendara yang tidak dapat menggunakan sepeda roda dua standar. Pengguna Cyclistic lebih cenderung bersepeda untuk bersantai, tetapi mereka juga menggunakannya untuk pergi ke tempat kerja setiap hari.\n",
        "\n",
        "Hingga saat ini, strategi pemasaran Cyclistic bergantung pada membangun kesadaran umum dan menarik segmen konsumen yang luas.\n",
        "Salah satu pendekatan yang membantu mewujudkan hal ini adalah fleksibilitas paket harga: tiket sekali jalan, tiket sehari penuh, dan keanggotaan tahunan. Pelanggan yang membeli tiket sekali jalan atau tiket sehari penuh disebut sebagai pengendara biasa. Pelanggan yang membeli keanggotaan tahunan disebut sebagai anggota Cyclistic.\n",
        "\n",
        "Meskipun fleksibilitas harga membantu Cyclistic menarik lebih banyak pelanggan, Cyclistic percaya bahwa memaksimalkan jumlah anggota tahunan akan menjadi kunci pertumbuhan di masa depan. Daripada membuat kampanye pemasaran yang menargetkan pelanggan baru, Cyclistic percaya bahwa ada peluang yang sangat bagus untuk mengubah pengendara biasa menjadi anggota.\n",
        "\n",
        "\n",
        "### Permasalahannya\n",
        "\n",
        "Mengubah pengendara biasa menjadi anggota Cyclistic.\n",
        "\n",
        "### Tugas Bisnis\n",
        "\n",
        "- Menganalisis bagaimana pengendara biasa dan anggota tahunan berperilaku berbeda.\n",
        "- Mendukung para pemangku kepentingan untuk membuat pengambilan keputusan berdasarkan data untuk menciptakan kampanye atau strategi yang berusaha mengubah pengendara biasa menjadi anggota Cyclistic."
      ],
      "id": "e4a72767"
    },
    {
      "cell_type": "markdown",
      "metadata": {
        "id": "caebad48"
      },
      "source": [
        "## The Dataset\n",
        "---\n",
        "\n",
        "Kami akan menggunakan data perjalanan historis Cyclistic untuk menganalisis dan mengidentifikasi tren. Kumpulan data dapat diunduh [di sini](https://divvy-tripdata.s3.amazonaws.com/index.html).\n",
        "\n",
        "Data tersebut telah disediakan oleh Motivate International Inc. di bawah [lisensi] ini (https://www.divvybikes.com/data-license-agreement).\n",
        "\n",
        "Dataset yang kami gunakan mencakup 1 tahun pengamatan, dari Oktober 2021 hingga September 2022.\n",
        "\n",
        "| Columns | Description |\n",
        "| :- | :- |\n",
        "| ride_id | id for this ride |\n",
        "| rideable_type | type of bike being ride |\n",
        "| started_at | date and time the bike is started to use |\n",
        "| ended_at | date and time the bike is finished to use |\n",
        "| start_station_name | name of the ride starting station |\n",
        "| start_station_id | id of the ride starting station |\n",
        "| end_station_name | name of the ride ending station |\n",
        "| end_station_id | id of the ride ending station |\n",
        "| start_lat | latitude coordinate of the ride starting station |\n",
        "| start_lng | longitude coordinate of the ride starting station |\n",
        "| end_lat | latitude coordinate of the ride ending station |\n",
        "| end_lng | longitude coordinate of the ride ending station |\n",
        "| member_casual | membership type; `casual` for casual rider or `member` for annual membership rider |"
      ],
      "id": "caebad48"
    },
    {
      "cell_type": "code",
      "execution_count": null,
      "metadata": {
        "colab": {
          "base_uri": "https://localhost:8080/"
        },
        "id": "xpvveqTbpimA",
        "outputId": "07832b72-5fae-4310-aec4-b0ba80611493"
      },
      "outputs": [
        {
          "output_type": "stream",
          "name": "stdout",
          "text": [
            "Mounted at /content/drive\n"
          ]
        }
      ],
      "source": [
        "from google.colab import drive\n",
        "drive.mount('/content/drive')"
      ],
      "id": "xpvveqTbpimA"
    },
    {
      "cell_type": "markdown",
      "metadata": {
        "id": "9fa3a1ba"
      },
      "source": [
        "## Import Library\n",
        "---"
      ],
      "id": "9fa3a1ba"
    },
    {
      "cell_type": "code",
      "execution_count": null,
      "metadata": {
        "id": "ab0ec0e0"
      },
      "outputs": [],
      "source": [
        "import numpy as np\n",
        "import pandas as pd\n",
        "import matplotlib.pyplot as plt\n",
        "import seaborn as sns\n",
        "\n",
        "from scipy import stats\n",
        "\n",
        "import datetime\n",
        "import calendar\n",
        "\n",
        "import glob\n",
        "\n",
        "import warnings\n",
        "warnings.filterwarnings(\"ignore\")"
      ],
      "id": "ab0ec0e0"
    },
    {
      "cell_type": "markdown",
      "metadata": {
        "id": "12c9d5d9"
      },
      "source": [
        "## Load the Data\n",
        "---"
      ],
      "id": "12c9d5d9"
    },
    {
      "cell_type": "markdown",
      "metadata": {
        "id": "761f8dbb"
      },
      "source": [
        "Impor dan gabungkan semua set data menggunakan `glob`"
      ],
      "id": "761f8dbb"
    },
    {
      "cell_type": "code",
      "execution_count": null,
      "metadata": {
        "id": "50a15c04"
      },
      "outputs": [],
      "source": [
        "trip_files = glob.glob(\"/content/drive/MyDrive/Dataset_Divvy/202***-divvy-tripdata.csv\")\n",
        "df_list = []\n",
        "for filename in trip_files:\n",
        "    data = pd.read_csv(filename)\n",
        "    df_list.append(data)\n",
        "\n",
        "df = pd.concat(df_list).reset_index()\n",
        "df = df.drop(['index'], axis=1)"
      ],
      "id": "50a15c04"
    },
    {
      "cell_type": "markdown",
      "metadata": {
        "id": "6c0b3572"
      },
      "source": [
        "## Data Overview\n",
        "---"
      ],
      "id": "6c0b3572"
    },
    {
      "cell_type": "code",
      "execution_count": null,
      "metadata": {
        "colab": {
          "base_uri": "https://localhost:8080/",
          "height": 443
        },
        "id": "e5005670",
        "outputId": "0637cd1c-0e8a-4bbe-9cad-3d01d6bfa8e4"
      },
      "outputs": [
        {
          "output_type": "execute_result",
          "data": {
            "text/plain": [
              "            ride_id  rideable_type           started_at             ended_at  \\\n",
              "0  C2F7DD78E82EC875  electric_bike  2022-01-13 11:59:47  2022-01-13 12:02:44   \n",
              "1  A6CF8980A652D272  electric_bike  2022-01-10 08:41:56  2022-01-10 08:46:17   \n",
              "2  BD0F91DFF741C66D   classic_bike  2022-01-25 04:53:40  2022-01-25 04:58:01   \n",
              "3  CBB80ED419105406   classic_bike  2022-01-04 00:18:04  2022-01-04 00:33:00   \n",
              "4  DDC963BFDDA51EEA   classic_bike  2022-01-20 01:31:10  2022-01-20 01:37:12   \n",
              "\n",
              "              start_station_name start_station_id  \\\n",
              "0       Glenwood Ave & Touhy Ave              525   \n",
              "1       Glenwood Ave & Touhy Ave              525   \n",
              "2  Sheffield Ave & Fullerton Ave     TA1306000016   \n",
              "3       Clark St & Bryn Mawr Ave     KA1504000151   \n",
              "4    Michigan Ave & Jackson Blvd     TA1309000002   \n",
              "\n",
              "                end_station_name end_station_id  start_lat  start_lng  \\\n",
              "0           Clark St & Touhy Ave         RP-007  42.012800 -87.665906   \n",
              "1           Clark St & Touhy Ave         RP-007  42.012763 -87.665967   \n",
              "2  Greenview Ave & Fullerton Ave   TA1307000001  41.925602 -87.653708   \n",
              "3      Paulina St & Montrose Ave   TA1309000021  41.983593 -87.669154   \n",
              "4         State St & Randolph St   TA1305000029  41.877850 -87.624080   \n",
              "\n",
              "     end_lat    end_lng member_casual  \n",
              "0  42.012560 -87.674367        casual  \n",
              "1  42.012560 -87.674367        casual  \n",
              "2  41.925330 -87.665800        member  \n",
              "3  41.961507 -87.671387        casual  \n",
              "4  41.884621 -87.627834        member  "
            ],
            "text/html": [
              "\n",
              "  <div id=\"df-9ed7ad71-d997-4c1d-a8bf-d7d0c5709b20\">\n",
              "    <div class=\"colab-df-container\">\n",
              "      <div>\n",
              "<style scoped>\n",
              "    .dataframe tbody tr th:only-of-type {\n",
              "        vertical-align: middle;\n",
              "    }\n",
              "\n",
              "    .dataframe tbody tr th {\n",
              "        vertical-align: top;\n",
              "    }\n",
              "\n",
              "    .dataframe thead th {\n",
              "        text-align: right;\n",
              "    }\n",
              "</style>\n",
              "<table border=\"1\" class=\"dataframe\">\n",
              "  <thead>\n",
              "    <tr style=\"text-align: right;\">\n",
              "      <th></th>\n",
              "      <th>ride_id</th>\n",
              "      <th>rideable_type</th>\n",
              "      <th>started_at</th>\n",
              "      <th>ended_at</th>\n",
              "      <th>start_station_name</th>\n",
              "      <th>start_station_id</th>\n",
              "      <th>end_station_name</th>\n",
              "      <th>end_station_id</th>\n",
              "      <th>start_lat</th>\n",
              "      <th>start_lng</th>\n",
              "      <th>end_lat</th>\n",
              "      <th>end_lng</th>\n",
              "      <th>member_casual</th>\n",
              "    </tr>\n",
              "  </thead>\n",
              "  <tbody>\n",
              "    <tr>\n",
              "      <th>0</th>\n",
              "      <td>C2F7DD78E82EC875</td>\n",
              "      <td>electric_bike</td>\n",
              "      <td>2022-01-13 11:59:47</td>\n",
              "      <td>2022-01-13 12:02:44</td>\n",
              "      <td>Glenwood Ave &amp; Touhy Ave</td>\n",
              "      <td>525</td>\n",
              "      <td>Clark St &amp; Touhy Ave</td>\n",
              "      <td>RP-007</td>\n",
              "      <td>42.012800</td>\n",
              "      <td>-87.665906</td>\n",
              "      <td>42.012560</td>\n",
              "      <td>-87.674367</td>\n",
              "      <td>casual</td>\n",
              "    </tr>\n",
              "    <tr>\n",
              "      <th>1</th>\n",
              "      <td>A6CF8980A652D272</td>\n",
              "      <td>electric_bike</td>\n",
              "      <td>2022-01-10 08:41:56</td>\n",
              "      <td>2022-01-10 08:46:17</td>\n",
              "      <td>Glenwood Ave &amp; Touhy Ave</td>\n",
              "      <td>525</td>\n",
              "      <td>Clark St &amp; Touhy Ave</td>\n",
              "      <td>RP-007</td>\n",
              "      <td>42.012763</td>\n",
              "      <td>-87.665967</td>\n",
              "      <td>42.012560</td>\n",
              "      <td>-87.674367</td>\n",
              "      <td>casual</td>\n",
              "    </tr>\n",
              "    <tr>\n",
              "      <th>2</th>\n",
              "      <td>BD0F91DFF741C66D</td>\n",
              "      <td>classic_bike</td>\n",
              "      <td>2022-01-25 04:53:40</td>\n",
              "      <td>2022-01-25 04:58:01</td>\n",
              "      <td>Sheffield Ave &amp; Fullerton Ave</td>\n",
              "      <td>TA1306000016</td>\n",
              "      <td>Greenview Ave &amp; Fullerton Ave</td>\n",
              "      <td>TA1307000001</td>\n",
              "      <td>41.925602</td>\n",
              "      <td>-87.653708</td>\n",
              "      <td>41.925330</td>\n",
              "      <td>-87.665800</td>\n",
              "      <td>member</td>\n",
              "    </tr>\n",
              "    <tr>\n",
              "      <th>3</th>\n",
              "      <td>CBB80ED419105406</td>\n",
              "      <td>classic_bike</td>\n",
              "      <td>2022-01-04 00:18:04</td>\n",
              "      <td>2022-01-04 00:33:00</td>\n",
              "      <td>Clark St &amp; Bryn Mawr Ave</td>\n",
              "      <td>KA1504000151</td>\n",
              "      <td>Paulina St &amp; Montrose Ave</td>\n",
              "      <td>TA1309000021</td>\n",
              "      <td>41.983593</td>\n",
              "      <td>-87.669154</td>\n",
              "      <td>41.961507</td>\n",
              "      <td>-87.671387</td>\n",
              "      <td>casual</td>\n",
              "    </tr>\n",
              "    <tr>\n",
              "      <th>4</th>\n",
              "      <td>DDC963BFDDA51EEA</td>\n",
              "      <td>classic_bike</td>\n",
              "      <td>2022-01-20 01:31:10</td>\n",
              "      <td>2022-01-20 01:37:12</td>\n",
              "      <td>Michigan Ave &amp; Jackson Blvd</td>\n",
              "      <td>TA1309000002</td>\n",
              "      <td>State St &amp; Randolph St</td>\n",
              "      <td>TA1305000029</td>\n",
              "      <td>41.877850</td>\n",
              "      <td>-87.624080</td>\n",
              "      <td>41.884621</td>\n",
              "      <td>-87.627834</td>\n",
              "      <td>member</td>\n",
              "    </tr>\n",
              "  </tbody>\n",
              "</table>\n",
              "</div>\n",
              "      <button class=\"colab-df-convert\" onclick=\"convertToInteractive('df-9ed7ad71-d997-4c1d-a8bf-d7d0c5709b20')\"\n",
              "              title=\"Convert this dataframe to an interactive table.\"\n",
              "              style=\"display:none;\">\n",
              "        \n",
              "  <svg xmlns=\"http://www.w3.org/2000/svg\" height=\"24px\"viewBox=\"0 0 24 24\"\n",
              "       width=\"24px\">\n",
              "    <path d=\"M0 0h24v24H0V0z\" fill=\"none\"/>\n",
              "    <path d=\"M18.56 5.44l.94 2.06.94-2.06 2.06-.94-2.06-.94-.94-2.06-.94 2.06-2.06.94zm-11 1L8.5 8.5l.94-2.06 2.06-.94-2.06-.94L8.5 2.5l-.94 2.06-2.06.94zm10 10l.94 2.06.94-2.06 2.06-.94-2.06-.94-.94-2.06-.94 2.06-2.06.94z\"/><path d=\"M17.41 7.96l-1.37-1.37c-.4-.4-.92-.59-1.43-.59-.52 0-1.04.2-1.43.59L10.3 9.45l-7.72 7.72c-.78.78-.78 2.05 0 2.83L4 21.41c.39.39.9.59 1.41.59.51 0 1.02-.2 1.41-.59l7.78-7.78 2.81-2.81c.8-.78.8-2.07 0-2.86zM5.41 20L4 18.59l7.72-7.72 1.47 1.35L5.41 20z\"/>\n",
              "  </svg>\n",
              "      </button>\n",
              "      \n",
              "  <style>\n",
              "    .colab-df-container {\n",
              "      display:flex;\n",
              "      flex-wrap:wrap;\n",
              "      gap: 12px;\n",
              "    }\n",
              "\n",
              "    .colab-df-convert {\n",
              "      background-color: #E8F0FE;\n",
              "      border: none;\n",
              "      border-radius: 50%;\n",
              "      cursor: pointer;\n",
              "      display: none;\n",
              "      fill: #1967D2;\n",
              "      height: 32px;\n",
              "      padding: 0 0 0 0;\n",
              "      width: 32px;\n",
              "    }\n",
              "\n",
              "    .colab-df-convert:hover {\n",
              "      background-color: #E2EBFA;\n",
              "      box-shadow: 0px 1px 2px rgba(60, 64, 67, 0.3), 0px 1px 3px 1px rgba(60, 64, 67, 0.15);\n",
              "      fill: #174EA6;\n",
              "    }\n",
              "\n",
              "    [theme=dark] .colab-df-convert {\n",
              "      background-color: #3B4455;\n",
              "      fill: #D2E3FC;\n",
              "    }\n",
              "\n",
              "    [theme=dark] .colab-df-convert:hover {\n",
              "      background-color: #434B5C;\n",
              "      box-shadow: 0px 1px 3px 1px rgba(0, 0, 0, 0.15);\n",
              "      filter: drop-shadow(0px 1px 2px rgba(0, 0, 0, 0.3));\n",
              "      fill: #FFFFFF;\n",
              "    }\n",
              "  </style>\n",
              "\n",
              "      <script>\n",
              "        const buttonEl =\n",
              "          document.querySelector('#df-9ed7ad71-d997-4c1d-a8bf-d7d0c5709b20 button.colab-df-convert');\n",
              "        buttonEl.style.display =\n",
              "          google.colab.kernel.accessAllowed ? 'block' : 'none';\n",
              "\n",
              "        async function convertToInteractive(key) {\n",
              "          const element = document.querySelector('#df-9ed7ad71-d997-4c1d-a8bf-d7d0c5709b20');\n",
              "          const dataTable =\n",
              "            await google.colab.kernel.invokeFunction('convertToInteractive',\n",
              "                                                     [key], {});\n",
              "          if (!dataTable) return;\n",
              "\n",
              "          const docLinkHtml = 'Like what you see? Visit the ' +\n",
              "            '<a target=\"_blank\" href=https://colab.research.google.com/notebooks/data_table.ipynb>data table notebook</a>'\n",
              "            + ' to learn more about interactive tables.';\n",
              "          element.innerHTML = '';\n",
              "          dataTable['output_type'] = 'display_data';\n",
              "          await google.colab.output.renderOutput(dataTable, element);\n",
              "          const docLink = document.createElement('div');\n",
              "          docLink.innerHTML = docLinkHtml;\n",
              "          element.appendChild(docLink);\n",
              "        }\n",
              "      </script>\n",
              "    </div>\n",
              "  </div>\n",
              "  "
            ]
          },
          "metadata": {},
          "execution_count": 4
        }
      ],
      "source": [
        "df.head()"
      ],
      "id": "e5005670"
    },
    {
      "cell_type": "code",
      "execution_count": null,
      "metadata": {
        "colab": {
          "base_uri": "https://localhost:8080/"
        },
        "id": "314a9141",
        "outputId": "e6b58f78-b7c1-4b43-f613-7b8720bc8c7d"
      },
      "outputs": [
        {
          "output_type": "execute_result",
          "data": {
            "text/plain": [
              "Index(['ride_id', 'rideable_type', 'started_at', 'ended_at',\n",
              "       'start_station_name', 'start_station_id', 'end_station_name',\n",
              "       'end_station_id', 'start_lat', 'start_lng', 'end_lat', 'end_lng',\n",
              "       'member_casual'],\n",
              "      dtype='object')"
            ]
          },
          "metadata": {},
          "execution_count": 5
        }
      ],
      "source": [
        "df.columns"
      ],
      "id": "314a9141"
    },
    {
      "cell_type": "code",
      "execution_count": null,
      "metadata": {
        "colab": {
          "base_uri": "https://localhost:8080/"
        },
        "id": "07ecc94f",
        "outputId": "3ba2e884-44a4-41e3-a830-b64b38412335"
      },
      "outputs": [
        {
          "output_type": "stream",
          "name": "stdout",
          "text": [
            "Number of rows: 5667717\n"
          ]
        }
      ],
      "source": [
        "print(f\"Number of rows: {df.shape[0]}\")"
      ],
      "id": "07ecc94f"
    },
    {
      "cell_type": "code",
      "execution_count": null,
      "metadata": {
        "colab": {
          "base_uri": "https://localhost:8080/"
        },
        "id": "ea07e32e",
        "scrolled": false,
        "outputId": "83a059db-b765-445e-815e-a0e5e3631d7c"
      },
      "outputs": [
        {
          "output_type": "stream",
          "name": "stdout",
          "text": [
            "<class 'pandas.core.frame.DataFrame'>\n",
            "RangeIndex: 5667717 entries, 0 to 5667716\n",
            "Data columns (total 13 columns):\n",
            " #   Column              Dtype  \n",
            "---  ------              -----  \n",
            " 0   ride_id             object \n",
            " 1   rideable_type       object \n",
            " 2   started_at          object \n",
            " 3   ended_at            object \n",
            " 4   start_station_name  object \n",
            " 5   start_station_id    object \n",
            " 6   end_station_name    object \n",
            " 7   end_station_id      object \n",
            " 8   start_lat           float64\n",
            " 9   start_lng           float64\n",
            " 10  end_lat             float64\n",
            " 11  end_lng             float64\n",
            " 12  member_casual       object \n",
            "dtypes: float64(4), object(9)\n",
            "memory usage: 562.1+ MB\n"
          ]
        }
      ],
      "source": [
        "df.info()"
      ],
      "id": "ea07e32e"
    },
    {
      "cell_type": "markdown",
      "metadata": {
        "id": "d26972a5"
      },
      "source": [
        "### Check for Missing Values"
      ],
      "id": "d26972a5"
    },
    {
      "cell_type": "code",
      "execution_count": null,
      "metadata": {
        "colab": {
          "base_uri": "https://localhost:8080/"
        },
        "id": "a840076f",
        "outputId": "146266f7-efdf-444e-bf54-163793fd1f69"
      },
      "outputs": [
        {
          "output_type": "execute_result",
          "data": {
            "text/plain": [
              "ride_id                    0\n",
              "rideable_type              0\n",
              "started_at                 0\n",
              "ended_at                   0\n",
              "start_station_name    833064\n",
              "start_station_id      833064\n",
              "end_station_name      892742\n",
              "end_station_id        892742\n",
              "start_lat                  0\n",
              "start_lng                  0\n",
              "end_lat                 5858\n",
              "end_lng                 5858\n",
              "member_casual              0\n",
              "dtype: int64"
            ]
          },
          "metadata": {},
          "execution_count": 8
        }
      ],
      "source": [
        "df.isnull().sum()"
      ],
      "id": "a840076f"
    },
    {
      "cell_type": "code",
      "execution_count": null,
      "metadata": {
        "id": "8676c523"
      },
      "outputs": [],
      "source": [
        "percent_null = df.isnull().sum() * 100 / len(df)"
      ],
      "id": "8676c523"
    },
    {
      "cell_type": "code",
      "execution_count": null,
      "metadata": {
        "id": "5cb12d89",
        "scrolled": false,
        "colab": {
          "base_uri": "https://localhost:8080/"
        },
        "outputId": "92cc0e36-697b-413d-d16a-8c4b8c02e4ce"
      },
      "outputs": [
        {
          "output_type": "stream",
          "name": "stdout",
          "text": [
            "ride_id                0.00\n",
            "rideable_type          0.00\n",
            "started_at             0.00\n",
            "ended_at               0.00\n",
            "start_station_name    14.70\n",
            "start_station_id      14.70\n",
            "end_station_name      15.75\n",
            "end_station_id        15.75\n",
            "start_lat              0.00\n",
            "start_lng              0.00\n",
            "end_lat                0.10\n",
            "end_lng                0.10\n",
            "member_casual          0.00\n",
            "dtype: float64\n"
          ]
        }
      ],
      "source": [
        "print(round(percent_null, 2))"
      ],
      "id": "5cb12d89"
    },
    {
      "cell_type": "markdown",
      "metadata": {
        "id": "afb38dcd"
      },
      "source": [
        "Kolom `start_station_name`, `start_station_id`, `end_station_name`, dan `end_station_id` memiliki nilai yang hilang cukup banyak, yaitu lebih dari 15%. Ada juga beberapa nilai yang hilang pada `end_lat` dan `end_lng`, meskipun jauh lebih kecil, yaitu 0,1%."
      ],
      "id": "afb38dcd"
    },
    {
      "cell_type": "markdown",
      "metadata": {
        "id": "c4edc3c8"
      },
      "source": [
        "### Handle Missing Values"
      ],
      "id": "c4edc3c8"
    },
    {
      "cell_type": "code",
      "execution_count": null,
      "metadata": {
        "id": "3e4d88f4"
      },
      "outputs": [],
      "source": [
        "df_raw = df.copy()"
      ],
      "id": "3e4d88f4"
    },
    {
      "cell_type": "markdown",
      "metadata": {
        "id": "f4efd87d"
      },
      "source": [
        "Meskipun persentase nilai yang hilang pada kolom stasiun cukup tinggi, kita akan mengabaikan kolom-kolom ini karena kita tidak akan menggunakannya dalam analisis kita."
      ],
      "id": "f4efd87d"
    },
    {
      "cell_type": "code",
      "execution_count": null,
      "metadata": {
        "id": "3bd53558"
      },
      "outputs": [],
      "source": [
        "drop_col = ['start_station_name', 'start_station_id', 'end_station_name', 'end_station_id']\n",
        "df = df.drop(drop_col, axis=1)"
      ],
      "id": "3bd53558"
    },
    {
      "cell_type": "code",
      "execution_count": null,
      "metadata": {
        "id": "fa6839ae"
      },
      "outputs": [],
      "source": [
        "# fill missing data with mode\n",
        "df['end_lat'].fillna(df['end_lat'].mode()[0], inplace=True)\n",
        "df['end_lng'].fillna(df['end_lng'].mode()[0], inplace=True)"
      ],
      "id": "fa6839ae"
    },
    {
      "cell_type": "code",
      "execution_count": null,
      "metadata": {
        "id": "078084e2"
      },
      "outputs": [],
      "source": [
        "percent_null_new = df.isnull().sum() * 100 / len(df)"
      ],
      "id": "078084e2"
    },
    {
      "cell_type": "code",
      "execution_count": null,
      "metadata": {
        "id": "8e2de067",
        "colab": {
          "base_uri": "https://localhost:8080/"
        },
        "outputId": "86a1f2e1-4a25-480f-d9c2-06a7c23ba024"
      },
      "outputs": [
        {
          "output_type": "stream",
          "name": "stdout",
          "text": [
            "ride_id          0.0\n",
            "rideable_type    0.0\n",
            "started_at       0.0\n",
            "ended_at         0.0\n",
            "start_lat        0.0\n",
            "start_lng        0.0\n",
            "end_lat          0.0\n",
            "end_lng          0.0\n",
            "member_casual    0.0\n",
            "dtype: float64\n"
          ]
        }
      ],
      "source": [
        "print(round(percent_null_new, 2))"
      ],
      "id": "8e2de067"
    },
    {
      "cell_type": "markdown",
      "metadata": {
        "id": "316206a5"
      },
      "source": [
        "### Check Duplicated Values"
      ],
      "id": "316206a5"
    },
    {
      "cell_type": "code",
      "execution_count": null,
      "metadata": {
        "id": "d201168c",
        "scrolled": true,
        "colab": {
          "base_uri": "https://localhost:8080/"
        },
        "outputId": "d52f8d02-00a1-4e2f-c9bc-587fe2096182"
      },
      "outputs": [
        {
          "output_type": "execute_result",
          "data": {
            "text/plain": [
              "False    5667717\n",
              "dtype: int64"
            ]
          },
          "metadata": {},
          "execution_count": 16
        }
      ],
      "source": [
        "df.duplicated().value_counts()"
      ],
      "id": "d201168c"
    },
    {
      "cell_type": "markdown",
      "metadata": {
        "id": "704a6da4"
      },
      "source": [
        "Tidak ada nilai yang terduplikasi dalam dataset kami"
      ],
      "id": "704a6da4"
    },
    {
      "cell_type": "markdown",
      "metadata": {
        "id": "ed559281"
      },
      "source": [
        "### Statistical Summary"
      ],
      "id": "ed559281"
    },
    {
      "cell_type": "markdown",
      "metadata": {
        "id": "a4257428"
      },
      "source": [
        "Karena satu-satunya label numerik dalam dataset kami adalah koordinat lokasi yang tidak dapat diringkas dalam nilai statistik, kami hanya akan melihat ringkasan statistik label kategorikal."
      ],
      "id": "a4257428"
    },
    {
      "cell_type": "code",
      "execution_count": null,
      "metadata": {
        "id": "417e91f4"
      },
      "outputs": [],
      "source": [
        "# separate the object column\n",
        "cat_col = []\n",
        "\n",
        "for col in df.columns:\n",
        "    if df[col].dtype == 'object':\n",
        "        cat_col.append(col)"
      ],
      "id": "417e91f4"
    },
    {
      "cell_type": "code",
      "execution_count": null,
      "metadata": {
        "id": "6a3f59e6",
        "scrolled": true,
        "colab": {
          "base_uri": "https://localhost:8080/",
          "height": 174
        },
        "outputId": "31ecc90a-4ca1-4b7e-882a-13646191d182"
      },
      "outputs": [
        {
          "output_type": "execute_result",
          "data": {
            "text/plain": [
              "                 ride_id  rideable_type           started_at  \\\n",
              "count            5667717        5667717              5667717   \n",
              "unique           5667717              3              4745862   \n",
              "top     C2F7DD78E82EC875  electric_bike  2022-05-30 13:05:15   \n",
              "freq                   1        2889029                    9   \n",
              "\n",
              "                   ended_at member_casual  \n",
              "count               5667717       5667717  \n",
              "unique              4758633             2  \n",
              "top     2022-08-22 12:47:49        member  \n",
              "freq                     20       3345685  "
            ],
            "text/html": [
              "\n",
              "  <div id=\"df-bf59b818-5ec7-48e5-9f72-613020d1ebba\">\n",
              "    <div class=\"colab-df-container\">\n",
              "      <div>\n",
              "<style scoped>\n",
              "    .dataframe tbody tr th:only-of-type {\n",
              "        vertical-align: middle;\n",
              "    }\n",
              "\n",
              "    .dataframe tbody tr th {\n",
              "        vertical-align: top;\n",
              "    }\n",
              "\n",
              "    .dataframe thead th {\n",
              "        text-align: right;\n",
              "    }\n",
              "</style>\n",
              "<table border=\"1\" class=\"dataframe\">\n",
              "  <thead>\n",
              "    <tr style=\"text-align: right;\">\n",
              "      <th></th>\n",
              "      <th>ride_id</th>\n",
              "      <th>rideable_type</th>\n",
              "      <th>started_at</th>\n",
              "      <th>ended_at</th>\n",
              "      <th>member_casual</th>\n",
              "    </tr>\n",
              "  </thead>\n",
              "  <tbody>\n",
              "    <tr>\n",
              "      <th>count</th>\n",
              "      <td>5667717</td>\n",
              "      <td>5667717</td>\n",
              "      <td>5667717</td>\n",
              "      <td>5667717</td>\n",
              "      <td>5667717</td>\n",
              "    </tr>\n",
              "    <tr>\n",
              "      <th>unique</th>\n",
              "      <td>5667717</td>\n",
              "      <td>3</td>\n",
              "      <td>4745862</td>\n",
              "      <td>4758633</td>\n",
              "      <td>2</td>\n",
              "    </tr>\n",
              "    <tr>\n",
              "      <th>top</th>\n",
              "      <td>C2F7DD78E82EC875</td>\n",
              "      <td>electric_bike</td>\n",
              "      <td>2022-05-30 13:05:15</td>\n",
              "      <td>2022-08-22 12:47:49</td>\n",
              "      <td>member</td>\n",
              "    </tr>\n",
              "    <tr>\n",
              "      <th>freq</th>\n",
              "      <td>1</td>\n",
              "      <td>2889029</td>\n",
              "      <td>9</td>\n",
              "      <td>20</td>\n",
              "      <td>3345685</td>\n",
              "    </tr>\n",
              "  </tbody>\n",
              "</table>\n",
              "</div>\n",
              "      <button class=\"colab-df-convert\" onclick=\"convertToInteractive('df-bf59b818-5ec7-48e5-9f72-613020d1ebba')\"\n",
              "              title=\"Convert this dataframe to an interactive table.\"\n",
              "              style=\"display:none;\">\n",
              "        \n",
              "  <svg xmlns=\"http://www.w3.org/2000/svg\" height=\"24px\"viewBox=\"0 0 24 24\"\n",
              "       width=\"24px\">\n",
              "    <path d=\"M0 0h24v24H0V0z\" fill=\"none\"/>\n",
              "    <path d=\"M18.56 5.44l.94 2.06.94-2.06 2.06-.94-2.06-.94-.94-2.06-.94 2.06-2.06.94zm-11 1L8.5 8.5l.94-2.06 2.06-.94-2.06-.94L8.5 2.5l-.94 2.06-2.06.94zm10 10l.94 2.06.94-2.06 2.06-.94-2.06-.94-.94-2.06-.94 2.06-2.06.94z\"/><path d=\"M17.41 7.96l-1.37-1.37c-.4-.4-.92-.59-1.43-.59-.52 0-1.04.2-1.43.59L10.3 9.45l-7.72 7.72c-.78.78-.78 2.05 0 2.83L4 21.41c.39.39.9.59 1.41.59.51 0 1.02-.2 1.41-.59l7.78-7.78 2.81-2.81c.8-.78.8-2.07 0-2.86zM5.41 20L4 18.59l7.72-7.72 1.47 1.35L5.41 20z\"/>\n",
              "  </svg>\n",
              "      </button>\n",
              "      \n",
              "  <style>\n",
              "    .colab-df-container {\n",
              "      display:flex;\n",
              "      flex-wrap:wrap;\n",
              "      gap: 12px;\n",
              "    }\n",
              "\n",
              "    .colab-df-convert {\n",
              "      background-color: #E8F0FE;\n",
              "      border: none;\n",
              "      border-radius: 50%;\n",
              "      cursor: pointer;\n",
              "      display: none;\n",
              "      fill: #1967D2;\n",
              "      height: 32px;\n",
              "      padding: 0 0 0 0;\n",
              "      width: 32px;\n",
              "    }\n",
              "\n",
              "    .colab-df-convert:hover {\n",
              "      background-color: #E2EBFA;\n",
              "      box-shadow: 0px 1px 2px rgba(60, 64, 67, 0.3), 0px 1px 3px 1px rgba(60, 64, 67, 0.15);\n",
              "      fill: #174EA6;\n",
              "    }\n",
              "\n",
              "    [theme=dark] .colab-df-convert {\n",
              "      background-color: #3B4455;\n",
              "      fill: #D2E3FC;\n",
              "    }\n",
              "\n",
              "    [theme=dark] .colab-df-convert:hover {\n",
              "      background-color: #434B5C;\n",
              "      box-shadow: 0px 1px 3px 1px rgba(0, 0, 0, 0.15);\n",
              "      filter: drop-shadow(0px 1px 2px rgba(0, 0, 0, 0.3));\n",
              "      fill: #FFFFFF;\n",
              "    }\n",
              "  </style>\n",
              "\n",
              "      <script>\n",
              "        const buttonEl =\n",
              "          document.querySelector('#df-bf59b818-5ec7-48e5-9f72-613020d1ebba button.colab-df-convert');\n",
              "        buttonEl.style.display =\n",
              "          google.colab.kernel.accessAllowed ? 'block' : 'none';\n",
              "\n",
              "        async function convertToInteractive(key) {\n",
              "          const element = document.querySelector('#df-bf59b818-5ec7-48e5-9f72-613020d1ebba');\n",
              "          const dataTable =\n",
              "            await google.colab.kernel.invokeFunction('convertToInteractive',\n",
              "                                                     [key], {});\n",
              "          if (!dataTable) return;\n",
              "\n",
              "          const docLinkHtml = 'Like what you see? Visit the ' +\n",
              "            '<a target=\"_blank\" href=https://colab.research.google.com/notebooks/data_table.ipynb>data table notebook</a>'\n",
              "            + ' to learn more about interactive tables.';\n",
              "          element.innerHTML = '';\n",
              "          dataTable['output_type'] = 'display_data';\n",
              "          await google.colab.output.renderOutput(dataTable, element);\n",
              "          const docLink = document.createElement('div');\n",
              "          docLink.innerHTML = docLinkHtml;\n",
              "          element.appendChild(docLink);\n",
              "        }\n",
              "      </script>\n",
              "    </div>\n",
              "  </div>\n",
              "  "
            ]
          },
          "metadata": {},
          "execution_count": 18
        }
      ],
      "source": [
        "df[cat_col].describe()"
      ],
      "id": "6a3f59e6"
    },
    {
      "cell_type": "markdown",
      "metadata": {
        "id": "c3de62e2"
      },
      "source": [
        "- Ada 3 jenis rideable_type atau jenis sepeda, di mana jenis yang paling banyak digunakan adalah electric_bike atau sepeda listrik.\n",
        "- Sebagian besar pelanggan kami membeli keanggotaan tahunan atau member."
      ],
      "id": "c3de62e2"
    },
    {
      "cell_type": "markdown",
      "metadata": {
        "id": "03b9ae13"
      },
      "source": [
        "## Data Analysis and Visualization\n",
        "---\n",
        "### Jumlah perjalanan berdasarkan jenis sepeda"
      ],
      "id": "03b9ae13"
    },
    {
      "cell_type": "code",
      "execution_count": null,
      "metadata": {
        "id": "147805a1",
        "colab": {
          "base_uri": "https://localhost:8080/",
          "height": 388
        },
        "outputId": "a9baa01e-e580-48c8-a387-f9d85c2365e8"
      },
      "outputs": [
        {
          "output_type": "display_data",
          "data": {
            "text/plain": [
              "<Figure size 1080x432 with 2 Axes>"
            ],
            "image/png": "[encoded data removed]"
          },
          "metadata": {
            "needs_background": "light"
          }
        }
      ],
      "source": [
        "fig, axes = plt.subplots(1, 2, figsize=(15,6))\n",
        "axes[0] = sns.countplot(ax=axes[0], x='rideable_type', data=df)\n",
        "axes[1] = sns.countplot(ax=axes[1], x='rideable_type', data=df, hue='member_casual')\n",
        "plt.show()"
      ],
      "id": "147805a1"
    },
    {
      "cell_type": "code",
      "execution_count": null,
      "metadata": {
        "id": "24c3ebab",
        "colab": {
          "base_uri": "https://localhost:8080/",
          "height": 143
        },
        "outputId": "b1f8ee53-89eb-4e9c-f50d-82a49bd5b1d3"
      },
      "outputs": [
        {
          "output_type": "execute_result",
          "data": {
            "text/plain": [
              "   rideable_type  ride_count\n",
              "0   classic_bike     2601214\n",
              "1    docked_bike      177474\n",
              "2  electric_bike     2889029"
            ],
            "text/html": [
              "\n",
              "  <div id=\"df-c7600193-afdd-4f73-aa74-403acbd70a18\">\n",
              "    <div class=\"colab-df-container\">\n",
              "      <div>\n",
              "<style scoped>\n",
              "    .dataframe tbody tr th:only-of-type {\n",
              "        vertical-align: middle;\n",
              "    }\n",
              "\n",
              "    .dataframe tbody tr th {\n",
              "        vertical-align: top;\n",
              "    }\n",
              "\n",
              "    .dataframe thead th {\n",
              "        text-align: right;\n",
              "    }\n",
              "</style>\n",
              "<table border=\"1\" class=\"dataframe\">\n",
              "  <thead>\n",
              "    <tr style=\"text-align: right;\">\n",
              "      <th></th>\n",
              "      <th>rideable_type</th>\n",
              "      <th>ride_count</th>\n",
              "    </tr>\n",
              "  </thead>\n",
              "  <tbody>\n",
              "    <tr>\n",
              "      <th>0</th>\n",
              "      <td>classic_bike</td>\n",
              "      <td>2601214</td>\n",
              "    </tr>\n",
              "    <tr>\n",
              "      <th>1</th>\n",
              "      <td>docked_bike</td>\n",
              "      <td>177474</td>\n",
              "    </tr>\n",
              "    <tr>\n",
              "      <th>2</th>\n",
              "      <td>electric_bike</td>\n",
              "      <td>2889029</td>\n",
              "    </tr>\n",
              "  </tbody>\n",
              "</table>\n",
              "</div>\n",
              "      <button class=\"colab-df-convert\" onclick=\"convertToInteractive('df-c7600193-afdd-4f73-aa74-403acbd70a18')\"\n",
              "              title=\"Convert this dataframe to an interactive table.\"\n",
              "              style=\"display:none;\">\n",
              "        \n",
              "  <svg xmlns=\"http://www.w3.org/2000/svg\" height=\"24px\"viewBox=\"0 0 24 24\"\n",
              "       width=\"24px\">\n",
              "    <path d=\"M0 0h24v24H0V0z\" fill=\"none\"/>\n",
              "    <path d=\"M18.56 5.44l.94 2.06.94-2.06 2.06-.94-2.06-.94-.94-2.06-.94 2.06-2.06.94zm-11 1L8.5 8.5l.94-2.06 2.06-.94-2.06-.94L8.5 2.5l-.94 2.06-2.06.94zm10 10l.94 2.06.94-2.06 2.06-.94-2.06-.94-.94-2.06-.94 2.06-2.06.94z\"/><path d=\"M17.41 7.96l-1.37-1.37c-.4-.4-.92-.59-1.43-.59-.52 0-1.04.2-1.43.59L10.3 9.45l-7.72 7.72c-.78.78-.78 2.05 0 2.83L4 21.41c.39.39.9.59 1.41.59.51 0 1.02-.2 1.41-.59l7.78-7.78 2.81-2.81c.8-.78.8-2.07 0-2.86zM5.41 20L4 18.59l7.72-7.72 1.47 1.35L5.41 20z\"/>\n",
              "  </svg>\n",
              "      </button>\n",
              "      \n",
              "  <style>\n",
              "    .colab-df-container {\n",
              "      display:flex;\n",
              "      flex-wrap:wrap;\n",
              "      gap: 12px;\n",
              "    }\n",
              "\n",
              "    .colab-df-convert {\n",
              "      background-color: #E8F0FE;\n",
              "      border: none;\n",
              "      border-radius: 50%;\n",
              "      cursor: pointer;\n",
              "      display: none;\n",
              "      fill: #1967D2;\n",
              "      height: 32px;\n",
              "      padding: 0 0 0 0;\n",
              "      width: 32px;\n",
              "    }\n",
              "\n",
              "    .colab-df-convert:hover {\n",
              "      background-color: #E2EBFA;\n",
              "      box-shadow: 0px 1px 2px rgba(60, 64, 67, 0.3), 0px 1px 3px 1px rgba(60, 64, 67, 0.15);\n",
              "      fill: #174EA6;\n",
              "    }\n",
              "\n",
              "    [theme=dark] .colab-df-convert {\n",
              "      background-color: #3B4455;\n",
              "      fill: #D2E3FC;\n",
              "    }\n",
              "\n",
              "    [theme=dark] .colab-df-convert:hover {\n",
              "      background-color: #434B5C;\n",
              "      box-shadow: 0px 1px 3px 1px rgba(0, 0, 0, 0.15);\n",
              "      filter: drop-shadow(0px 1px 2px rgba(0, 0, 0, 0.3));\n",
              "      fill: #FFFFFF;\n",
              "    }\n",
              "  </style>\n",
              "\n",
              "      <script>\n",
              "        const buttonEl =\n",
              "          document.querySelector('#df-c7600193-afdd-4f73-aa74-403acbd70a18 button.colab-df-convert');\n",
              "        buttonEl.style.display =\n",
              "          google.colab.kernel.accessAllowed ? 'block' : 'none';\n",
              "\n",
              "        async function convertToInteractive(key) {\n",
              "          const element = document.querySelector('#df-c7600193-afdd-4f73-aa74-403acbd70a18');\n",
              "          const dataTable =\n",
              "            await google.colab.kernel.invokeFunction('convertToInteractive',\n",
              "                                                     [key], {});\n",
              "          if (!dataTable) return;\n",
              "\n",
              "          const docLinkHtml = 'Like what you see? Visit the ' +\n",
              "            '<a target=\"_blank\" href=https://colab.research.google.com/notebooks/data_table.ipynb>data table notebook</a>'\n",
              "            + ' to learn more about interactive tables.';\n",
              "          element.innerHTML = '';\n",
              "          dataTable['output_type'] = 'display_data';\n",
              "          await google.colab.output.renderOutput(dataTable, element);\n",
              "          const docLink = document.createElement('div');\n",
              "          docLink.innerHTML = docLinkHtml;\n",
              "          element.appendChild(docLink);\n",
              "        }\n",
              "      </script>\n",
              "    </div>\n",
              "  </div>\n",
              "  "
            ]
          },
          "metadata": {},
          "execution_count": 20
        }
      ],
      "source": [
        "bike_count = df.groupby('rideable_type', as_index=False)['ride_id'].count()\n",
        "bike_count = bike_count.rename(columns = {'ride_id' : 'ride_count'})\n",
        "bike_count"
      ],
      "id": "24c3ebab"
    },
    {
      "cell_type": "code",
      "execution_count": null,
      "metadata": {
        "id": "b397fdee",
        "colab": {
          "base_uri": "https://localhost:8080/",
          "height": 255
        },
        "outputId": "eae1e69a-b215-4943-a4b7-c85856cdab44"
      },
      "outputs": [
        {
          "output_type": "display_data",
          "data": {
            "text/plain": [
              "<Figure size 432x288 with 1 Axes>"
            ],
            "image/png": "[encoded data removed]"
          },
          "metadata": {}
        }
      ],
      "source": [
        "bike_type = ['classic_bike', 'docked_bike', 'electric_bike']\n",
        "ride_num = bike_count.ride_count\n",
        "\n",
        "plt.pie(ride_num, labels=bike_type, autopct='%0.1f%%')\n",
        "plt.axis('equal')\n",
        "plt.show()"
      ],
      "id": "b397fdee"
    },
    {
      "cell_type": "markdown",
      "metadata": {
        "id": "00ce512c"
      },
      "source": [
        "- Sepeda listrik adalah jenis sepeda yang paling banyak digunakan di semua perjalanan, mencapai hampir setengah dari total perjalanan.\n",
        "- Pengendara anggota lebih banyak menggunakan sepeda klasik daripada sepeda listrik. Sebaliknya, pengendara umum atau kasual lebih banyak menggunakan sepeda listrik daripada sepeda klasik."
      ],
      "id": "00ce512c"
    },
    {
      "cell_type": "markdown",
      "metadata": {
        "id": "fb89cbe7"
      },
      "source": [
        "### Jumlah perjalanan berdasarkan jenis keanggotaan"
      ],
      "id": "fb89cbe7"
    },
    {
      "cell_type": "code",
      "execution_count": null,
      "metadata": {
        "id": "8883e6e4",
        "colab": {
          "base_uri": "https://localhost:8080/",
          "height": 112
        },
        "outputId": "6cf5b412-2fa4-492f-addb-8dabc75914d2"
      },
      "outputs": [
        {
          "output_type": "execute_result",
          "data": {
            "text/plain": [
              "  member_casual  ride_count\n",
              "0        casual     2322032\n",
              "1        member     3345685"
            ],
            "text/html": [
              "\n",
              "  <div id=\"df-5e9208f4-34b2-4ef4-8ac7-f85ce87303a6\">\n",
              "    <div class=\"colab-df-container\">\n",
              "      <div>\n",
              "<style scoped>\n",
              "    .dataframe tbody tr th:only-of-type {\n",
              "        vertical-align: middle;\n",
              "    }\n",
              "\n",
              "    .dataframe tbody tr th {\n",
              "        vertical-align: top;\n",
              "    }\n",
              "\n",
              "    .dataframe thead th {\n",
              "        text-align: right;\n",
              "    }\n",
              "</style>\n",
              "<table border=\"1\" class=\"dataframe\">\n",
              "  <thead>\n",
              "    <tr style=\"text-align: right;\">\n",
              "      <th></th>\n",
              "      <th>member_casual</th>\n",
              "      <th>ride_count</th>\n",
              "    </tr>\n",
              "  </thead>\n",
              "  <tbody>\n",
              "    <tr>\n",
              "      <th>0</th>\n",
              "      <td>casual</td>\n",
              "      <td>2322032</td>\n",
              "    </tr>\n",
              "    <tr>\n",
              "      <th>1</th>\n",
              "      <td>member</td>\n",
              "      <td>3345685</td>\n",
              "    </tr>\n",
              "  </tbody>\n",
              "</table>\n",
              "</div>\n",
              "      <button class=\"colab-df-convert\" onclick=\"convertToInteractive('df-5e9208f4-34b2-4ef4-8ac7-f85ce87303a6')\"\n",
              "              title=\"Convert this dataframe to an interactive table.\"\n",
              "              style=\"display:none;\">\n",
              "        \n",
              "  <svg xmlns=\"http://www.w3.org/2000/svg\" height=\"24px\"viewBox=\"0 0 24 24\"\n",
              "       width=\"24px\">\n",
              "    <path d=\"M0 0h24v24H0V0z\" fill=\"none\"/>\n",
              "    <path d=\"M18.56 5.44l.94 2.06.94-2.06 2.06-.94-2.06-.94-.94-2.06-.94 2.06-2.06.94zm-11 1L8.5 8.5l.94-2.06 2.06-.94-2.06-.94L8.5 2.5l-.94 2.06-2.06.94zm10 10l.94 2.06.94-2.06 2.06-.94-2.06-.94-.94-2.06-.94 2.06-2.06.94z\"/><path d=\"M17.41 7.96l-1.37-1.37c-.4-.4-.92-.59-1.43-.59-.52 0-1.04.2-1.43.59L10.3 9.45l-7.72 7.72c-.78.78-.78 2.05 0 2.83L4 21.41c.39.39.9.59 1.41.59.51 0 1.02-.2 1.41-.59l7.78-7.78 2.81-2.81c.8-.78.8-2.07 0-2.86zM5.41 20L4 18.59l7.72-7.72 1.47 1.35L5.41 20z\"/>\n",
              "  </svg>\n",
              "      </button>\n",
              "      \n",
              "  <style>\n",
              "    .colab-df-container {\n",
              "      display:flex;\n",
              "      flex-wrap:wrap;\n",
              "      gap: 12px;\n",
              "    }\n",
              "\n",
              "    .colab-df-convert {\n",
              "      background-color: #E8F0FE;\n",
              "      border: none;\n",
              "      border-radius: 50%;\n",
              "      cursor: pointer;\n",
              "      display: none;\n",
              "      fill: #1967D2;\n",
              "      height: 32px;\n",
              "      padding: 0 0 0 0;\n",
              "      width: 32px;\n",
              "    }\n",
              "\n",
              "    .colab-df-convert:hover {\n",
              "      background-color: #E2EBFA;\n",
              "      box-shadow: 0px 1px 2px rgba(60, 64, 67, 0.3), 0px 1px 3px 1px rgba(60, 64, 67, 0.15);\n",
              "      fill: #174EA6;\n",
              "    }\n",
              "\n",
              "    [theme=dark] .colab-df-convert {\n",
              "      background-color: #3B4455;\n",
              "      fill: #D2E3FC;\n",
              "    }\n",
              "\n",
              "    [theme=dark] .colab-df-convert:hover {\n",
              "      background-color: #434B5C;\n",
              "      box-shadow: 0px 1px 3px 1px rgba(0, 0, 0, 0.15);\n",
              "      filter: drop-shadow(0px 1px 2px rgba(0, 0, 0, 0.3));\n",
              "      fill: #FFFFFF;\n",
              "    }\n",
              "  </style>\n",
              "\n",
              "      <script>\n",
              "        const buttonEl =\n",
              "          document.querySelector('#df-5e9208f4-34b2-4ef4-8ac7-f85ce87303a6 button.colab-df-convert');\n",
              "        buttonEl.style.display =\n",
              "          google.colab.kernel.accessAllowed ? 'block' : 'none';\n",
              "\n",
              "        async function convertToInteractive(key) {\n",
              "          const element = document.querySelector('#df-5e9208f4-34b2-4ef4-8ac7-f85ce87303a6');\n",
              "          const dataTable =\n",
              "            await google.colab.kernel.invokeFunction('convertToInteractive',\n",
              "                                                     [key], {});\n",
              "          if (!dataTable) return;\n",
              "\n",
              "          const docLinkHtml = 'Like what you see? Visit the ' +\n",
              "            '<a target=\"_blank\" href=https://colab.research.google.com/notebooks/data_table.ipynb>data table notebook</a>'\n",
              "            + ' to learn more about interactive tables.';\n",
              "          element.innerHTML = '';\n",
              "          dataTable['output_type'] = 'display_data';\n",
              "          await google.colab.output.renderOutput(dataTable, element);\n",
              "          const docLink = document.createElement('div');\n",
              "          docLink.innerHTML = docLinkHtml;\n",
              "          element.appendChild(docLink);\n",
              "        }\n",
              "      </script>\n",
              "    </div>\n",
              "  </div>\n",
              "  "
            ]
          },
          "metadata": {},
          "execution_count": 22
        }
      ],
      "source": [
        "member_count = df.groupby('member_casual', as_index=False)['ride_id'].count()\n",
        "member_count = member_count.rename(columns = {'ride_id' : 'ride_count'})\n",
        "member_count"
      ],
      "id": "8883e6e4"
    },
    {
      "cell_type": "code",
      "execution_count": null,
      "metadata": {
        "id": "a9f58773",
        "colab": {
          "base_uri": "https://localhost:8080/",
          "height": 248
        },
        "outputId": "8c18ec6b-b82b-495d-82eb-c72e3b4f8662"
      },
      "outputs": [
        {
          "output_type": "display_data",
          "data": {
            "text/plain": [
              "<Figure size 432x288 with 1 Axes>"
            ],
            "image/png": "[encoded data removed]"
          },
          "metadata": {}
        }
      ],
      "source": [
        "member_type = ['casual', 'member']\n",
        "ride_num = member_count.ride_count\n",
        "\n",
        "plt.pie(ride_num, labels=member_type, autopct='%0.1f%%')\n",
        "plt.axis('equal')\n",
        "plt.show()"
      ],
      "id": "a9f58773"
    },
    {
      "cell_type": "markdown",
      "metadata": {
        "id": "8449b198"
      },
      "source": [
        "Sebanyak 59% dari pengendara yang menggunakan sepeda ini adalah anggota, sementara 41% sisanya adalah pengendara biasa."
      ],
      "id": "8449b198"
    },
    {
      "cell_type": "markdown",
      "metadata": {
        "id": "94664ada"
      },
      "source": [
        "### Analisis Kolom Tanggal dan Waktu"
      ],
      "id": "94664ada"
    },
    {
      "cell_type": "markdown",
      "metadata": {
        "id": "7131bcd5"
      },
      "source": [
        "Pada dataset kami, kolom `started_at` dan `ended_at` berisi informasi tentang tanggal dan waktu sepeda digunakan dan dikembalikan. Ada banyak informasi yang dapat kita ambil dari kolom ini. Dengan menggunakan kolom-kolom tersebut, kita akan membuat kolom-kolom baru di bawah ini:\n",
        "- Bulan perjalanan\n",
        "- Musim perjalanan\n",
        "- Hari perjalanan\n",
        "- Waktu/jam perjalanan\n",
        "- Lama perjalanan (dalam menit)"
      ],
      "id": "7131bcd5"
    },
    {
      "cell_type": "code",
      "execution_count": null,
      "metadata": {
        "id": "ef33a833",
        "colab": {
          "base_uri": "https://localhost:8080/",
          "height": 311
        },
        "outputId": "fb862f16-ec7a-44f5-bd4f-5a1522bc1d62"
      },
      "outputs": [
        {
          "output_type": "execute_result",
          "data": {
            "text/plain": [
              "            ride_id  rideable_type           started_at             ended_at  \\\n",
              "0  C2F7DD78E82EC875  electric_bike  2022-01-13 11:59:47  2022-01-13 12:02:44   \n",
              "1  A6CF8980A652D272  electric_bike  2022-01-10 08:41:56  2022-01-10 08:46:17   \n",
              "2  BD0F91DFF741C66D   classic_bike  2022-01-25 04:53:40  2022-01-25 04:58:01   \n",
              "\n",
              "   start_lat  start_lng   end_lat    end_lng member_casual  \n",
              "0  42.012800 -87.665906  42.01256 -87.674367        casual  \n",
              "1  42.012763 -87.665967  42.01256 -87.674367        casual  \n",
              "2  41.925602 -87.653708  41.92533 -87.665800        member  "
            ],
            "text/html": [
              "\n",
              "  <div id=\"df-29cd2066-3b49-4506-92e8-1e59485660e8\">\n",
              "    <div class=\"colab-df-container\">\n",
              "      <div>\n",
              "<style scoped>\n",
              "    .dataframe tbody tr th:only-of-type {\n",
              "        vertical-align: middle;\n",
              "    }\n",
              "\n",
              "    .dataframe tbody tr th {\n",
              "        vertical-align: top;\n",
              "    }\n",
              "\n",
              "    .dataframe thead th {\n",
              "        text-align: right;\n",
              "    }\n",
              "</style>\n",
              "<table border=\"1\" class=\"dataframe\">\n",
              "  <thead>\n",
              "    <tr style=\"text-align: right;\">\n",
              "      <th></th>\n",
              "      <th>ride_id</th>\n",
              "      <th>rideable_type</th>\n",
              "      <th>started_at</th>\n",
              "      <th>ended_at</th>\n",
              "      <th>start_lat</th>\n",
              "      <th>start_lng</th>\n",
              "      <th>end_lat</th>\n",
              "      <th>end_lng</th>\n",
              "      <th>member_casual</th>\n",
              "    </tr>\n",
              "  </thead>\n",
              "  <tbody>\n",
              "    <tr>\n",
              "      <th>0</th>\n",
              "      <td>C2F7DD78E82EC875</td>\n",
              "      <td>electric_bike</td>\n",
              "      <td>2022-01-13 11:59:47</td>\n",
              "      <td>2022-01-13 12:02:44</td>\n",
              "      <td>42.012800</td>\n",
              "      <td>-87.665906</td>\n",
              "      <td>42.01256</td>\n",
              "      <td>-87.674367</td>\n",
              "      <td>casual</td>\n",
              "    </tr>\n",
              "    <tr>\n",
              "      <th>1</th>\n",
              "      <td>A6CF8980A652D272</td>\n",
              "      <td>electric_bike</td>\n",
              "      <td>2022-01-10 08:41:56</td>\n",
              "      <td>2022-01-10 08:46:17</td>\n",
              "      <td>42.012763</td>\n",
              "      <td>-87.665967</td>\n",
              "      <td>42.01256</td>\n",
              "      <td>-87.674367</td>\n",
              "      <td>casual</td>\n",
              "    </tr>\n",
              "    <tr>\n",
              "      <th>2</th>\n",
              "      <td>BD0F91DFF741C66D</td>\n",
              "      <td>classic_bike</td>\n",
              "      <td>2022-01-25 04:53:40</td>\n",
              "      <td>2022-01-25 04:58:01</td>\n",
              "      <td>41.925602</td>\n",
              "      <td>-87.653708</td>\n",
              "      <td>41.92533</td>\n",
              "      <td>-87.665800</td>\n",
              "      <td>member</td>\n",
              "    </tr>\n",
              "  </tbody>\n",
              "</table>\n",
              "</div>\n",
              "      <button class=\"colab-df-convert\" onclick=\"convertToInteractive('df-29cd2066-3b49-4506-92e8-1e59485660e8')\"\n",
              "              title=\"Convert this dataframe to an interactive table.\"\n",
              "              style=\"display:none;\">\n",
              "        \n",
              "  <svg xmlns=\"http://www.w3.org/2000/svg\" height=\"24px\"viewBox=\"0 0 24 24\"\n",
              "       width=\"24px\">\n",
              "    <path d=\"M0 0h24v24H0V0z\" fill=\"none\"/>\n",
              "    <path d=\"M18.56 5.44l.94 2.06.94-2.06 2.06-.94-2.06-.94-.94-2.06-.94 2.06-2.06.94zm-11 1L8.5 8.5l.94-2.06 2.06-.94-2.06-.94L8.5 2.5l-.94 2.06-2.06.94zm10 10l.94 2.06.94-2.06 2.06-.94-2.06-.94-.94-2.06-.94 2.06-2.06.94z\"/><path d=\"M17.41 7.96l-1.37-1.37c-.4-.4-.92-.59-1.43-.59-.52 0-1.04.2-1.43.59L10.3 9.45l-7.72 7.72c-.78.78-.78 2.05 0 2.83L4 21.41c.39.39.9.59 1.41.59.51 0 1.02-.2 1.41-.59l7.78-7.78 2.81-2.81c.8-.78.8-2.07 0-2.86zM5.41 20L4 18.59l7.72-7.72 1.47 1.35L5.41 20z\"/>\n",
              "  </svg>\n",
              "      </button>\n",
              "      \n",
              "  <style>\n",
              "    .colab-df-container {\n",
              "      display:flex;\n",
              "      flex-wrap:wrap;\n",
              "      gap: 12px;\n",
              "    }\n",
              "\n",
              "    .colab-df-convert {\n",
              "      background-color: #E8F0FE;\n",
              "      border: none;\n",
              "      border-radius: 50%;\n",
              "      cursor: pointer;\n",
              "      display: none;\n",
              "      fill: #1967D2;\n",
              "      height: 32px;\n",
              "      padding: 0 0 0 0;\n",
              "      width: 32px;\n",
              "    }\n",
              "\n",
              "    .colab-df-convert:hover {\n",
              "      background-color: #E2EBFA;\n",
              "      box-shadow: 0px 1px 2px rgba(60, 64, 67, 0.3), 0px 1px 3px 1px rgba(60, 64, 67, 0.15);\n",
              "      fill: #174EA6;\n",
              "    }\n",
              "\n",
              "    [theme=dark] .colab-df-convert {\n",
              "      background-color: #3B4455;\n",
              "      fill: #D2E3FC;\n",
              "    }\n",
              "\n",
              "    [theme=dark] .colab-df-convert:hover {\n",
              "      background-color: #434B5C;\n",
              "      box-shadow: 0px 1px 3px 1px rgba(0, 0, 0, 0.15);\n",
              "      filter: drop-shadow(0px 1px 2px rgba(0, 0, 0, 0.3));\n",
              "      fill: #FFFFFF;\n",
              "    }\n",
              "  </style>\n",
              "\n",
              "      <script>\n",
              "        const buttonEl =\n",
              "          document.querySelector('#df-29cd2066-3b49-4506-92e8-1e59485660e8 button.colab-df-convert');\n",
              "        buttonEl.style.display =\n",
              "          google.colab.kernel.accessAllowed ? 'block' : 'none';\n",
              "\n",
              "        async function convertToInteractive(key) {\n",
              "          const element = document.querySelector('#df-29cd2066-3b49-4506-92e8-1e59485660e8');\n",
              "          const dataTable =\n",
              "            await google.colab.kernel.invokeFunction('convertToInteractive',\n",
              "                                                     [key], {});\n",
              "          if (!dataTable) return;\n",
              "\n",
              "          const docLinkHtml = 'Like what you see? Visit the ' +\n",
              "            '<a target=\"_blank\" href=https://colab.research.google.com/notebooks/data_table.ipynb>data table notebook</a>'\n",
              "            + ' to learn more about interactive tables.';\n",
              "          element.innerHTML = '';\n",
              "          dataTable['output_type'] = 'display_data';\n",
              "          await google.colab.output.renderOutput(dataTable, element);\n",
              "          const docLink = document.createElement('div');\n",
              "          docLink.innerHTML = docLinkHtml;\n",
              "          element.appendChild(docLink);\n",
              "        }\n",
              "      </script>\n",
              "    </div>\n",
              "  </div>\n",
              "  "
            ]
          },
          "metadata": {},
          "execution_count": 24
        }
      ],
      "source": [
        "# check present column before new columns are created\n",
        "df.head(3)"
      ],
      "id": "ef33a833"
    },
    {
      "cell_type": "code",
      "execution_count": null,
      "metadata": {
        "id": "268b1b67"
      },
      "outputs": [],
      "source": [
        "# convert `started_at` and `ended_at` columns to datetime data type\n",
        "df['started_at'] = pd.to_datetime(df['started_at'], format='%Y-%m-%d %H:%M:%S')\n",
        "df['ended_at'] = pd.to_datetime(df['ended_at'], format='%Y-%m-%d %H:%M:%S')"
      ],
      "id": "268b1b67"
    },
    {
      "cell_type": "code",
      "execution_count": null,
      "metadata": {
        "id": "1d27a1df",
        "colab": {
          "base_uri": "https://localhost:8080/"
        },
        "outputId": "9af6e5ba-d4aa-40f5-fba2-d7b33dda3956"
      },
      "outputs": [
        {
          "output_type": "stream",
          "name": "stdout",
          "text": [
            "<class 'pandas.core.frame.DataFrame'>\n",
            "RangeIndex: 5667717 entries, 0 to 5667716\n",
            "Data columns (total 9 columns):\n",
            " #   Column         Dtype         \n",
            "---  ------         -----         \n",
            " 0   ride_id        object        \n",
            " 1   rideable_type  object        \n",
            " 2   started_at     datetime64[ns]\n",
            " 3   ended_at       datetime64[ns]\n",
            " 4   start_lat      float64       \n",
            " 5   start_lng      float64       \n",
            " 6   end_lat        float64       \n",
            " 7   end_lng        float64       \n",
            " 8   member_casual  object        \n",
            "dtypes: datetime64[ns](2), float64(4), object(3)\n",
            "memory usage: 389.2+ MB\n"
          ]
        }
      ],
      "source": [
        "df.info()"
      ],
      "id": "1d27a1df"
    },
    {
      "cell_type": "code",
      "execution_count": null,
      "metadata": {
        "id": "464b335a"
      },
      "outputs": [],
      "source": [
        "# create the month column\n",
        "df['month'] =df['started_at'].dt.month_name()"
      ],
      "id": "464b335a"
    },
    {
      "cell_type": "code",
      "execution_count": null,
      "metadata": {
        "id": "ba6b4bc5"
      },
      "outputs": [],
      "source": [
        "# create the season column\n",
        "def find_season(month):\n",
        "    season_month = {\n",
        "            'December':'Winter', 'January':'Winter', 'February':'Winter',\n",
        "            'March':'Spring', 'April':'Spring', 'May':'Spring',\n",
        "            'June':'Summer', 'July':'Summer', 'August':'Summer',\n",
        "            'September':'Autumn', 'October':'Autumn', 'November':'Autumn'}\n",
        "    return season_month.get(month)\n",
        "\n",
        "season_list = []\n",
        "\n",
        "for month in df['month']:\n",
        "    season = find_season(month)\n",
        "    season_list.append(season)\n",
        "\n",
        "df['season'] = season_list"
      ],
      "id": "ba6b4bc5"
    },
    {
      "cell_type": "code",
      "execution_count": null,
      "metadata": {
        "id": "8baa5cae"
      },
      "outputs": [],
      "source": [
        "# create the day_of_week column\n",
        "df['day_of_week'] = df['started_at'].dt.day_name()"
      ],
      "id": "8baa5cae"
    },
    {
      "cell_type": "code",
      "execution_count": null,
      "metadata": {
        "id": "5c51d01f"
      },
      "outputs": [],
      "source": [
        "# create hour time of the ride \n",
        "df['time_hour'] = df['started_at'].dt.hour"
      ],
      "id": "5c51d01f"
    },
    {
      "cell_type": "code",
      "execution_count": null,
      "metadata": {
        "id": "03efcd9a"
      },
      "outputs": [],
      "source": [
        "# create ride duration of the ride\n",
        "df['ride_duration'] = (df['ended_at'] - df['started_at']).dt.total_seconds() / 60"
      ],
      "id": "03efcd9a"
    },
    {
      "cell_type": "code",
      "execution_count": null,
      "metadata": {
        "id": "b4dedb45",
        "colab": {
          "base_uri": "https://localhost:8080/"
        },
        "outputId": "419d37a2-631b-48e2-a565-4a9e6c0df6c9"
      },
      "outputs": [
        {
          "output_type": "execute_result",
          "data": {
            "text/plain": [
              "count    5.667717e+06\n",
              "mean     1.944329e+01\n",
              "std      1.761281e+02\n",
              "min     -1.035335e+04\n",
              "25%      5.816667e+00\n",
              "50%      1.028333e+01\n",
              "75%      1.846667e+01\n",
              "max      4.138725e+04\n",
              "Name: ride_duration, dtype: float64"
            ]
          },
          "metadata": {},
          "execution_count": 32
        }
      ],
      "source": [
        "# check statistical summary of ride_duration column\n",
        "df['ride_duration'].describe()"
      ],
      "id": "b4dedb45"
    },
    {
      "cell_type": "code",
      "execution_count": null,
      "metadata": {
        "id": "c47f6d21",
        "scrolled": true,
        "colab": {
          "base_uri": "https://localhost:8080/"
        },
        "outputId": "21524301-ac1c-45a6-f43b-a873523c7575"
      },
      "outputs": [
        {
          "output_type": "execute_result",
          "data": {
            "text/plain": [
              "ride_id          100\n",
              "rideable_type    100\n",
              "started_at       100\n",
              "ended_at         100\n",
              "start_lat        100\n",
              "start_lng        100\n",
              "end_lat          100\n",
              "end_lng          100\n",
              "member_casual    100\n",
              "month            100\n",
              "season           100\n",
              "day_of_week      100\n",
              "time_hour        100\n",
              "ride_duration    100\n",
              "dtype: int64"
            ]
          },
          "metadata": {},
          "execution_count": 33
        }
      ],
      "source": [
        "df[df['ride_duration'] < 0].count()"
      ],
      "id": "c47f6d21"
    },
    {
      "cell_type": "markdown",
      "metadata": {
        "id": "841ce798"
      },
      "source": [
        "Setelah membuat kolom `ride_duration`, kami melihat ada beberapa durasi yang berada di bawah 0 menit. Karena nilai ini tidak masuk akal, kita akan menyesuaikan pengamatan dengan durasi perjalanan di atas 0 detik."
      ],
      "id": "841ce798"
    },
    {
      "cell_type": "code",
      "execution_count": null,
      "metadata": {
        "id": "c32230fb"
      },
      "outputs": [],
      "source": [
        "df = df[df['ride_duration'] > 0]"
      ],
      "id": "c32230fb"
    },
    {
      "cell_type": "markdown",
      "metadata": {
        "id": "0e106789"
      },
      "source": [
        "Setelah membuat beberapa kolom baru, dataset kita sekarang akan terlihat seperti ini:"
      ],
      "id": "0e106789"
    },
    {
      "cell_type": "code",
      "execution_count": null,
      "metadata": {
        "id": "80316f1d",
        "colab": {
          "base_uri": "https://localhost:8080/",
          "height": 443
        },
        "outputId": "ade1b166-c2aa-4e2d-bed2-b798d3ef8176"
      },
      "outputs": [
        {
          "output_type": "execute_result",
          "data": {
            "text/plain": [
              "                  ride_id  rideable_type          started_at  \\\n",
              "5268559  8A89D09015BEDC2C   classic_bike 2022-09-16 18:17:09   \n",
              "4459569  08B61DD68A7AFE59   classic_bike 2022-11-15 05:54:46   \n",
              "4191890  B5220D585382BB8B   classic_bike 2022-10-09 21:15:11   \n",
              "3642247  591C7FA7C5D92C1F  electric_bike 2022-08-13 19:10:17   \n",
              "1742318  60EF792AF0EF41E5  electric_bike 2022-06-17 13:57:19   \n",
              "\n",
              "                   ended_at  start_lat  start_lng    end_lat    end_lng  \\\n",
              "5268559 2022-09-16 18:27:49  41.890762 -87.631697  41.883181 -87.648725   \n",
              "4459569 2022-11-15 05:58:51  41.902309 -87.627691  41.896945 -87.621758   \n",
              "4191890 2022-10-09 21:33:53  41.883602 -87.648627  41.894666 -87.638437   \n",
              "3642247 2022-08-13 19:23:18  41.920000 -87.680000  41.922167 -87.638888   \n",
              "1742318 2022-06-17 14:14:07  42.019098 -87.673537  42.015963 -87.675005   \n",
              "\n",
              "        member_casual      month  season day_of_week  time_hour  ride_duration  \n",
              "5268559        casual  September  Autumn      Friday         18      10.666667  \n",
              "4459569        member   November  Autumn     Tuesday          5       4.083333  \n",
              "4191890        member    October  Autumn      Sunday         21      18.700000  \n",
              "3642247        casual     August  Summer    Saturday         19      13.016667  \n",
              "1742318        casual       June  Summer      Friday         13      16.800000  "
            ],
            "text/html": [
              "\n",
              "  <div id=\"df-5de5cafe-9a73-4ace-9684-afcff52de8cd\">\n",
              "    <div class=\"colab-df-container\">\n",
              "      <div>\n",
              "<style scoped>\n",
              "    .dataframe tbody tr th:only-of-type {\n",
              "        vertical-align: middle;\n",
              "    }\n",
              "\n",
              "    .dataframe tbody tr th {\n",
              "        vertical-align: top;\n",
              "    }\n",
              "\n",
              "    .dataframe thead th {\n",
              "        text-align: right;\n",
              "    }\n",
              "</style>\n",
              "<table border=\"1\" class=\"dataframe\">\n",
              "  <thead>\n",
              "    <tr style=\"text-align: right;\">\n",
              "      <th></th>\n",
              "      <th>ride_id</th>\n",
              "      <th>rideable_type</th>\n",
              "      <th>started_at</th>\n",
              "      <th>ended_at</th>\n",
              "      <th>start_lat</th>\n",
              "      <th>start_lng</th>\n",
              "      <th>end_lat</th>\n",
              "      <th>end_lng</th>\n",
              "      <th>member_casual</th>\n",
              "      <th>month</th>\n",
              "      <th>season</th>\n",
              "      <th>day_of_week</th>\n",
              "      <th>time_hour</th>\n",
              "      <th>ride_duration</th>\n",
              "    </tr>\n",
              "  </thead>\n",
              "  <tbody>\n",
              "    <tr>\n",
              "      <th>5268559</th>\n",
              "      <td>8A89D09015BEDC2C</td>\n",
              "      <td>classic_bike</td>\n",
              "      <td>2022-09-16 18:17:09</td>\n",
              "      <td>2022-09-16 18:27:49</td>\n",
              "      <td>41.890762</td>\n",
              "      <td>-87.631697</td>\n",
              "      <td>41.883181</td>\n",
              "      <td>-87.648725</td>\n",
              "      <td>casual</td>\n",
              "      <td>September</td>\n",
              "      <td>Autumn</td>\n",
              "      <td>Friday</td>\n",
              "      <td>18</td>\n",
              "      <td>10.666667</td>\n",
              "    </tr>\n",
              "    <tr>\n",
              "      <th>4459569</th>\n",
              "      <td>08B61DD68A7AFE59</td>\n",
              "      <td>classic_bike</td>\n",
              "      <td>2022-11-15 05:54:46</td>\n",
              "      <td>2022-11-15 05:58:51</td>\n",
              "      <td>41.902309</td>\n",
              "      <td>-87.627691</td>\n",
              "      <td>41.896945</td>\n",
              "      <td>-87.621758</td>\n",
              "      <td>member</td>\n",
              "      <td>November</td>\n",
              "      <td>Autumn</td>\n",
              "      <td>Tuesday</td>\n",
              "      <td>5</td>\n",
              "      <td>4.083333</td>\n",
              "    </tr>\n",
              "    <tr>\n",
              "      <th>4191890</th>\n",
              "      <td>B5220D585382BB8B</td>\n",
              "      <td>classic_bike</td>\n",
              "      <td>2022-10-09 21:15:11</td>\n",
              "      <td>2022-10-09 21:33:53</td>\n",
              "      <td>41.883602</td>\n",
              "      <td>-87.648627</td>\n",
              "      <td>41.894666</td>\n",
              "      <td>-87.638437</td>\n",
              "      <td>member</td>\n",
              "      <td>October</td>\n",
              "      <td>Autumn</td>\n",
              "      <td>Sunday</td>\n",
              "      <td>21</td>\n",
              "      <td>18.700000</td>\n",
              "    </tr>\n",
              "    <tr>\n",
              "      <th>3642247</th>\n",
              "      <td>591C7FA7C5D92C1F</td>\n",
              "      <td>electric_bike</td>\n",
              "      <td>2022-08-13 19:10:17</td>\n",
              "      <td>2022-08-13 19:23:18</td>\n",
              "      <td>41.920000</td>\n",
              "      <td>-87.680000</td>\n",
              "      <td>41.922167</td>\n",
              "      <td>-87.638888</td>\n",
              "      <td>casual</td>\n",
              "      <td>August</td>\n",
              "      <td>Summer</td>\n",
              "      <td>Saturday</td>\n",
              "      <td>19</td>\n",
              "      <td>13.016667</td>\n",
              "    </tr>\n",
              "    <tr>\n",
              "      <th>1742318</th>\n",
              "      <td>60EF792AF0EF41E5</td>\n",
              "      <td>electric_bike</td>\n",
              "      <td>2022-06-17 13:57:19</td>\n",
              "      <td>2022-06-17 14:14:07</td>\n",
              "      <td>42.019098</td>\n",
              "      <td>-87.673537</td>\n",
              "      <td>42.015963</td>\n",
              "      <td>-87.675005</td>\n",
              "      <td>casual</td>\n",
              "      <td>June</td>\n",
              "      <td>Summer</td>\n",
              "      <td>Friday</td>\n",
              "      <td>13</td>\n",
              "      <td>16.800000</td>\n",
              "    </tr>\n",
              "  </tbody>\n",
              "</table>\n",
              "</div>\n",
              "      <button class=\"colab-df-convert\" onclick=\"convertToInteractive('df-5de5cafe-9a73-4ace-9684-afcff52de8cd')\"\n",
              "              title=\"Convert this dataframe to an interactive table.\"\n",
              "              style=\"display:none;\">\n",
              "        \n",
              "  <svg xmlns=\"http://www.w3.org/2000/svg\" height=\"24px\"viewBox=\"0 0 24 24\"\n",
              "       width=\"24px\">\n",
              "    <path d=\"M0 0h24v24H0V0z\" fill=\"none\"/>\n",
              "    <path d=\"M18.56 5.44l.94 2.06.94-2.06 2.06-.94-2.06-.94-.94-2.06-.94 2.06-2.06.94zm-11 1L8.5 8.5l.94-2.06 2.06-.94-2.06-.94L8.5 2.5l-.94 2.06-2.06.94zm10 10l.94 2.06.94-2.06 2.06-.94-2.06-.94-.94-2.06-.94 2.06-2.06.94z\"/><path d=\"M17.41 7.96l-1.37-1.37c-.4-.4-.92-.59-1.43-.59-.52 0-1.04.2-1.43.59L10.3 9.45l-7.72 7.72c-.78.78-.78 2.05 0 2.83L4 21.41c.39.39.9.59 1.41.59.51 0 1.02-.2 1.41-.59l7.78-7.78 2.81-2.81c.8-.78.8-2.07 0-2.86zM5.41 20L4 18.59l7.72-7.72 1.47 1.35L5.41 20z\"/>\n",
              "  </svg>\n",
              "      </button>\n",
              "      \n",
              "  <style>\n",
              "    .colab-df-container {\n",
              "      display:flex;\n",
              "      flex-wrap:wrap;\n",
              "      gap: 12px;\n",
              "    }\n",
              "\n",
              "    .colab-df-convert {\n",
              "      background-color: #E8F0FE;\n",
              "      border: none;\n",
              "      border-radius: 50%;\n",
              "      cursor: pointer;\n",
              "      display: none;\n",
              "      fill: #1967D2;\n",
              "      height: 32px;\n",
              "      padding: 0 0 0 0;\n",
              "      width: 32px;\n",
              "    }\n",
              "\n",
              "    .colab-df-convert:hover {\n",
              "      background-color: #E2EBFA;\n",
              "      box-shadow: 0px 1px 2px rgba(60, 64, 67, 0.3), 0px 1px 3px 1px rgba(60, 64, 67, 0.15);\n",
              "      fill: #174EA6;\n",
              "    }\n",
              "\n",
              "    [theme=dark] .colab-df-convert {\n",
              "      background-color: #3B4455;\n",
              "      fill: #D2E3FC;\n",
              "    }\n",
              "\n",
              "    [theme=dark] .colab-df-convert:hover {\n",
              "      background-color: #434B5C;\n",
              "      box-shadow: 0px 1px 3px 1px rgba(0, 0, 0, 0.15);\n",
              "      filter: drop-shadow(0px 1px 2px rgba(0, 0, 0, 0.3));\n",
              "      fill: #FFFFFF;\n",
              "    }\n",
              "  </style>\n",
              "\n",
              "      <script>\n",
              "        const buttonEl =\n",
              "          document.querySelector('#df-5de5cafe-9a73-4ace-9684-afcff52de8cd button.colab-df-convert');\n",
              "        buttonEl.style.display =\n",
              "          google.colab.kernel.accessAllowed ? 'block' : 'none';\n",
              "\n",
              "        async function convertToInteractive(key) {\n",
              "          const element = document.querySelector('#df-5de5cafe-9a73-4ace-9684-afcff52de8cd');\n",
              "          const dataTable =\n",
              "            await google.colab.kernel.invokeFunction('convertToInteractive',\n",
              "                                                     [key], {});\n",
              "          if (!dataTable) return;\n",
              "\n",
              "          const docLinkHtml = 'Like what you see? Visit the ' +\n",
              "            '<a target=\"_blank\" href=https://colab.research.google.com/notebooks/data_table.ipynb>data table notebook</a>'\n",
              "            + ' to learn more about interactive tables.';\n",
              "          element.innerHTML = '';\n",
              "          dataTable['output_type'] = 'display_data';\n",
              "          await google.colab.output.renderOutput(dataTable, element);\n",
              "          const docLink = document.createElement('div');\n",
              "          docLink.innerHTML = docLinkHtml;\n",
              "          element.appendChild(docLink);\n",
              "        }\n",
              "      </script>\n",
              "    </div>\n",
              "  </div>\n",
              "  "
            ]
          },
          "metadata": {},
          "execution_count": 35
        }
      ],
      "source": [
        "# check present column after new columns are created\n",
        "df.sample(5)"
      ],
      "id": "80316f1d"
    },
    {
      "cell_type": "code",
      "execution_count": null,
      "metadata": {
        "id": "8f13d039",
        "colab": {
          "base_uri": "https://localhost:8080/"
        },
        "outputId": "ba91294d-02b1-4c56-edfa-caaebf82a187"
      },
      "outputs": [
        {
          "output_type": "stream",
          "name": "stdout",
          "text": [
            "<class 'pandas.core.frame.DataFrame'>\n",
            "Int64Index: 5667186 entries, 0 to 5667716\n",
            "Data columns (total 14 columns):\n",
            " #   Column         Dtype         \n",
            "---  ------         -----         \n",
            " 0   ride_id        object        \n",
            " 1   rideable_type  object        \n",
            " 2   started_at     datetime64[ns]\n",
            " 3   ended_at       datetime64[ns]\n",
            " 4   start_lat      float64       \n",
            " 5   start_lng      float64       \n",
            " 6   end_lat        float64       \n",
            " 7   end_lng        float64       \n",
            " 8   member_casual  object        \n",
            " 9   month          object        \n",
            " 10  season         object        \n",
            " 11  day_of_week    object        \n",
            " 12  time_hour      int64         \n",
            " 13  ride_duration  float64       \n",
            "dtypes: datetime64[ns](2), float64(5), int64(1), object(6)\n",
            "memory usage: 648.6+ MB\n"
          ]
        }
      ],
      "source": [
        "df.info()"
      ],
      "id": "8f13d039"
    },
    {
      "cell_type": "markdown",
      "metadata": {
        "id": "82ddd64a"
      },
      "source": [
        "Mari kita lanjutkan analisis kita."
      ],
      "id": "82ddd64a"
    },
    {
      "cell_type": "markdown",
      "metadata": {
        "id": "1489e5cb"
      },
      "source": [
        "### Jumlah perjalanan per bulan"
      ],
      "id": "1489e5cb"
    },
    {
      "cell_type": "code",
      "execution_count": null,
      "metadata": {
        "id": "09f1febb"
      },
      "outputs": [],
      "source": [
        "month_order = ['January', 'February', 'March', 'April', 'May', 'June',\n",
        "               'July', 'August', 'September', 'October', 'November', 'December']"
      ],
      "id": "09f1febb"
    },
    {
      "cell_type": "code",
      "execution_count": null,
      "metadata": {
        "id": "ed99a75e",
        "colab": {
          "base_uri": "https://localhost:8080/",
          "height": 347
        },
        "outputId": "d4a3f2cb-8577-4f21-8993-cd53fbe6b181"
      },
      "outputs": [
        {
          "output_type": "display_data",
          "data": {
            "text/plain": [
              "<Figure size 1152x432 with 1 Axes>"
            ],
            "image/png": "[encoded data removed]"
          },
          "metadata": {
            "needs_background": "light"
          }
        }
      ],
      "source": [
        "plt.figure(figsize=(16,6))\n",
        "sns.countplot(x='month', data=df, order=month_order, color='tab:blue')\n",
        "plt.show()"
      ],
      "id": "ed99a75e"
    },
    {
      "cell_type": "code",
      "execution_count": null,
      "metadata": {
        "colab": {
          "base_uri": "https://localhost:8080/",
          "height": 347
        },
        "id": "78f579f8",
        "scrolled": false,
        "outputId": "f45fafc9-94ae-4a2a-b8f6-9253e8790228"
      },
      "outputs": [
        {
          "output_type": "display_data",
          "data": {
            "text/plain": [
              "<Figure size 1152x432 with 1 Axes>"
            ],
            "image/png": "[encoded data removed]"
          },
          "metadata": {
            "needs_background": "light"
          }
        }
      ],
      "source": [
        "plt.figure(figsize=(16,6))\n",
        "sns.countplot(x='month', data=df, order=month_order, hue='member_casual')\n",
        "plt.show()"
      ],
      "id": "78f579f8"
    },
    {
      "cell_type": "markdown",
      "metadata": {
        "id": "13a9135e"
      },
      "source": [
        "- Mulai dari bulan Mei, jumlah perjalanan mulai meningkat dan mencapai puncaknya pada bulan July.\n",
        "- Jumlah Perjalanan tertinggi terjadi pada bulan Juni, Juli, dan Agustus. Pada bulan-bulan ini, musim panas sedang berlangsung.\n",
        "- Jumlah Perjalanan terendah terjadi pada bulan Januari, Februari, dan Desember, yang merupakan bulan-bulan musim dingin.\n",
        "- Jumlah pengendara anggota selalu lebih tinggi daripada pengendara biasa di semua bulan sepanjang tahun. Namun pada bulan Juli, jumlah pengendara kasual meningkat secara signifikan dan hampir sama dengan pengendara anggota."
      ],
      "id": "13a9135e"
    },
    {
      "cell_type": "markdown",
      "metadata": {
        "id": "d31cc52a"
      },
      "source": [
        "### Jumlah wahana berdasarkan musim"
      ],
      "id": "d31cc52a"
    },
    {
      "cell_type": "code",
      "execution_count": null,
      "metadata": {
        "id": "eadc0d2a"
      },
      "outputs": [],
      "source": [
        "season_order = ['Winter', 'Spring', 'Summer', 'Autumn']"
      ],
      "id": "eadc0d2a"
    },
    {
      "cell_type": "code",
      "execution_count": null,
      "metadata": {
        "id": "4630e5c9",
        "colab": {
          "base_uri": "https://localhost:8080/",
          "height": 386
        },
        "outputId": "d85b6309-ce54-456c-bad5-044d8537151e"
      },
      "outputs": [
        {
          "output_type": "display_data",
          "data": {
            "text/plain": [
              "<Figure size 1080x432 with 2 Axes>"
            ],
            "image/png": "[encoded data removed]"
          },
          "metadata": {
            "needs_background": "light"
          }
        }
      ],
      "source": [
        "fig, axes = plt.subplots(1, 2, figsize=(15,6))\n",
        "axes[0] = sns.countplot(ax=axes[0], x='season', order=season_order, data=df)\n",
        "axes[1] = sns.countplot(ax=axes[1], x='season', order=season_order, data=df, hue='member_casual')\n",
        "plt.show()"
      ],
      "id": "4630e5c9"
    },
    {
      "cell_type": "markdown",
      "metadata": {
        "id": "d5d41b5f"
      },
      "source": [
        "- Berdasarkan musim, jumlah Perjalanan paling tinggi selama musim panas atau Summer.\n",
        "- Hal ini kemungkinan besar dikontribusikan oleh tingginya peningkatan jumlah pengendara kasual selama musim panas."
      ],
      "id": "d5d41b5f"
    },
    {
      "cell_type": "markdown",
      "metadata": {
        "id": "20686c80"
      },
      "source": [
        "### Jumlah perjalanan berdasarkan hari dalam seminggu"
      ],
      "id": "20686c80"
    },
    {
      "cell_type": "code",
      "execution_count": null,
      "metadata": {
        "id": "ba863e24"
      },
      "outputs": [],
      "source": [
        "day_order = ['Monday', 'Tuesday', 'Wednesday', 'Thursday', 'Friday', 'Saturday', 'Sunday']"
      ],
      "id": "ba863e24"
    },
    {
      "cell_type": "code",
      "execution_count": null,
      "metadata": {
        "id": "f969d75b",
        "colab": {
          "base_uri": "https://localhost:8080/",
          "height": 389
        },
        "outputId": "8438173e-87bf-46d1-c7b1-3c9059fa1225"
      },
      "outputs": [
        {
          "output_type": "display_data",
          "data": {
            "text/plain": [
              "<Figure size 720x432 with 1 Axes>"
            ],
            "image/png": "[encoded data removed]"
          },
          "metadata": {
            "needs_background": "light"
          }
        }
      ],
      "source": [
        "plt.figure(figsize=(10,6))\n",
        "sns.countplot(x='day_of_week', data=df, order=day_order, color='tab:blue')\n",
        "plt.show()"
      ],
      "id": "f969d75b"
    },
    {
      "cell_type": "code",
      "execution_count": null,
      "metadata": {
        "id": "684353a9",
        "colab": {
          "base_uri": "https://localhost:8080/",
          "height": 389
        },
        "outputId": "1109bc89-18d1-4bbe-f69e-23ab4dd2a035"
      },
      "outputs": [
        {
          "output_type": "display_data",
          "data": {
            "text/plain": [
              "<Figure size 720x432 with 1 Axes>"
            ],
            "image/png": "[encoded data removed]"
          },
          "metadata": {
            "needs_background": "light"
          }
        }
      ],
      "source": [
        "plt.figure(figsize=(10,6))\n",
        "sns.countplot(x='day_of_week', data=df, order=day_order, hue='member_casual')\n",
        "plt.show()"
      ],
      "id": "684353a9"
    },
    {
      "cell_type": "markdown",
      "metadata": {
        "id": "0106416f"
      },
      "source": [
        "- Jumlah perjalanan cukup konsisten selama hari kerja. Jumlah perjalanan meningkat pada hari Sabtu, di mana jumlah perjalanan mencapai puncaknya.\n",
        "- Jumlah perjalanan yang dilakukan oleh pengendara anggota mendominasi selama hari kerja. Kemudian jumlah perjalanan secara bertahap menurun setelah hari Selasa, dan mencapai titik terendah pada akhir pekan.\n",
        "- Jumlah perjalanan oleh pengendara kasual cukup sederhana selama hari kerja. Namun, pada akhir pekan jumlah perjalanan yang dilakukan oleh pengendara kasual meningkat cukup signifikan. Pada akhir pekan, jumlah perjalanan yang dilakukan oleh pengendara kasual bahkan lebih tinggi dibandingkan dengan pengendara anggota."
      ],
      "id": "0106416f"
    },
    {
      "cell_type": "markdown",
      "metadata": {
        "id": "446b4569"
      },
      "source": [
        "### Jumlah perjalanan per jam dalam sehari"
      ],
      "id": "446b4569"
    },
    {
      "cell_type": "code",
      "execution_count": null,
      "metadata": {
        "id": "e0b8e974",
        "colab": {
          "base_uri": "https://localhost:8080/",
          "height": 1000
        },
        "outputId": "4e4f7ea5-2b8a-46e1-c365-fb65af7f999e"
      },
      "outputs": [
        {
          "output_type": "execute_result",
          "data": {
            "text/plain": [
              "    time_hour member_casual  ride_count\n",
              "0           0        casual       46474\n",
              "1           0        member       36069\n",
              "2           1        casual       30134\n",
              "3           1        member       22163\n",
              "4           2        casual       18685\n",
              "5           2        member       12892\n",
              "6           3        casual       11111\n",
              "7           3        member        8054\n",
              "8           4        casual        7618\n",
              "9           4        member        8942\n",
              "10          5        casual       12435\n",
              "11          5        member       32281\n",
              "12          6        casual       29437\n",
              "13          6        member       91239\n",
              "14          7        casual       51524\n",
              "15          7        member      172493\n",
              "16          8        casual       69755\n",
              "17          8        member      204524\n",
              "18          9        casual       72123\n",
              "19          9        member      143996\n",
              "20         10        casual       92982\n",
              "21         10        member      135809\n",
              "22         11        casual      121365\n",
              "23         11        member      162410\n",
              "24         12        casual      144198\n",
              "25         12        member      187487\n",
              "26         13        casual      150323\n",
              "27         13        member      186063\n",
              "28         14        casual      159938\n",
              "29         14        member      184990\n",
              "30         15        casual      178187\n",
              "31         15        member      221553\n",
              "32         16        casual      197697\n",
              "33         16        member      291751\n",
              "34         17        casual      220144\n",
              "35         17        member      349404\n",
              "36         18        casual      197528\n",
              "37         18        member      284586\n",
              "38         19        casual      151358\n",
              "39         19        member      206337\n",
              "40         20        casual      111879\n",
              "41         20        member      144762\n",
              "42         21        casual       95730\n",
              "43         21        member      113620\n",
              "44         22        casual       86509\n",
              "45         22        member       87012\n",
              "46         23        casual       64635\n",
              "47         23        member       56980"
            ],
            "text/html": [
              "\n",
              "  <div id=\"df-fba393b1-8712-4ae9-abb7-030cd354fbfc\">\n",
              "    <div class=\"colab-df-container\">\n",
              "      <div>\n",
              "<style scoped>\n",
              "    .dataframe tbody tr th:only-of-type {\n",
              "        vertical-align: middle;\n",
              "    }\n",
              "\n",
              "    .dataframe tbody tr th {\n",
              "        vertical-align: top;\n",
              "    }\n",
              "\n",
              "    .dataframe thead th {\n",
              "        text-align: right;\n",
              "    }\n",
              "</style>\n",
              "<table border=\"1\" class=\"dataframe\">\n",
              "  <thead>\n",
              "    <tr style=\"text-align: right;\">\n",
              "      <th></th>\n",
              "      <th>time_hour</th>\n",
              "      <th>member_casual</th>\n",
              "      <th>ride_count</th>\n",
              "    </tr>\n",
              "  </thead>\n",
              "  <tbody>\n",
              "    <tr>\n",
              "      <th>0</th>\n",
              "      <td>0</td>\n",
              "      <td>casual</td>\n",
              "      <td>46474</td>\n",
              "    </tr>\n",
              "    <tr>\n",
              "      <th>1</th>\n",
              "      <td>0</td>\n",
              "      <td>member</td>\n",
              "      <td>36069</td>\n",
              "    </tr>\n",
              "    <tr>\n",
              "      <th>2</th>\n",
              "      <td>1</td>\n",
              "      <td>casual</td>\n",
              "      <td>30134</td>\n",
              "    </tr>\n",
              "    <tr>\n",
              "      <th>3</th>\n",
              "      <td>1</td>\n",
              "      <td>member</td>\n",
              "      <td>22163</td>\n",
              "    </tr>\n",
              "    <tr>\n",
              "      <th>4</th>\n",
              "      <td>2</td>\n",
              "      <td>casual</td>\n",
              "      <td>18685</td>\n",
              "    </tr>\n",
              "    <tr>\n",
              "      <th>5</th>\n",
              "      <td>2</td>\n",
              "      <td>member</td>\n",
              "      <td>12892</td>\n",
              "    </tr>\n",
              "    <tr>\n",
              "      <th>6</th>\n",
              "      <td>3</td>\n",
              "      <td>casual</td>\n",
              "      <td>11111</td>\n",
              "    </tr>\n",
              "    <tr>\n",
              "      <th>7</th>\n",
              "      <td>3</td>\n",
              "      <td>member</td>\n",
              "      <td>8054</td>\n",
              "    </tr>\n",
              "    <tr>\n",
              "      <th>8</th>\n",
              "      <td>4</td>\n",
              "      <td>casual</td>\n",
              "      <td>7618</td>\n",
              "    </tr>\n",
              "    <tr>\n",
              "      <th>9</th>\n",
              "      <td>4</td>\n",
              "      <td>member</td>\n",
              "      <td>8942</td>\n",
              "    </tr>\n",
              "    <tr>\n",
              "      <th>10</th>\n",
              "      <td>5</td>\n",
              "      <td>casual</td>\n",
              "      <td>12435</td>\n",
              "    </tr>\n",
              "    <tr>\n",
              "      <th>11</th>\n",
              "      <td>5</td>\n",
              "      <td>member</td>\n",
              "      <td>32281</td>\n",
              "    </tr>\n",
              "    <tr>\n",
              "      <th>12</th>\n",
              "      <td>6</td>\n",
              "      <td>casual</td>\n",
              "      <td>29437</td>\n",
              "    </tr>\n",
              "    <tr>\n",
              "      <th>13</th>\n",
              "      <td>6</td>\n",
              "      <td>member</td>\n",
              "      <td>91239</td>\n",
              "    </tr>\n",
              "    <tr>\n",
              "      <th>14</th>\n",
              "      <td>7</td>\n",
              "      <td>casual</td>\n",
              "      <td>51524</td>\n",
              "    </tr>\n",
              "    <tr>\n",
              "      <th>15</th>\n",
              "      <td>7</td>\n",
              "      <td>member</td>\n",
              "      <td>172493</td>\n",
              "    </tr>\n",
              "    <tr>\n",
              "      <th>16</th>\n",
              "      <td>8</td>\n",
              "      <td>casual</td>\n",
              "      <td>69755</td>\n",
              "    </tr>\n",
              "    <tr>\n",
              "      <th>17</th>\n",
              "      <td>8</td>\n",
              "      <td>member</td>\n",
              "      <td>204524</td>\n",
              "    </tr>\n",
              "    <tr>\n",
              "      <th>18</th>\n",
              "      <td>9</td>\n",
              "      <td>casual</td>\n",
              "      <td>72123</td>\n",
              "    </tr>\n",
              "    <tr>\n",
              "      <th>19</th>\n",
              "      <td>9</td>\n",
              "      <td>member</td>\n",
              "      <td>143996</td>\n",
              "    </tr>\n",
              "    <tr>\n",
              "      <th>20</th>\n",
              "      <td>10</td>\n",
              "      <td>casual</td>\n",
              "      <td>92982</td>\n",
              "    </tr>\n",
              "    <tr>\n",
              "      <th>21</th>\n",
              "      <td>10</td>\n",
              "      <td>member</td>\n",
              "      <td>135809</td>\n",
              "    </tr>\n",
              "    <tr>\n",
              "      <th>22</th>\n",
              "      <td>11</td>\n",
              "      <td>casual</td>\n",
              "      <td>121365</td>\n",
              "    </tr>\n",
              "    <tr>\n",
              "      <th>23</th>\n",
              "      <td>11</td>\n",
              "      <td>member</td>\n",
              "      <td>162410</td>\n",
              "    </tr>\n",
              "    <tr>\n",
              "      <th>24</th>\n",
              "      <td>12</td>\n",
              "      <td>casual</td>\n",
              "      <td>144198</td>\n",
              "    </tr>\n",
              "    <tr>\n",
              "      <th>25</th>\n",
              "      <td>12</td>\n",
              "      <td>member</td>\n",
              "      <td>187487</td>\n",
              "    </tr>\n",
              "    <tr>\n",
              "      <th>26</th>\n",
              "      <td>13</td>\n",
              "      <td>casual</td>\n",
              "      <td>150323</td>\n",
              "    </tr>\n",
              "    <tr>\n",
              "      <th>27</th>\n",
              "      <td>13</td>\n",
              "      <td>member</td>\n",
              "      <td>186063</td>\n",
              "    </tr>\n",
              "    <tr>\n",
              "      <th>28</th>\n",
              "      <td>14</td>\n",
              "      <td>casual</td>\n",
              "      <td>159938</td>\n",
              "    </tr>\n",
              "    <tr>\n",
              "      <th>29</th>\n",
              "      <td>14</td>\n",
              "      <td>member</td>\n",
              "      <td>184990</td>\n",
              "    </tr>\n",
              "    <tr>\n",
              "      <th>30</th>\n",
              "      <td>15</td>\n",
              "      <td>casual</td>\n",
              "      <td>178187</td>\n",
              "    </tr>\n",
              "    <tr>\n",
              "      <th>31</th>\n",
              "      <td>15</td>\n",
              "      <td>member</td>\n",
              "      <td>221553</td>\n",
              "    </tr>\n",
              "    <tr>\n",
              "      <th>32</th>\n",
              "      <td>16</td>\n",
              "      <td>casual</td>\n",
              "      <td>197697</td>\n",
              "    </tr>\n",
              "    <tr>\n",
              "      <th>33</th>\n",
              "      <td>16</td>\n",
              "      <td>member</td>\n",
              "      <td>291751</td>\n",
              "    </tr>\n",
              "    <tr>\n",
              "      <th>34</th>\n",
              "      <td>17</td>\n",
              "      <td>casual</td>\n",
              "      <td>220144</td>\n",
              "    </tr>\n",
              "    <tr>\n",
              "      <th>35</th>\n",
              "      <td>17</td>\n",
              "      <td>member</td>\n",
              "      <td>349404</td>\n",
              "    </tr>\n",
              "    <tr>\n",
              "      <th>36</th>\n",
              "      <td>18</td>\n",
              "      <td>casual</td>\n",
              "      <td>197528</td>\n",
              "    </tr>\n",
              "    <tr>\n",
              "      <th>37</th>\n",
              "      <td>18</td>\n",
              "      <td>member</td>\n",
              "      <td>284586</td>\n",
              "    </tr>\n",
              "    <tr>\n",
              "      <th>38</th>\n",
              "      <td>19</td>\n",
              "      <td>casual</td>\n",
              "      <td>151358</td>\n",
              "    </tr>\n",
              "    <tr>\n",
              "      <th>39</th>\n",
              "      <td>19</td>\n",
              "      <td>member</td>\n",
              "      <td>206337</td>\n",
              "    </tr>\n",
              "    <tr>\n",
              "      <th>40</th>\n",
              "      <td>20</td>\n",
              "      <td>casual</td>\n",
              "      <td>111879</td>\n",
              "    </tr>\n",
              "    <tr>\n",
              "      <th>41</th>\n",
              "      <td>20</td>\n",
              "      <td>member</td>\n",
              "      <td>144762</td>\n",
              "    </tr>\n",
              "    <tr>\n",
              "      <th>42</th>\n",
              "      <td>21</td>\n",
              "      <td>casual</td>\n",
              "      <td>95730</td>\n",
              "    </tr>\n",
              "    <tr>\n",
              "      <th>43</th>\n",
              "      <td>21</td>\n",
              "      <td>member</td>\n",
              "      <td>113620</td>\n",
              "    </tr>\n",
              "    <tr>\n",
              "      <th>44</th>\n",
              "      <td>22</td>\n",
              "      <td>casual</td>\n",
              "      <td>86509</td>\n",
              "    </tr>\n",
              "    <tr>\n",
              "      <th>45</th>\n",
              "      <td>22</td>\n",
              "      <td>member</td>\n",
              "      <td>87012</td>\n",
              "    </tr>\n",
              "    <tr>\n",
              "      <th>46</th>\n",
              "      <td>23</td>\n",
              "      <td>casual</td>\n",
              "      <td>64635</td>\n",
              "    </tr>\n",
              "    <tr>\n",
              "      <th>47</th>\n",
              "      <td>23</td>\n",
              "      <td>member</td>\n",
              "      <td>56980</td>\n",
              "    </tr>\n",
              "  </tbody>\n",
              "</table>\n",
              "</div>\n",
              "      <button class=\"colab-df-convert\" onclick=\"convertToInteractive('df-fba393b1-8712-4ae9-abb7-030cd354fbfc')\"\n",
              "              title=\"Convert this dataframe to an interactive table.\"\n",
              "              style=\"display:none;\">\n",
              "        \n",
              "  <svg xmlns=\"http://www.w3.org/2000/svg\" height=\"24px\"viewBox=\"0 0 24 24\"\n",
              "       width=\"24px\">\n",
              "    <path d=\"M0 0h24v24H0V0z\" fill=\"none\"/>\n",
              "    <path d=\"M18.56 5.44l.94 2.06.94-2.06 2.06-.94-2.06-.94-.94-2.06-.94 2.06-2.06.94zm-11 1L8.5 8.5l.94-2.06 2.06-.94-2.06-.94L8.5 2.5l-.94 2.06-2.06.94zm10 10l.94 2.06.94-2.06 2.06-.94-2.06-.94-.94-2.06-.94 2.06-2.06.94z\"/><path d=\"M17.41 7.96l-1.37-1.37c-.4-.4-.92-.59-1.43-.59-.52 0-1.04.2-1.43.59L10.3 9.45l-7.72 7.72c-.78.78-.78 2.05 0 2.83L4 21.41c.39.39.9.59 1.41.59.51 0 1.02-.2 1.41-.59l7.78-7.78 2.81-2.81c.8-.78.8-2.07 0-2.86zM5.41 20L4 18.59l7.72-7.72 1.47 1.35L5.41 20z\"/>\n",
              "  </svg>\n",
              "      </button>\n",
              "      \n",
              "  <style>\n",
              "    .colab-df-container {\n",
              "      display:flex;\n",
              "      flex-wrap:wrap;\n",
              "      gap: 12px;\n",
              "    }\n",
              "\n",
              "    .colab-df-convert {\n",
              "      background-color: #E8F0FE;\n",
              "      border: none;\n",
              "      border-radius: 50%;\n",
              "      cursor: pointer;\n",
              "      display: none;\n",
              "      fill: #1967D2;\n",
              "      height: 32px;\n",
              "      padding: 0 0 0 0;\n",
              "      width: 32px;\n",
              "    }\n",
              "\n",
              "    .colab-df-convert:hover {\n",
              "      background-color: #E2EBFA;\n",
              "      box-shadow: 0px 1px 2px rgba(60, 64, 67, 0.3), 0px 1px 3px 1px rgba(60, 64, 67, 0.15);\n",
              "      fill: #174EA6;\n",
              "    }\n",
              "\n",
              "    [theme=dark] .colab-df-convert {\n",
              "      background-color: #3B4455;\n",
              "      fill: #D2E3FC;\n",
              "    }\n",
              "\n",
              "    [theme=dark] .colab-df-convert:hover {\n",
              "      background-color: #434B5C;\n",
              "      box-shadow: 0px 1px 3px 1px rgba(0, 0, 0, 0.15);\n",
              "      filter: drop-shadow(0px 1px 2px rgba(0, 0, 0, 0.3));\n",
              "      fill: #FFFFFF;\n",
              "    }\n",
              "  </style>\n",
              "\n",
              "      <script>\n",
              "        const buttonEl =\n",
              "          document.querySelector('#df-fba393b1-8712-4ae9-abb7-030cd354fbfc button.colab-df-convert');\n",
              "        buttonEl.style.display =\n",
              "          google.colab.kernel.accessAllowed ? 'block' : 'none';\n",
              "\n",
              "        async function convertToInteractive(key) {\n",
              "          const element = document.querySelector('#df-fba393b1-8712-4ae9-abb7-030cd354fbfc');\n",
              "          const dataTable =\n",
              "            await google.colab.kernel.invokeFunction('convertToInteractive',\n",
              "                                                     [key], {});\n",
              "          if (!dataTable) return;\n",
              "\n",
              "          const docLinkHtml = 'Like what you see? Visit the ' +\n",
              "            '<a target=\"_blank\" href=https://colab.research.google.com/notebooks/data_table.ipynb>data table notebook</a>'\n",
              "            + ' to learn more about interactive tables.';\n",
              "          element.innerHTML = '';\n",
              "          dataTable['output_type'] = 'display_data';\n",
              "          await google.colab.output.renderOutput(dataTable, element);\n",
              "          const docLink = document.createElement('div');\n",
              "          docLink.innerHTML = docLinkHtml;\n",
              "          element.appendChild(docLink);\n",
              "        }\n",
              "      </script>\n",
              "    </div>\n",
              "  </div>\n",
              "  "
            ]
          },
          "metadata": {},
          "execution_count": 45
        }
      ],
      "source": [
        "hour_ride = df.groupby(['time_hour','member_casual'], as_index=False)['ride_id'].count()\n",
        "hour_ride = hour_ride.rename(columns={'ride_id': 'ride_count'})\n",
        "hour_ride"
      ],
      "id": "e0b8e974"
    },
    {
      "cell_type": "code",
      "execution_count": null,
      "metadata": {
        "id": "a96a7383",
        "colab": {
          "base_uri": "https://localhost:8080/",
          "height": 348
        },
        "outputId": "c60752b1-28e2-403f-fc92-5fa599a903e3"
      },
      "outputs": [
        {
          "output_type": "display_data",
          "data": {
            "text/plain": [
              "<Figure size 1152x432 with 1 Axes>"
            ],
            "image/png": "[encoded data removed]"
          },
          "metadata": {
            "needs_background": "light"
          }
        }
      ],
      "source": [
        "plt.figure(figsize=(16, 6))\n",
        "sns.lineplot(x='time_hour', y='ride_count', hue='member_casual', data=hour_ride)\n",
        "x = np.arange(0, 24, 1)\n",
        "plt.xticks(x)\n",
        "plt.axvline(x=8, color='gray', linestyle='--')\n",
        "plt.axvline(x=17, color='gray', linestyle='--')\n",
        "plt.show();"
      ],
      "id": "a96a7383"
    },
    {
      "cell_type": "markdown",
      "metadata": {
        "id": "16922ee4"
      },
      "source": [
        "- Untuk pengendara anggota, jumlah pengendara mencapai puncaknya pada pukul 8.00 pagi dan 17.00 sore.\n",
        "- Karena kita tahu bahwa pengendara anggota sebagian besar menyewa sepeda pada hari kerja, maka jam 8.00 dan 17.00 diperkirakan merupakan \"jam sibuk\", atau jam dimana orang-orang berangkat dan pulang kerja.\n",
        "- Untuk pengendara biasa, jumlah pengendara tampaknya meningkat secara stabil mulai pukul 5.00, kemudian mencapai puncaknya pada pukul 17.00."
      ],
      "id": "16922ee4"
    },
    {
      "cell_type": "markdown",
      "metadata": {
        "id": "686022ae"
      },
      "source": [
        "### Durasi Perjalanan Rata-Rata berdasarkan Jenis Anggota dan Hari dalam Seminggu"
      ],
      "id": "686022ae"
    },
    {
      "cell_type": "code",
      "execution_count": null,
      "metadata": {
        "id": "cc09f6c3",
        "colab": {
          "base_uri": "https://localhost:8080/",
          "height": 488
        },
        "outputId": "633bb34a-4a44-4cba-aea9-cecd5e7301d4"
      },
      "outputs": [
        {
          "output_type": "execute_result",
          "data": {
            "text/plain": [
              "   member_casual day_of_week  ride_duration\n",
              "0         casual      Friday      28.046850\n",
              "1         casual      Monday      29.189675\n",
              "2         casual    Saturday      32.617876\n",
              "3         casual      Sunday      34.060572\n",
              "4         casual    Thursday      25.550397\n",
              "5         casual     Tuesday      25.825316\n",
              "6         casual   Wednesday      24.752198\n",
              "7         member      Friday      12.531630\n",
              "8         member      Monday      12.270885\n",
              "9         member    Saturday      14.140955\n",
              "10        member      Sunday      14.032259\n",
              "11        member    Thursday      12.293652\n",
              "12        member     Tuesday      12.130285\n",
              "13        member   Wednesday      12.105606"
            ],
            "text/html": [
              "\n",
              "  <div id=\"df-3fe58a93-e170-43ad-907f-e434ee797c75\">\n",
              "    <div class=\"colab-df-container\">\n",
              "      <div>\n",
              "<style scoped>\n",
              "    .dataframe tbody tr th:only-of-type {\n",
              "        vertical-align: middle;\n",
              "    }\n",
              "\n",
              "    .dataframe tbody tr th {\n",
              "        vertical-align: top;\n",
              "    }\n",
              "\n",
              "    .dataframe thead th {\n",
              "        text-align: right;\n",
              "    }\n",
              "</style>\n",
              "<table border=\"1\" class=\"dataframe\">\n",
              "  <thead>\n",
              "    <tr style=\"text-align: right;\">\n",
              "      <th></th>\n",
              "      <th>member_casual</th>\n",
              "      <th>day_of_week</th>\n",
              "      <th>ride_duration</th>\n",
              "    </tr>\n",
              "  </thead>\n",
              "  <tbody>\n",
              "    <tr>\n",
              "      <th>0</th>\n",
              "      <td>casual</td>\n",
              "      <td>Friday</td>\n",
              "      <td>28.046850</td>\n",
              "    </tr>\n",
              "    <tr>\n",
              "      <th>1</th>\n",
              "      <td>casual</td>\n",
              "      <td>Monday</td>\n",
              "      <td>29.189675</td>\n",
              "    </tr>\n",
              "    <tr>\n",
              "      <th>2</th>\n",
              "      <td>casual</td>\n",
              "      <td>Saturday</td>\n",
              "      <td>32.617876</td>\n",
              "    </tr>\n",
              "    <tr>\n",
              "      <th>3</th>\n",
              "      <td>casual</td>\n",
              "      <td>Sunday</td>\n",
              "      <td>34.060572</td>\n",
              "    </tr>\n",
              "    <tr>\n",
              "      <th>4</th>\n",
              "      <td>casual</td>\n",
              "      <td>Thursday</td>\n",
              "      <td>25.550397</td>\n",
              "    </tr>\n",
              "    <tr>\n",
              "      <th>5</th>\n",
              "      <td>casual</td>\n",
              "      <td>Tuesday</td>\n",
              "      <td>25.825316</td>\n",
              "    </tr>\n",
              "    <tr>\n",
              "      <th>6</th>\n",
              "      <td>casual</td>\n",
              "      <td>Wednesday</td>\n",
              "      <td>24.752198</td>\n",
              "    </tr>\n",
              "    <tr>\n",
              "      <th>7</th>\n",
              "      <td>member</td>\n",
              "      <td>Friday</td>\n",
              "      <td>12.531630</td>\n",
              "    </tr>\n",
              "    <tr>\n",
              "      <th>8</th>\n",
              "      <td>member</td>\n",
              "      <td>Monday</td>\n",
              "      <td>12.270885</td>\n",
              "    </tr>\n",
              "    <tr>\n",
              "      <th>9</th>\n",
              "      <td>member</td>\n",
              "      <td>Saturday</td>\n",
              "      <td>14.140955</td>\n",
              "    </tr>\n",
              "    <tr>\n",
              "      <th>10</th>\n",
              "      <td>member</td>\n",
              "      <td>Sunday</td>\n",
              "      <td>14.032259</td>\n",
              "    </tr>\n",
              "    <tr>\n",
              "      <th>11</th>\n",
              "      <td>member</td>\n",
              "      <td>Thursday</td>\n",
              "      <td>12.293652</td>\n",
              "    </tr>\n",
              "    <tr>\n",
              "      <th>12</th>\n",
              "      <td>member</td>\n",
              "      <td>Tuesday</td>\n",
              "      <td>12.130285</td>\n",
              "    </tr>\n",
              "    <tr>\n",
              "      <th>13</th>\n",
              "      <td>member</td>\n",
              "      <td>Wednesday</td>\n",
              "      <td>12.105606</td>\n",
              "    </tr>\n",
              "  </tbody>\n",
              "</table>\n",
              "</div>\n",
              "      <button class=\"colab-df-convert\" onclick=\"convertToInteractive('df-3fe58a93-e170-43ad-907f-e434ee797c75')\"\n",
              "              title=\"Convert this dataframe to an interactive table.\"\n",
              "              style=\"display:none;\">\n",
              "        \n",
              "  <svg xmlns=\"http://www.w3.org/2000/svg\" height=\"24px\"viewBox=\"0 0 24 24\"\n",
              "       width=\"24px\">\n",
              "    <path d=\"M0 0h24v24H0V0z\" fill=\"none\"/>\n",
              "    <path d=\"M18.56 5.44l.94 2.06.94-2.06 2.06-.94-2.06-.94-.94-2.06-.94 2.06-2.06.94zm-11 1L8.5 8.5l.94-2.06 2.06-.94-2.06-.94L8.5 2.5l-.94 2.06-2.06.94zm10 10l.94 2.06.94-2.06 2.06-.94-2.06-.94-.94-2.06-.94 2.06-2.06.94z\"/><path d=\"M17.41 7.96l-1.37-1.37c-.4-.4-.92-.59-1.43-.59-.52 0-1.04.2-1.43.59L10.3 9.45l-7.72 7.72c-.78.78-.78 2.05 0 2.83L4 21.41c.39.39.9.59 1.41.59.51 0 1.02-.2 1.41-.59l7.78-7.78 2.81-2.81c.8-.78.8-2.07 0-2.86zM5.41 20L4 18.59l7.72-7.72 1.47 1.35L5.41 20z\"/>\n",
              "  </svg>\n",
              "      </button>\n",
              "      \n",
              "  <style>\n",
              "    .colab-df-container {\n",
              "      display:flex;\n",
              "      flex-wrap:wrap;\n",
              "      gap: 12px;\n",
              "    }\n",
              "\n",
              "    .colab-df-convert {\n",
              "      background-color: #E8F0FE;\n",
              "      border: none;\n",
              "      border-radius: 50%;\n",
              "      cursor: pointer;\n",
              "      display: none;\n",
              "      fill: #1967D2;\n",
              "      height: 32px;\n",
              "      padding: 0 0 0 0;\n",
              "      width: 32px;\n",
              "    }\n",
              "\n",
              "    .colab-df-convert:hover {\n",
              "      background-color: #E2EBFA;\n",
              "      box-shadow: 0px 1px 2px rgba(60, 64, 67, 0.3), 0px 1px 3px 1px rgba(60, 64, 67, 0.15);\n",
              "      fill: #174EA6;\n",
              "    }\n",
              "\n",
              "    [theme=dark] .colab-df-convert {\n",
              "      background-color: #3B4455;\n",
              "      fill: #D2E3FC;\n",
              "    }\n",
              "\n",
              "    [theme=dark] .colab-df-convert:hover {\n",
              "      background-color: #434B5C;\n",
              "      box-shadow: 0px 1px 3px 1px rgba(0, 0, 0, 0.15);\n",
              "      filter: drop-shadow(0px 1px 2px rgba(0, 0, 0, 0.3));\n",
              "      fill: #FFFFFF;\n",
              "    }\n",
              "  </style>\n",
              "\n",
              "      <script>\n",
              "        const buttonEl =\n",
              "          document.querySelector('#df-3fe58a93-e170-43ad-907f-e434ee797c75 button.colab-df-convert');\n",
              "        buttonEl.style.display =\n",
              "          google.colab.kernel.accessAllowed ? 'block' : 'none';\n",
              "\n",
              "        async function convertToInteractive(key) {\n",
              "          const element = document.querySelector('#df-3fe58a93-e170-43ad-907f-e434ee797c75');\n",
              "          const dataTable =\n",
              "            await google.colab.kernel.invokeFunction('convertToInteractive',\n",
              "                                                     [key], {});\n",
              "          if (!dataTable) return;\n",
              "\n",
              "          const docLinkHtml = 'Like what you see? Visit the ' +\n",
              "            '<a target=\"_blank\" href=https://colab.research.google.com/notebooks/data_table.ipynb>data table notebook</a>'\n",
              "            + ' to learn more about interactive tables.';\n",
              "          element.innerHTML = '';\n",
              "          dataTable['output_type'] = 'display_data';\n",
              "          await google.colab.output.renderOutput(dataTable, element);\n",
              "          const docLink = document.createElement('div');\n",
              "          docLink.innerHTML = docLinkHtml;\n",
              "          element.appendChild(docLink);\n",
              "        }\n",
              "      </script>\n",
              "    </div>\n",
              "  </div>\n",
              "  "
            ]
          },
          "metadata": {},
          "execution_count": 47
        }
      ],
      "source": [
        "avg_ride_duration = df.groupby(['member_casual', 'day_of_week'], as_index=False)['ride_duration'].mean()\n",
        "avg_ride_duration"
      ],
      "id": "cc09f6c3"
    },
    {
      "cell_type": "code",
      "execution_count": null,
      "metadata": {
        "id": "adc252a2",
        "colab": {
          "base_uri": "https://localhost:8080/",
          "height": 381
        },
        "outputId": "7578be10-bd85-47e5-cf05-61702b2e296b"
      },
      "outputs": [
        {
          "output_type": "display_data",
          "data": {
            "text/plain": [
              "<Figure size 1080x432 with 2 Axes>"
            ],
            "image/png": "[encoded data removed]"
          },
          "metadata": {
            "needs_background": "light"
          }
        }
      ],
      "source": [
        "fig, axes = plt.subplots(1, 2, figsize=(15,6))\n",
        "axes[0] = sns.barplot(ax=axes[0],\n",
        "                      x='member_casual', y='ride_duration',\n",
        "                      data=avg_ride_duration,\n",
        "                      ci=None)\n",
        "axes[1] = sns.barplot(ax=axes[1], \n",
        "                      x='day_of_week', y='ride_duration',\n",
        "                      data=avg_ride_duration,\n",
        "                      ci=None,\n",
        "                      hue='member_casual',\n",
        "                      order=day_order)\n",
        "plt.show()"
      ],
      "id": "adc252a2"
    },
    {
      "cell_type": "markdown",
      "metadata": {
        "id": "c474f8f4"
      },
      "source": [
        "- Rata-rata durasi bersepeda pengendara biasa lebih tinggi daripada pengendara anggota. Rata-rata, pengendara biasa menghabiskan waktu 25 - 35 menit setiap hari untuk bersepeda. Pengendara anggota menghabiskan waktu rata-rata 12 - 15 menit setiap hari.\n",
        "- Durasi bersepeda pengendara anggota konsisten di setiap hari dalam seminggu. \n",
        "- Durasi bersepeda pengendara biasa di bawah 30 menit pada hari kerja, namun durasi bersepeda meningkat menjadi 32 - 34 menit pada akhir pekan."
      ],
      "id": "c474f8f4"
    },
    {
      "cell_type": "markdown",
      "metadata": {
        "id": "23c0a019"
      },
      "source": [
        "## Kesimpulan\n",
        "---\n",
        "Dengan menganalisis dataset, kami sampai pada kesimpulan yang menarik:\n",
        "- Sebagian besar sepeda digunakan oleh pengendara anggota. \n",
        "- Sebagian besar pengendara lebih memilih sepeda listrik, dan bahkan lebih populer di kalangan pengendara biasa.\n",
        "- Jumlah pengendara mencapai puncaknya selama musim panas (pada bulan Juni, Juli, dan Agustus). Peningkatan ini sebagian besar disebabkan oleh tingginya jumlah pengendara kasual selama musim panas.\n",
        "- Pengendara member kebanyakan menyewa sepeda pada hari kerja, sedangkan pengendara kasual kebanyakan pada akhir pekan.\n",
        "- Pukul 8.00 pagi dan 17.00 sore adalah \"jam sibuk\" bagi pengendara member. Untuk pengendara kasual, lebih tersebar dari pagi hingga sore hari, dan mencapai puncaknya pada pukul 17.00 sore.\n",
        "- Pengendara kasual menghabiskan lebih banyak waktu untuk bersepeda. Rata-rata pengendara kasual menghabiskan waktu 28 menit untuk bersepeda setiap harinya, sedangkan pengendara member menghabiskan waktu 12 menit setiap harinya.\n",
        "- Durasi bersepeda untuk pengendara member cenderung stagnan selama seminggu, sedangkan untuk pengendara casual terjadi peningkatan durasi bersepeda selama akhir pekan."
      ],
      "id": "23c0a019"
    },
    {
      "cell_type": "markdown",
      "metadata": {
        "id": "0012c310"
      },
      "source": [
        "## Rekomendasi Bisnis\n",
        "---\n",
        "1. Memperkenalkan Weekend Pass atau tiket akhir pekan. Weekend Pass ditargetkan untuk pengendara kasual yang kebanyakan menyewa sepeda selama akhir pekan. Weekend Pass akan memiliki harga yang lebih murah dibandingkan annual pass atau tiket tahunan, namun hanya dapat digunakan pada hari Jumat, Sabtu, dan Minggu.\n",
        "\n",
        "2. Buat kampanye poin reward; berikan poin reward kepada pengguna yang diakumulasikan berdasarkan durasi bersepeda. Karena durasi berkendara pengguna biasa lebih tinggi daripada pengguna member, mereka akan mendapatkan keuntungan lebih dari kampanye ini. Tawarkan diskon keanggotaan ketika mereka mencapai poin tertentu untuk mengubah mereka menjadi anggota Cyclistic.\n",
        "\n",
        "3. Lakukan kampanye strategis selama musim panas. Mengingat jumlah pengendara sepeda mencapai puncaknya di musim panas, kita dapat melakukan kampanye dan iklan strategis untuk menjangkau lebih banyak audiens."
      ],
      "id": "0012c310"
    },
    {
      "cell_type": "markdown",
      "metadata": {
        "id": "ee48e837"
      },
      "source": [
        "## Eksplorasi Masa Depan\n",
        "---\n",
        "Untuk mendapatkan lebih banyak wawasan tentang perilaku pengguna sepeda, lebih banyak data dapat dikumpulkan dan dianalisis. \n",
        "- Demografi pengguna, seperti pekerjaan dan usia pengendara.\n",
        "- Termasuk data tentang apakah pengendara biasa menggunakan tiket sekali jalan atau tiket sehari penuh."
      ],
      "id": "ee48e837"
    }
  ],
  "metadata": {
    "colab": {
      "collapsed_sections": [
        "caebad48",
        "23c0a019",
        "0012c310"
      ],
      "provenance": []
    },
    "kernelspec": {
      "display_name": "Python 3 (ipykernel)",
      "language": "python",
      "name": "python3"
    },
    "language_info": {
      "codemirror_mode": {
        "name": "ipython",
        "version": 3
      },
      "file_extension": ".py",
      "mimetype": "text/x-python",
      "name": "python",
      "nbconvert_exporter": "python",
      "pygments_lexer": "ipython3",
      "version": "3.9.12"
    }
  },
  "nbformat": 4,
  "nbformat_minor": 5
}